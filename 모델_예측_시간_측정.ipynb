{
  "nbformat": 4,
  "nbformat_minor": 0,
  "metadata": {
    "colab": {
      "provenance": [],
      "machine_shape": "hm",
      "mount_file_id": "1dihsSM3DMGwxrxSMQeaD7E4_3iO_rFqq",
      "authorship_tag": "ABX9TyNiFjElxCeVGZGDV4zlLDCx",
      "include_colab_link": true
    },
    "kernelspec": {
      "name": "python3",
      "display_name": "Python 3"
    },
    "language_info": {
      "name": "python"
    },
    "accelerator": "GPU",
    "gpuClass": "standard"
  },
  "cells": [
    {
      "cell_type": "markdown",
      "metadata": {
        "id": "view-in-github",
        "colab_type": "text"
      },
      "source": [
        "<a href=\"https://colab.research.google.com/github/An-Dongsun/Melanoma-Detection/blob/main/%EB%AA%A8%EB%8D%B8_%EC%98%88%EC%B8%A1_%EC%8B%9C%EA%B0%84_%EC%B8%A1%EC%A0%95.ipynb\" target=\"_parent\"><img src=\"https://colab.research.google.com/assets/colab-badge.svg\" alt=\"Open In Colab\"/></a>"
      ]
    },
    {
      "cell_type": "code",
      "execution_count": 1,
      "metadata": {
        "id": "y0sm7vWgMD1_"
      },
      "outputs": [],
      "source": [
        "# 필요할 라이브러리 불러오기\n",
        "import tensorflow as tf\n",
        "import keras\n",
        "import numpy as np\n",
        "from keras.preprocessing import image\n",
        "\n",
        "import time\n",
        "from functools import wraps\n",
        "\n",
        "# 예측\n",
        "from tensorflow.keras.preprocessing import image\n",
        "from tensorflow.keras.models import Model, Sequential, load_model"
      ]
    },
    {
      "cell_type": "code",
      "source": [
        "# 파이썬에서 시간을 측정하기 위한 함수생성\n",
        "def check_time(function):\n",
        "\t@wraps(function)\n",
        "\tdef measure(*args, **kwargs):\n",
        "\t\tstart_time = time.time()\n",
        "\t\tresult = function(*args, **kwargs)\n",
        "\t\tend_time = time.time()\n",
        "\t\tprint(f\"@check_time: {function.__name__} took {end_time - start_time}\")\n",
        "\t\treturn result\n",
        "\n",
        "\treturn measure"
      ],
      "metadata": {
        "id": "1Z2kB-OqOt1x"
      },
      "execution_count": 2,
      "outputs": []
    },
    {
      "cell_type": "code",
      "source": [
        "# 시드를 고정한다.\n",
        "np.random.seed(42)\n",
        "tf.random.set_seed(42)"
      ],
      "metadata": {
        "id": "G-sl509JPXbj"
      },
      "execution_count": 3,
      "outputs": []
    },
    {
      "cell_type": "code",
      "source": [
        "# 이미지 파일들 불러오기\n",
        "Dataset_directory = '/content/drive/MyDrive/CP1 데이터'\n",
        "\n",
        "train = tf.keras.preprocessing.image_dataset_from_directory(\n",
        "        Dataset_directory,\n",
        "        labels = \"inferred\",\n",
        "        label_mode = 'categorical', # 레이블이 범주형 벡터로 인코딩됨을 의미\n",
        "        class_names = {'BCC(기저 세포 암종)', 'benign(흑색종 양성)', 'malignant(흑색종 악성)', 'nevus(모반)', 'seborrheic_keratosis(지루성 각화증)'},\n",
        "        color_mode = \"rgb\",\n",
        "        batch_size = 32,\n",
        "        image_size = (256, 256),\n",
        "        shuffle = True,\n",
        "        seed = 42,\n",
        "        validation_split = 0.5,\n",
        "        subset = 'training',\n",
        "        interpolation = \"bilinear\",\n",
        "        follow_links = False,\n",
        "        crop_to_aspect_ratio = False,\n",
        ")"
      ],
      "metadata": {
        "colab": {
          "base_uri": "https://localhost:8080/"
        },
        "id": "xk3Td7u6Pe8f",
        "outputId": "78045d45-a455-4da0-9ad5-4242ae76d498"
      },
      "execution_count": 8,
      "outputs": [
        {
          "output_type": "stream",
          "name": "stdout",
          "text": [
            "Found 20053 files belonging to 5 classes.\n",
            "Using 10027 files for training.\n"
          ]
        }
      ]
    },
    {
      "cell_type": "code",
      "source": [
        "@check_time # 데코레이터 생성하여 활용\n",
        "def predict_time(model):\n",
        "    # 학습된 모델을 이용하여 예측하는 코드\n",
        "    model.predict(train, verbose = 1)"
      ],
      "metadata": {
        "id": "kbXOUSZ3PKkn"
      },
      "execution_count": 5,
      "outputs": []
    },
    {
      "cell_type": "markdown",
      "source": [
        "# ResNet50"
      ],
      "metadata": {
        "id": "LMURcusnR9DD"
      }
    },
    {
      "cell_type": "code",
      "source": [
        "# Model 불러오기\n",
        "model = load_model('/content/drive/MyDrive/CP1 데이터/resnet_base_model.h5')"
      ],
      "metadata": {
        "id": "A97EGZp6MXx5"
      },
      "execution_count": 21,
      "outputs": []
    },
    {
      "cell_type": "code",
      "source": [
        "predict_time(model)"
      ],
      "metadata": {
        "colab": {
          "base_uri": "https://localhost:8080/"
        },
        "id": "yncCiQXiSKXo",
        "outputId": "a731e08d-d047-4c6c-c9d3-14335805205c"
      },
      "execution_count": 22,
      "outputs": [
        {
          "output_type": "stream",
          "name": "stdout",
          "text": [
            "314/314 [==============================] - 106s 326ms/step\n",
            "@check_time: predict_time took 106.1233184337616\n"
          ]
        }
      ]
    },
    {
      "cell_type": "markdown",
      "source": [
        "# InceptionResNetV2"
      ],
      "metadata": {
        "id": "tdMSJas1SWiC"
      }
    },
    {
      "cell_type": "code",
      "source": [
        "# Model 불러오기\n",
        "InceptionResNetV2 = load_model('/content/drive/MyDrive/CP1 데이터/inception_resnet_model.h5')"
      ],
      "metadata": {
        "id": "GJAbggeBSdRk"
      },
      "execution_count": 11,
      "outputs": []
    },
    {
      "cell_type": "code",
      "source": [
        "predict_time(InceptionResNetV2)"
      ],
      "metadata": {
        "colab": {
          "base_uri": "https://localhost:8080/"
        },
        "id": "dw8FpOa8SlLS",
        "outputId": "dcf9d12b-84da-40c9-f2a0-a4e96a53ac47"
      },
      "execution_count": 12,
      "outputs": [
        {
          "output_type": "stream",
          "name": "stdout",
          "text": [
            "314/314 [==============================] - 110s 330ms/step\n",
            "@check_time: predict_time took 110.5268485546112\n"
          ]
        }
      ]
    },
    {
      "cell_type": "markdown",
      "source": [
        "# EfficientNetV2M"
      ],
      "metadata": {
        "id": "PV8SGwZZSy7P"
      }
    },
    {
      "cell_type": "code",
      "source": [
        "# Model 불러오기\n",
        "EfficientNetV2M = load_model('/content/drive/MyDrive/CP1 데이터/EfficientNet_V2M_model.h5')"
      ],
      "metadata": {
        "id": "3lk32AVXS2nt"
      },
      "execution_count": 13,
      "outputs": []
    },
    {
      "cell_type": "code",
      "source": [
        "predict_time(EfficientNetV2M)"
      ],
      "metadata": {
        "colab": {
          "base_uri": "https://localhost:8080/"
        },
        "id": "jAgmelEbS49b",
        "outputId": "11f23564-822b-4bfc-ec78-7260d5dc8248"
      },
      "execution_count": 14,
      "outputs": [
        {
          "output_type": "stream",
          "name": "stdout",
          "text": [
            "314/314 [==============================] - 113s 335ms/step\n",
            "@check_time: predict_time took 113.39181923866272\n"
          ]
        }
      ]
    },
    {
      "cell_type": "markdown",
      "source": [
        "# EfficientNetV2S"
      ],
      "metadata": {
        "id": "1VEXjEIETCpQ"
      }
    },
    {
      "cell_type": "code",
      "source": [
        "# Model 불러오기\n",
        "EfficientNetV2S = load_model('/content/drive/MyDrive/CP1 데이터/EfficientNet_V2M_model.h5')"
      ],
      "metadata": {
        "id": "AoXhSQdcTDoh"
      },
      "execution_count": 15,
      "outputs": []
    },
    {
      "cell_type": "code",
      "source": [
        "predict_time(EfficientNetV2S)"
      ],
      "metadata": {
        "colab": {
          "base_uri": "https://localhost:8080/"
        },
        "id": "BElBFIWNTFV5",
        "outputId": "54925ddc-4843-4907-8f69-6a8dec0432b6"
      },
      "execution_count": 16,
      "outputs": [
        {
          "output_type": "stream",
          "name": "stdout",
          "text": [
            "314/314 [==============================] - 110s 330ms/step\n",
            "@check_time: predict_time took 110.10868573188782\n"
          ]
        }
      ]
    },
    {
      "cell_type": "markdown",
      "source": [
        "# EfficientNetV2B3"
      ],
      "metadata": {
        "id": "fzI-aQF1TP8B"
      }
    },
    {
      "cell_type": "code",
      "source": [
        "# Model 불러오기\n",
        "EfficientNetV2B3 = load_model('/content/drive/MyDrive/CP1 데이터/EfficientNet_V2B3_model.h5')"
      ],
      "metadata": {
        "id": "5su33PEXTRDG"
      },
      "execution_count": 17,
      "outputs": []
    },
    {
      "cell_type": "code",
      "source": [
        "predict_time(EfficientNetV2B3)"
      ],
      "metadata": {
        "colab": {
          "base_uri": "https://localhost:8080/"
        },
        "id": "unQAIQycTSyE",
        "outputId": "fbce8c1b-b49c-4da4-b1d0-deae05412351"
      },
      "execution_count": 18,
      "outputs": [
        {
          "output_type": "stream",
          "name": "stdout",
          "text": [
            "314/314 [==============================] - 105s 317ms/step\n",
            "@check_time: predict_time took 105.26204776763916\n"
          ]
        }
      ]
    },
    {
      "cell_type": "markdown",
      "source": [
        "# EfficientNetV2B1"
      ],
      "metadata": {
        "id": "fj8bH6BOTY6f"
      }
    },
    {
      "cell_type": "code",
      "source": [
        "# Model 불러오기\n",
        "EfficientNetV2B1 = load_model('/content/drive/MyDrive/CP1 데이터/EfficientNet_V2B1_model.h5')"
      ],
      "metadata": {
        "id": "pO_nro3xTZ9s"
      },
      "execution_count": 19,
      "outputs": []
    },
    {
      "cell_type": "code",
      "source": [
        "predict_time(EfficientNetV2B1)"
      ],
      "metadata": {
        "colab": {
          "base_uri": "https://localhost:8080/"
        },
        "id": "DNgBvH5rTbT4",
        "outputId": "7f3cdb5d-1983-46f8-edb4-330e8191c5de"
      },
      "execution_count": 20,
      "outputs": [
        {
          "output_type": "stream",
          "name": "stdout",
          "text": [
            "314/314 [==============================] - 103s 313ms/step\n",
            "@check_time: predict_time took 103.27289056777954\n"
          ]
        }
      ]
    }
  ]
}