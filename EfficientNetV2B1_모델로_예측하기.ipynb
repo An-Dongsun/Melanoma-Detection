{
  "nbformat": 4,
  "nbformat_minor": 0,
  "metadata": {
    "colab": {
      "provenance": [],
      "collapsed_sections": []
    },
    "kernelspec": {
      "name": "python3",
      "display_name": "Python 3"
    },
    "language_info": {
      "name": "python"
    }
  },
  "cells": [
    {
      "cell_type": "code",
      "source": [
        "# 필요할 라이브러리 불러오기\n",
        "import tensorflow as tf\n",
        "import keras\n",
        "import numpy as np\n",
        "from keras.preprocessing import image\n",
        "\n",
        "# 전이학습 모델\n",
        "from tensorflow.keras.applications import EfficientNetV2B1\n",
        "\n",
        "# 예측\n",
        "from tensorflow.keras.preprocessing import image\n",
        "from tensorflow.keras.models import Model, Sequential, load_model"
      ],
      "metadata": {
        "id": "z-MXXSmuTeb7"
      },
      "execution_count": 1,
      "outputs": []
    },
    {
      "cell_type": "code",
      "source": [
        "# Model 불러오기\n",
        "EfficientNet_V2B1_model = load_model('/content/drive/MyDrive/CP1 데이터/EfficientNet_V2B1_model.h5')"
      ],
      "metadata": {
        "id": "goOvAmOJVWx3"
      },
      "execution_count": 2,
      "outputs": []
    },
    {
      "cell_type": "code",
      "source": [
        "def class_predic():\n",
        "    img = keras.preprocessing.image.load_img(f\"{input()}\", target_size=(256,256))\n",
        "    img_array = keras.preprocessing.image.img_to_array(img)\n",
        "    img_array = tf.expand_dims(img_array, 0)  # Create batch axis\n",
        "\n",
        "    predictions = EfficientNet_V2B1_model.predict(img_array)\n",
        "    score = predictions[0]\n",
        "\n",
        "    class_names = ('nevus(모반)', 'malignant(흑색종 악성)', 'benign(흑색종 양성)', 'seborrheic_keratosis(지루성 각화증)', 'BCC(기저 세포 암종)')\n",
        "\n",
        "    for i in range(len(class_names)):\n",
        "        if np.argmax(score) == i:\n",
        "            print(class_names[i])"
      ],
      "metadata": {
        "id": "w3XQBR5BWaRp"
      },
      "execution_count": 3,
      "outputs": []
    },
    {
      "cell_type": "code",
      "source": [
        "class_predic()"
      ],
      "metadata": {
        "colab": {
          "base_uri": "https://localhost:8080/"
        },
        "id": "mo3lbKaYbWp9",
        "outputId": "823f7a0d-5a92-416e-82ce-1e79ec89a952"
      },
      "execution_count": 4,
      "outputs": [
        {
          "output_type": "stream",
          "name": "stdout",
          "text": [
            "/content/drive/MyDrive/CP1 데이터/nevus(모반)/ISIC_0000093.jpg\n",
            "nevus(모반)\n"
          ]
        }
      ]
    }
  ]
}