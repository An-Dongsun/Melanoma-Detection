{
  "cells": [
    {
      "cell_type": "code",
      "execution_count": 1,
      "metadata": {
        "id": "z-MXXSmuTeb7"
      },
      "outputs": [
        {
          "name": "stdout",
          "output_type": "stream",
          "text": [
            "Init Plugin\n",
            "Init Graph Optimizer\n",
            "Init Kernel\n"
          ]
        }
      ],
      "source": [
        "# 필요할 라이브러리 불러오기\n",
        "import tensorflow as tf\n",
        "import keras\n",
        "import numpy as np\n",
        "from keras.preprocessing import image\n",
        "\n",
        "# 예측\n",
        "from tensorflow.keras.preprocessing import image\n",
        "from tensorflow.keras.models import Model, Sequential, load_model"
      ]
    },
    {
      "cell_type": "code",
      "execution_count": 2,
      "metadata": {
        "id": "goOvAmOJVWx3"
      },
      "outputs": [
        {
          "ename": "TypeError",
          "evalue": "('Keyword argument not understood:', 'keepdims')",
          "output_type": "error",
          "traceback": [
            "\u001b[0;31m---------------------------------------------------------------------------\u001b[0m",
            "\u001b[0;31mTypeError\u001b[0m                                 Traceback (most recent call last)",
            "\u001b[1;32m/Users/avalanche/Section6/CP1/Melanoma-Detection/EfficientNetV2B1_모델로_예측하기.ipynb 셀 2\u001b[0m in \u001b[0;36m<cell line: 2>\u001b[0;34m()\u001b[0m\n\u001b[1;32m      <a href='vscode-notebook-cell:/Users/avalanche/Section6/CP1/Melanoma-Detection/EfficientNetV2B1_%EB%AA%A8%EB%8D%B8%EB%A1%9C_%EC%98%88%EC%B8%A1%ED%95%98%EA%B8%B0.ipynb#W1sZmlsZQ%3D%3D?line=0'>1</a>\u001b[0m \u001b[39m# Model 불러오기\u001b[39;00m\n\u001b[0;32m----> <a href='vscode-notebook-cell:/Users/avalanche/Section6/CP1/Melanoma-Detection/EfficientNetV2B1_%EB%AA%A8%EB%8D%B8%EB%A1%9C_%EC%98%88%EC%B8%A1%ED%95%98%EA%B8%B0.ipynb#W1sZmlsZQ%3D%3D?line=1'>2</a>\u001b[0m EfficientNet_V2B1_model \u001b[39m=\u001b[39m load_model(\u001b[39m'\u001b[39;49m\u001b[39m/Users/avalanche/Section6/CP1/Melanoma-Detection/Melanoma_Detection_app/EfficientNet_V2B1_model5.h5\u001b[39;49m\u001b[39m'\u001b[39;49m)\n",
            "File \u001b[0;32m~/miniforge3/envs/CP1/lib/python3.8/site-packages/tensorflow/python/keras/saving/save.py:201\u001b[0m, in \u001b[0;36mload_model\u001b[0;34m(filepath, custom_objects, compile, options)\u001b[0m\n\u001b[1;32m    198\u001b[0m \u001b[39mwith\u001b[39;00m load_context\u001b[39m.\u001b[39mload_context(options):\n\u001b[1;32m    199\u001b[0m   \u001b[39mif\u001b[39;00m (h5py \u001b[39mis\u001b[39;00m \u001b[39mnot\u001b[39;00m \u001b[39mNone\u001b[39;00m \u001b[39mand\u001b[39;00m\n\u001b[1;32m    200\u001b[0m       (\u001b[39misinstance\u001b[39m(filepath, h5py\u001b[39m.\u001b[39mFile) \u001b[39mor\u001b[39;00m h5py\u001b[39m.\u001b[39mis_hdf5(filepath))):\n\u001b[0;32m--> 201\u001b[0m     \u001b[39mreturn\u001b[39;00m hdf5_format\u001b[39m.\u001b[39;49mload_model_from_hdf5(filepath, custom_objects,\n\u001b[1;32m    202\u001b[0m                                             \u001b[39mcompile\u001b[39;49m)\n\u001b[1;32m    204\u001b[0m   filepath \u001b[39m=\u001b[39m path_to_string(filepath)\n\u001b[1;32m    205\u001b[0m   \u001b[39mif\u001b[39;00m \u001b[39misinstance\u001b[39m(filepath, \u001b[39mstr\u001b[39m):\n",
            "File \u001b[0;32m~/miniforge3/envs/CP1/lib/python3.8/site-packages/tensorflow/python/keras/saving/hdf5_format.py:180\u001b[0m, in \u001b[0;36mload_model_from_hdf5\u001b[0;34m(filepath, custom_objects, compile)\u001b[0m\n\u001b[1;32m    178\u001b[0m   model_config \u001b[39m=\u001b[39m model_config\u001b[39m.\u001b[39mdecode(\u001b[39m'\u001b[39m\u001b[39mutf-8\u001b[39m\u001b[39m'\u001b[39m)\n\u001b[1;32m    179\u001b[0m model_config \u001b[39m=\u001b[39m json_utils\u001b[39m.\u001b[39mdecode(model_config)\n\u001b[0;32m--> 180\u001b[0m model \u001b[39m=\u001b[39m model_config_lib\u001b[39m.\u001b[39;49mmodel_from_config(model_config,\n\u001b[1;32m    181\u001b[0m                                            custom_objects\u001b[39m=\u001b[39;49mcustom_objects)\n\u001b[1;32m    183\u001b[0m \u001b[39m# set weights\u001b[39;00m\n\u001b[1;32m    184\u001b[0m load_weights_from_hdf5_group(f[\u001b[39m'\u001b[39m\u001b[39mmodel_weights\u001b[39m\u001b[39m'\u001b[39m], model\u001b[39m.\u001b[39mlayers)\n",
            "File \u001b[0;32m~/miniforge3/envs/CP1/lib/python3.8/site-packages/tensorflow/python/keras/saving/model_config.py:59\u001b[0m, in \u001b[0;36mmodel_from_config\u001b[0;34m(config, custom_objects)\u001b[0m\n\u001b[1;32m     55\u001b[0m   \u001b[39mraise\u001b[39;00m \u001b[39mTypeError\u001b[39;00m(\u001b[39m'\u001b[39m\u001b[39m`model_from_config` expects a dictionary, not a list. \u001b[39m\u001b[39m'\u001b[39m\n\u001b[1;32m     56\u001b[0m                   \u001b[39m'\u001b[39m\u001b[39mMaybe you meant to use \u001b[39m\u001b[39m'\u001b[39m\n\u001b[1;32m     57\u001b[0m                   \u001b[39m'\u001b[39m\u001b[39m`Sequential.from_config(config)`?\u001b[39m\u001b[39m'\u001b[39m)\n\u001b[1;32m     58\u001b[0m \u001b[39mfrom\u001b[39;00m \u001b[39mtensorflow\u001b[39;00m\u001b[39m.\u001b[39;00m\u001b[39mpython\u001b[39;00m\u001b[39m.\u001b[39;00m\u001b[39mkeras\u001b[39;00m\u001b[39m.\u001b[39;00m\u001b[39mlayers\u001b[39;00m \u001b[39mimport\u001b[39;00m deserialize  \u001b[39m# pylint: disable=g-import-not-at-top\u001b[39;00m\n\u001b[0;32m---> 59\u001b[0m \u001b[39mreturn\u001b[39;00m deserialize(config, custom_objects\u001b[39m=\u001b[39;49mcustom_objects)\n",
            "File \u001b[0;32m~/miniforge3/envs/CP1/lib/python3.8/site-packages/tensorflow/python/keras/layers/serialization.py:159\u001b[0m, in \u001b[0;36mdeserialize\u001b[0;34m(config, custom_objects)\u001b[0m\n\u001b[1;32m    148\u001b[0m \u001b[39m\"\"\"Instantiates a layer from a config dictionary.\u001b[39;00m\n\u001b[1;32m    149\u001b[0m \n\u001b[1;32m    150\u001b[0m \u001b[39mArgs:\u001b[39;00m\n\u001b[0;32m   (...)\u001b[0m\n\u001b[1;32m    156\u001b[0m \u001b[39m    Layer instance (may be Model, Sequential, Network, Layer...)\u001b[39;00m\n\u001b[1;32m    157\u001b[0m \u001b[39m\"\"\"\u001b[39;00m\n\u001b[1;32m    158\u001b[0m populate_deserializable_objects()\n\u001b[0;32m--> 159\u001b[0m \u001b[39mreturn\u001b[39;00m generic_utils\u001b[39m.\u001b[39;49mdeserialize_keras_object(\n\u001b[1;32m    160\u001b[0m     config,\n\u001b[1;32m    161\u001b[0m     module_objects\u001b[39m=\u001b[39;49mLOCAL\u001b[39m.\u001b[39;49mALL_OBJECTS,\n\u001b[1;32m    162\u001b[0m     custom_objects\u001b[39m=\u001b[39;49mcustom_objects,\n\u001b[1;32m    163\u001b[0m     printable_module_name\u001b[39m=\u001b[39;49m\u001b[39m'\u001b[39;49m\u001b[39mlayer\u001b[39;49m\u001b[39m'\u001b[39;49m)\n",
            "File \u001b[0;32m~/miniforge3/envs/CP1/lib/python3.8/site-packages/tensorflow/python/keras/utils/generic_utils.py:668\u001b[0m, in \u001b[0;36mdeserialize_keras_object\u001b[0;34m(identifier, module_objects, custom_objects, printable_module_name)\u001b[0m\n\u001b[1;32m    665\u001b[0m custom_objects \u001b[39m=\u001b[39m custom_objects \u001b[39mor\u001b[39;00m {}\n\u001b[1;32m    667\u001b[0m \u001b[39mif\u001b[39;00m \u001b[39m'\u001b[39m\u001b[39mcustom_objects\u001b[39m\u001b[39m'\u001b[39m \u001b[39min\u001b[39;00m arg_spec\u001b[39m.\u001b[39margs:\n\u001b[0;32m--> 668\u001b[0m   deserialized_obj \u001b[39m=\u001b[39m \u001b[39mcls\u001b[39;49m\u001b[39m.\u001b[39;49mfrom_config(\n\u001b[1;32m    669\u001b[0m       cls_config,\n\u001b[1;32m    670\u001b[0m       custom_objects\u001b[39m=\u001b[39;49m\u001b[39mdict\u001b[39;49m(\n\u001b[1;32m    671\u001b[0m           \u001b[39mlist\u001b[39;49m(_GLOBAL_CUSTOM_OBJECTS\u001b[39m.\u001b[39;49mitems()) \u001b[39m+\u001b[39;49m\n\u001b[1;32m    672\u001b[0m           \u001b[39mlist\u001b[39;49m(custom_objects\u001b[39m.\u001b[39;49mitems())))\n\u001b[1;32m    673\u001b[0m \u001b[39melse\u001b[39;00m:\n\u001b[1;32m    674\u001b[0m   \u001b[39mwith\u001b[39;00m CustomObjectScope(custom_objects):\n",
            "File \u001b[0;32m~/miniforge3/envs/CP1/lib/python3.8/site-packages/tensorflow/python/keras/engine/functional.py:668\u001b[0m, in \u001b[0;36mFunctional.from_config\u001b[0;34m(cls, config, custom_objects)\u001b[0m\n\u001b[1;32m    653\u001b[0m \u001b[39m\"\"\"Instantiates a Model from its config (output of `get_config()`).\u001b[39;00m\n\u001b[1;32m    654\u001b[0m \n\u001b[1;32m    655\u001b[0m \u001b[39mArgs:\u001b[39;00m\n\u001b[0;32m   (...)\u001b[0m\n\u001b[1;32m    665\u001b[0m \u001b[39m    ValueError: In case of improperly formatted config dict.\u001b[39;00m\n\u001b[1;32m    666\u001b[0m \u001b[39m\"\"\"\u001b[39;00m\n\u001b[1;32m    667\u001b[0m \u001b[39mwith\u001b[39;00m generic_utils\u001b[39m.\u001b[39mSharedObjectLoadingScope():\n\u001b[0;32m--> 668\u001b[0m   input_tensors, output_tensors, created_layers \u001b[39m=\u001b[39m reconstruct_from_config(\n\u001b[1;32m    669\u001b[0m       config, custom_objects)\n\u001b[1;32m    670\u001b[0m   model \u001b[39m=\u001b[39m \u001b[39mcls\u001b[39m(inputs\u001b[39m=\u001b[39minput_tensors, outputs\u001b[39m=\u001b[39moutput_tensors,\n\u001b[1;32m    671\u001b[0m               name\u001b[39m=\u001b[39mconfig\u001b[39m.\u001b[39mget(\u001b[39m'\u001b[39m\u001b[39mname\u001b[39m\u001b[39m'\u001b[39m))\n\u001b[1;32m    672\u001b[0m   connect_ancillary_layers(model, created_layers)\n",
            "File \u001b[0;32m~/miniforge3/envs/CP1/lib/python3.8/site-packages/tensorflow/python/keras/engine/functional.py:1279\u001b[0m, in \u001b[0;36mreconstruct_from_config\u001b[0;34m(config, custom_objects, created_layers)\u001b[0m\n\u001b[1;32m   1277\u001b[0m \u001b[39m# First, we create all layers and enqueue nodes to be processed\u001b[39;00m\n\u001b[1;32m   1278\u001b[0m \u001b[39mfor\u001b[39;00m layer_data \u001b[39min\u001b[39;00m config[\u001b[39m'\u001b[39m\u001b[39mlayers\u001b[39m\u001b[39m'\u001b[39m]:\n\u001b[0;32m-> 1279\u001b[0m   process_layer(layer_data)\n\u001b[1;32m   1280\u001b[0m \u001b[39m# Then we process nodes in order of layer depth.\u001b[39;00m\n\u001b[1;32m   1281\u001b[0m \u001b[39m# Nodes that cannot yet be processed (if the inbound node\u001b[39;00m\n\u001b[1;32m   1282\u001b[0m \u001b[39m# does not yet exist) are re-enqueued, and the process\u001b[39;00m\n\u001b[1;32m   1283\u001b[0m \u001b[39m# is repeated until all nodes are processed.\u001b[39;00m\n\u001b[1;32m   1284\u001b[0m \u001b[39mwhile\u001b[39;00m unprocessed_nodes:\n",
            "File \u001b[0;32m~/miniforge3/envs/CP1/lib/python3.8/site-packages/tensorflow/python/keras/engine/functional.py:1261\u001b[0m, in \u001b[0;36mreconstruct_from_config.<locals>.process_layer\u001b[0;34m(layer_data)\u001b[0m\n\u001b[1;32m   1257\u001b[0m \u001b[39melse\u001b[39;00m:\n\u001b[1;32m   1258\u001b[0m   \u001b[39m# Instantiate layer.\u001b[39;00m\n\u001b[1;32m   1259\u001b[0m   \u001b[39mfrom\u001b[39;00m \u001b[39mtensorflow\u001b[39;00m\u001b[39m.\u001b[39;00m\u001b[39mpython\u001b[39;00m\u001b[39m.\u001b[39;00m\u001b[39mkeras\u001b[39;00m\u001b[39m.\u001b[39;00m\u001b[39mlayers\u001b[39;00m \u001b[39mimport\u001b[39;00m deserialize \u001b[39mas\u001b[39;00m deserialize_layer  \u001b[39m# pylint: disable=g-import-not-at-top\u001b[39;00m\n\u001b[0;32m-> 1261\u001b[0m   layer \u001b[39m=\u001b[39m deserialize_layer(layer_data, custom_objects\u001b[39m=\u001b[39;49mcustom_objects)\n\u001b[1;32m   1262\u001b[0m   created_layers[layer_name] \u001b[39m=\u001b[39m layer\n\u001b[1;32m   1264\u001b[0m node_count_by_layer[layer] \u001b[39m=\u001b[39m \u001b[39mint\u001b[39m(_should_skip_first_node(layer))\n",
            "File \u001b[0;32m~/miniforge3/envs/CP1/lib/python3.8/site-packages/tensorflow/python/keras/layers/serialization.py:159\u001b[0m, in \u001b[0;36mdeserialize\u001b[0;34m(config, custom_objects)\u001b[0m\n\u001b[1;32m    148\u001b[0m \u001b[39m\"\"\"Instantiates a layer from a config dictionary.\u001b[39;00m\n\u001b[1;32m    149\u001b[0m \n\u001b[1;32m    150\u001b[0m \u001b[39mArgs:\u001b[39;00m\n\u001b[0;32m   (...)\u001b[0m\n\u001b[1;32m    156\u001b[0m \u001b[39m    Layer instance (may be Model, Sequential, Network, Layer...)\u001b[39;00m\n\u001b[1;32m    157\u001b[0m \u001b[39m\"\"\"\u001b[39;00m\n\u001b[1;32m    158\u001b[0m populate_deserializable_objects()\n\u001b[0;32m--> 159\u001b[0m \u001b[39mreturn\u001b[39;00m generic_utils\u001b[39m.\u001b[39;49mdeserialize_keras_object(\n\u001b[1;32m    160\u001b[0m     config,\n\u001b[1;32m    161\u001b[0m     module_objects\u001b[39m=\u001b[39;49mLOCAL\u001b[39m.\u001b[39;49mALL_OBJECTS,\n\u001b[1;32m    162\u001b[0m     custom_objects\u001b[39m=\u001b[39;49mcustom_objects,\n\u001b[1;32m    163\u001b[0m     printable_module_name\u001b[39m=\u001b[39;49m\u001b[39m'\u001b[39;49m\u001b[39mlayer\u001b[39;49m\u001b[39m'\u001b[39;49m)\n",
            "File \u001b[0;32m~/miniforge3/envs/CP1/lib/python3.8/site-packages/tensorflow/python/keras/utils/generic_utils.py:675\u001b[0m, in \u001b[0;36mdeserialize_keras_object\u001b[0;34m(identifier, module_objects, custom_objects, printable_module_name)\u001b[0m\n\u001b[1;32m    673\u001b[0m   \u001b[39melse\u001b[39;00m:\n\u001b[1;32m    674\u001b[0m     \u001b[39mwith\u001b[39;00m CustomObjectScope(custom_objects):\n\u001b[0;32m--> 675\u001b[0m       deserialized_obj \u001b[39m=\u001b[39m \u001b[39mcls\u001b[39;49m\u001b[39m.\u001b[39;49mfrom_config(cls_config)\n\u001b[1;32m    676\u001b[0m \u001b[39melse\u001b[39;00m:\n\u001b[1;32m    677\u001b[0m   \u001b[39m# Then `cls` may be a function returning a class.\u001b[39;00m\n\u001b[1;32m    678\u001b[0m   \u001b[39m# in this case by convention `config` holds\u001b[39;00m\n\u001b[1;32m    679\u001b[0m   \u001b[39m# the kwargs of the function.\u001b[39;00m\n\u001b[1;32m    680\u001b[0m   custom_objects \u001b[39m=\u001b[39m custom_objects \u001b[39mor\u001b[39;00m {}\n",
            "File \u001b[0;32m~/miniforge3/envs/CP1/lib/python3.8/site-packages/tensorflow/python/keras/engine/base_layer.py:740\u001b[0m, in \u001b[0;36mLayer.from_config\u001b[0;34m(cls, config)\u001b[0m\n\u001b[1;32m    724\u001b[0m \u001b[39m@classmethod\u001b[39m\n\u001b[1;32m    725\u001b[0m \u001b[39mdef\u001b[39;00m \u001b[39mfrom_config\u001b[39m(\u001b[39mcls\u001b[39m, config):\n\u001b[1;32m    726\u001b[0m   \u001b[39m\"\"\"Creates a layer from its config.\u001b[39;00m\n\u001b[1;32m    727\u001b[0m \n\u001b[1;32m    728\u001b[0m \u001b[39m  This method is the reverse of `get_config`,\u001b[39;00m\n\u001b[0;32m   (...)\u001b[0m\n\u001b[1;32m    738\u001b[0m \u001b[39m      A layer instance.\u001b[39;00m\n\u001b[1;32m    739\u001b[0m \u001b[39m  \"\"\"\u001b[39;00m\n\u001b[0;32m--> 740\u001b[0m   \u001b[39mreturn\u001b[39;00m \u001b[39mcls\u001b[39;49m(\u001b[39m*\u001b[39;49m\u001b[39m*\u001b[39;49mconfig)\n",
            "File \u001b[0;32m~/miniforge3/envs/CP1/lib/python3.8/site-packages/tensorflow/python/keras/layers/pooling.py:1023\u001b[0m, in \u001b[0;36mGlobalPooling2D.__init__\u001b[0;34m(self, data_format, **kwargs)\u001b[0m\n\u001b[1;32m   1022\u001b[0m \u001b[39mdef\u001b[39;00m \u001b[39m__init__\u001b[39m(\u001b[39mself\u001b[39m, data_format\u001b[39m=\u001b[39m\u001b[39mNone\u001b[39;00m, \u001b[39m*\u001b[39m\u001b[39m*\u001b[39mkwargs):\n\u001b[0;32m-> 1023\u001b[0m   \u001b[39msuper\u001b[39;49m(GlobalPooling2D, \u001b[39mself\u001b[39;49m)\u001b[39m.\u001b[39;49m\u001b[39m__init__\u001b[39;49m(\u001b[39m*\u001b[39;49m\u001b[39m*\u001b[39;49mkwargs)\n\u001b[1;32m   1024\u001b[0m   \u001b[39mself\u001b[39m\u001b[39m.\u001b[39mdata_format \u001b[39m=\u001b[39m conv_utils\u001b[39m.\u001b[39mnormalize_data_format(data_format)\n\u001b[1;32m   1025\u001b[0m   \u001b[39mself\u001b[39m\u001b[39m.\u001b[39minput_spec \u001b[39m=\u001b[39m InputSpec(ndim\u001b[39m=\u001b[39m\u001b[39m4\u001b[39m)\n",
            "File \u001b[0;32m~/miniforge3/envs/CP1/lib/python3.8/site-packages/tensorflow/python/training/tracking/base.py:522\u001b[0m, in \u001b[0;36mno_automatic_dependency_tracking.<locals>._method_wrapper\u001b[0;34m(self, *args, **kwargs)\u001b[0m\n\u001b[1;32m    520\u001b[0m \u001b[39mself\u001b[39m\u001b[39m.\u001b[39m_self_setattr_tracking \u001b[39m=\u001b[39m \u001b[39mFalse\u001b[39;00m  \u001b[39m# pylint: disable=protected-access\u001b[39;00m\n\u001b[1;32m    521\u001b[0m \u001b[39mtry\u001b[39;00m:\n\u001b[0;32m--> 522\u001b[0m   result \u001b[39m=\u001b[39m method(\u001b[39mself\u001b[39;49m, \u001b[39m*\u001b[39;49margs, \u001b[39m*\u001b[39;49m\u001b[39m*\u001b[39;49mkwargs)\n\u001b[1;32m    523\u001b[0m \u001b[39mfinally\u001b[39;00m:\n\u001b[1;32m    524\u001b[0m   \u001b[39mself\u001b[39m\u001b[39m.\u001b[39m_self_setattr_tracking \u001b[39m=\u001b[39m previous_value  \u001b[39m# pylint: disable=protected-access\u001b[39;00m\n",
            "File \u001b[0;32m~/miniforge3/envs/CP1/lib/python3.8/site-packages/tensorflow/python/keras/engine/base_layer.py:347\u001b[0m, in \u001b[0;36mLayer.__init__\u001b[0;34m(self, trainable, name, dtype, dynamic, **kwargs)\u001b[0m\n\u001b[1;32m    336\u001b[0m allowed_kwargs \u001b[39m=\u001b[39m {\n\u001b[1;32m    337\u001b[0m     \u001b[39m'\u001b[39m\u001b[39minput_dim\u001b[39m\u001b[39m'\u001b[39m,\n\u001b[1;32m    338\u001b[0m     \u001b[39m'\u001b[39m\u001b[39minput_shape\u001b[39m\u001b[39m'\u001b[39m,\n\u001b[0;32m   (...)\u001b[0m\n\u001b[1;32m    344\u001b[0m     \u001b[39m'\u001b[39m\u001b[39mimplementation\u001b[39m\u001b[39m'\u001b[39m,\n\u001b[1;32m    345\u001b[0m }\n\u001b[1;32m    346\u001b[0m \u001b[39m# Validate optional keyword arguments.\u001b[39;00m\n\u001b[0;32m--> 347\u001b[0m generic_utils\u001b[39m.\u001b[39;49mvalidate_kwargs(kwargs, allowed_kwargs)\n\u001b[1;32m    349\u001b[0m \u001b[39m# Mutable properties\u001b[39;00m\n\u001b[1;32m    350\u001b[0m \u001b[39m# Indicates whether the layer's weights are updated during training\u001b[39;00m\n\u001b[1;32m    351\u001b[0m \u001b[39m# and whether the layer's updates are run during training.\u001b[39;00m\n\u001b[1;32m    352\u001b[0m \u001b[39mself\u001b[39m\u001b[39m.\u001b[39m_trainable \u001b[39m=\u001b[39m trainable\n",
            "File \u001b[0;32m~/miniforge3/envs/CP1/lib/python3.8/site-packages/tensorflow/python/keras/utils/generic_utils.py:1137\u001b[0m, in \u001b[0;36mvalidate_kwargs\u001b[0;34m(kwargs, allowed_kwargs, error_message)\u001b[0m\n\u001b[1;32m   1135\u001b[0m \u001b[39mfor\u001b[39;00m kwarg \u001b[39min\u001b[39;00m kwargs:\n\u001b[1;32m   1136\u001b[0m   \u001b[39mif\u001b[39;00m kwarg \u001b[39mnot\u001b[39;00m \u001b[39min\u001b[39;00m allowed_kwargs:\n\u001b[0;32m-> 1137\u001b[0m     \u001b[39mraise\u001b[39;00m \u001b[39mTypeError\u001b[39;00m(error_message, kwarg)\n",
            "\u001b[0;31mTypeError\u001b[0m: ('Keyword argument not understood:', 'keepdims')"
          ]
        }
      ],
      "source": [
        "# Model 불러오기\n",
        "EfficientNet_V2B1_model = load_model('/Users/avalanche/Section6/CP1/Melanoma-Detection/Melanoma_Detection_app/EfficientNet_V2B1_model5.h5')"
      ]
    },
    {
      "cell_type": "code",
      "execution_count": 3,
      "metadata": {
        "id": "w3XQBR5BWaRp"
      },
      "outputs": [],
      "source": [
        "def class_predic():\n",
        "    img = keras.preprocessing.image.load_img(f\"{input()}\", target_size=(256,256))\n",
        "    img_array = keras.preprocessing.image.img_to_array(img)\n",
        "    img_array = tf.expand_dims(img_array, 0)  # Create batch axis\n",
        "\n",
        "    predictions = EfficientNet_V2B1_model.predict(img_array)\n",
        "    score = predictions[0]\n",
        "\n",
        "    class_names = ('nevus(모반)', 'malignant(흑색종 악성)', 'benign(흑색종 양성)', 'seborrheic_keratosis(지루성 각화증)', 'BCC(기저 세포 암종)')\n",
        "\n",
        "    for i in range(len(class_names)):\n",
        "        if np.argmax(score) == i:\n",
        "            print(class_names[i])"
      ]
    },
    {
      "cell_type": "code",
      "execution_count": 4,
      "metadata": {
        "colab": {
          "base_uri": "https://localhost:8080/"
        },
        "id": "mo3lbKaYbWp9",
        "outputId": "823f7a0d-5a92-416e-82ce-1e79ec89a952"
      },
      "outputs": [
        {
          "name": "stdout",
          "output_type": "stream",
          "text": [
            "/content/drive/MyDrive/CP1 데이터/nevus(모반)/ISIC_0000093.jpg\n",
            "nevus(모반)\n"
          ]
        }
      ],
      "source": [
        "class_predic()"
      ]
    }
  ],
  "metadata": {
    "colab": {
      "collapsed_sections": [],
      "provenance": []
    },
    "kernelspec": {
      "display_name": "Python 3.8.13",
      "language": "python",
      "name": "python3"
    },
    "language_info": {
      "codemirror_mode": {
        "name": "ipython",
        "version": 3
      },
      "file_extension": ".py",
      "mimetype": "text/x-python",
      "name": "python",
      "nbconvert_exporter": "python",
      "pygments_lexer": "ipython3",
      "version": "3.8.13"
    },
    "vscode": {
      "interpreter": {
        "hash": "76d93d676ae5310466006e0917ad0619f0f787cde3b69ea0509d2122d878ec7e"
      }
    }
  },
  "nbformat": 4,
  "nbformat_minor": 0
}
