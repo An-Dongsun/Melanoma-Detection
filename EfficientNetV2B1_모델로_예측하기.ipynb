{
  "cells": [
    {
      "cell_type": "markdown",
      "metadata": {
        "id": "view-in-github",
        "colab_type": "text"
      },
      "source": [
        "<a href=\"https://colab.research.google.com/github/An-Dongsun/Melanoma-Detection/blob/main/EfficientNetV2B1_%EB%AA%A8%EB%8D%B8%EB%A1%9C_%EC%98%88%EC%B8%A1%ED%95%98%EA%B8%B0.ipynb\" target=\"_parent\"><img src=\"https://colab.research.google.com/assets/colab-badge.svg\" alt=\"Open In Colab\"/></a>"
      ]
    },
    {
      "cell_type": "code",
      "execution_count": 1,
      "metadata": {
        "id": "z-MXXSmuTeb7"
      },
      "outputs": [],
      "source": [
        "# 필요할 라이브러리 불러오기\n",
        "import tensorflow as tf\n",
        "import keras\n",
        "import numpy as np\n",
        "from keras.preprocessing import image\n",
        "\n",
        "# 예측\n",
        "from tensorflow.keras.preprocessing import image\n",
        "from tensorflow.keras.models import Model, Sequential, load_model"
      ]
    },
    {
      "cell_type": "code",
      "source": [
        "from google.colab import drive\n",
        "drive.mount('/content/drive')"
      ],
      "metadata": {
        "id": "wPGfrC8Ipv5k",
        "outputId": "53c0fe4c-c26d-4e07-8095-4c8f52687cf9",
        "colab": {
          "base_uri": "https://localhost:8080/"
        }
      },
      "execution_count": 2,
      "outputs": [
        {
          "output_type": "stream",
          "name": "stdout",
          "text": [
            "Mounted at /content/drive\n"
          ]
        }
      ]
    },
    {
      "cell_type": "code",
      "execution_count": 3,
      "metadata": {
        "id": "goOvAmOJVWx3"
      },
      "outputs": [],
      "source": [
        "# 최종 Model 불러오기\n",
        "EfficientNet_V2B1_model = load_model('/content/drive/MyDrive/CP1 데이터/EfficientNet_V2B1_model5.h5')"
      ]
    },
    {
      "cell_type": "code",
      "execution_count": 14,
      "metadata": {
        "id": "w3XQBR5BWaRp"
      },
      "outputs": [],
      "source": [
        "def class_predic():\n",
        "    img = keras.preprocessing.image.load_img(f\"{input()}\", target_size=(256,256))\n",
        "    img_array = keras.preprocessing.image.img_to_array(img)\n",
        "    img_array = tf.expand_dims(img_array, 0)  # Create batch axis\n",
        "\n",
        "    predictions = EfficientNet_V2B1_model.predict(img_array)\n",
        "    score = predictions[0]\n",
        "\n",
        "    class_names = ('benign(흑색종 양성)', 'malignant(흑색종 악성)', 'nevus(모반)', 'BCC(기저 세포 암종)', 'seborrheic_keratosis(지루성 각화증)')\n",
        "\n",
        "    for i in range(len(class_names)):\n",
        "        if np.argmax(score) == i:\n",
        "            print(class_names[i])"
      ]
    },
    {
      "cell_type": "code",
      "execution_count": 19,
      "metadata": {
        "colab": {
          "base_uri": "https://localhost:8080/"
        },
        "id": "mo3lbKaYbWp9",
        "outputId": "5daaf85f-998f-4985-fd44-0a084e18d6a3"
      },
      "outputs": [
        {
          "output_type": "stream",
          "name": "stdout",
          "text": [
            "/content/drive/MyDrive/CP1 데이터/BCC(기저 세포 암종)/ISIC_0024448.jpg\n",
            "BCC(기저 세포 암종)\n"
          ]
        }
      ],
      "source": [
        "class_predic()"
      ]
    },
    {
      "cell_type": "code",
      "source": [
        "class_predic()"
      ],
      "metadata": {
        "id": "5wEHKDfVrXjh",
        "outputId": "e00b29d8-b88b-4df6-da72-be748983cc91",
        "colab": {
          "base_uri": "https://localhost:8080/"
        }
      },
      "execution_count": 20,
      "outputs": [
        {
          "output_type": "stream",
          "name": "stdout",
          "text": [
            "/content/drive/MyDrive/CP1 데이터/benign(흑색종 양성)/melanoma_10077.jpg\n",
            "benign(흑색종 양성)\n"
          ]
        }
      ]
    },
    {
      "cell_type": "code",
      "source": [
        "class_predic()"
      ],
      "metadata": {
        "id": "YGAXgKprrX7K",
        "outputId": "fd28cdc1-3f7c-4317-a528-1ed75b9694b6",
        "colab": {
          "base_uri": "https://localhost:8080/"
        }
      },
      "execution_count": 21,
      "outputs": [
        {
          "output_type": "stream",
          "name": "stdout",
          "text": [
            "/content/drive/MyDrive/CP1 데이터/malignant(흑색종 악성)/melanoma_10223.jpg\n",
            "malignant(흑색종 악성)\n"
          ]
        }
      ]
    },
    {
      "cell_type": "code",
      "source": [
        "class_predic()"
      ],
      "metadata": {
        "id": "1BrTyzoLrYnd",
        "outputId": "c81e3869-9b86-45e4-d1ad-840d1605ee49",
        "colab": {
          "base_uri": "https://localhost:8080/"
        }
      },
      "execution_count": 22,
      "outputs": [
        {
          "output_type": "stream",
          "name": "stdout",
          "text": [
            "/content/drive/MyDrive/CP1 데이터/nevus(모반)/ISIC_0000322.jpg\n",
            "nevus(모반)\n"
          ]
        }
      ]
    },
    {
      "cell_type": "code",
      "source": [
        "class_predic()"
      ],
      "metadata": {
        "id": "kh9bHpsXrY_I",
        "outputId": "03c06238-f326-40f5-d395-da62594a91b1",
        "colab": {
          "base_uri": "https://localhost:8080/"
        }
      },
      "execution_count": 23,
      "outputs": [
        {
          "output_type": "stream",
          "name": "stdout",
          "text": [
            "/content/drive/MyDrive/CP1 데이터/seborrheic_keratosis(지루성 각화증)/ISIC_0013742.jpg\n",
            "seborrheic_keratosis(지루성 각화증)\n"
          ]
        }
      ]
    },
    {
      "cell_type": "markdown",
      "source": [
        "# Confusion matrix"
      ],
      "metadata": {
        "id": "IFxMwwoZtHdW"
      }
    },
    {
      "cell_type": "code",
      "source": [
        "# 이미지 파일들 불러오기\n",
        "Dataset_directory = '/content/drive/MyDrive/CP1 데이터'\n",
        "\n",
        "train = tf.keras.preprocessing.image_dataset_from_directory(\n",
        "        Dataset_directory,\n",
        "        labels = \"inferred\",\n",
        "        label_mode = 'categorical', # 레이블이 범주형 벡터로 인코딩됨을 의미\n",
        "        class_names = {'BCC(기저 세포 암종)', 'benign(흑색종 양성)', 'malignant(흑색종 악성)', 'nevus(모반)', 'seborrheic_keratosis(지루성 각화증)'},\n",
        "        color_mode = \"rgb\",\n",
        "        batch_size = 32,\n",
        "        image_size = (256, 256),\n",
        "        shuffle = True,\n",
        "        seed = 42,\n",
        "        validation_split = 0.1,\n",
        "        subset = 'training',\n",
        "        interpolation = \"bilinear\",\n",
        "        follow_links = False,\n",
        "        crop_to_aspect_ratio = False,\n",
        ")\n",
        "\n",
        "test = tf.keras.preprocessing.image_dataset_from_directory(\n",
        "        Dataset_directory,\n",
        "        labels = \"inferred\",\n",
        "        label_mode = 'categorical',\n",
        "        class_names = {'BCC(기저 세포 암종)', 'benign(흑색종 양성)', 'malignant(흑색종 악성)', 'nevus(모반)', 'seborrheic_keratosis(지루성 각화증)'},\n",
        "        color_mode = \"rgb\",\n",
        "        batch_size = 32,\n",
        "        image_size = (256, 256),\n",
        "        shuffle = True,\n",
        "        seed = 42,\n",
        "        validation_split = 0.1,\n",
        "        subset = 'validation',\n",
        "        interpolation = \"bilinear\",\n",
        "        follow_links = False,\n",
        "        crop_to_aspect_ratio = False,\n",
        ")"
      ],
      "metadata": {
        "id": "LRMmRBgWtJp9",
        "outputId": "9fd81d42-aa55-48a8-c3b0-5c7d641945c3",
        "colab": {
          "base_uri": "https://localhost:8080/"
        }
      },
      "execution_count": 23,
      "outputs": [
        {
          "output_type": "stream",
          "name": "stdout",
          "text": [
            "Found 20053 files belonging to 5 classes.\n",
            "Using 18048 files for training.\n",
            "Found 20053 files belonging to 5 classes.\n",
            "Using 2005 files for validation.\n"
          ]
        }
      ]
    },
    {
      "cell_type": "code",
      "source": [
        "y_true = []\n",
        "y_pred = []\n",
        "for x,y in test:\n",
        "  y= tf.argmax(y,axis=1)\n",
        "  y_true.append(y)\n",
        "  y_pred.append(tf.argmax(EfficientNet_V2B1_model.predict(x),axis = 1))\n",
        "  \n",
        "y_pred = tf.concat(y_pred, axis=0)\n",
        "y_true = tf.concat(y_true, axis=0)"
      ],
      "metadata": {
        "id": "gKygCqmotMq6"
      },
      "execution_count": 24,
      "outputs": []
    },
    {
      "cell_type": "code",
      "source": [
        "y_true"
      ],
      "metadata": {
        "id": "iXbqqWm-6BXK",
        "outputId": "f4b51dcf-5c1d-40d2-8f6c-fbd07bf85191",
        "colab": {
          "base_uri": "https://localhost:8080/"
        }
      },
      "execution_count": 47,
      "outputs": [
        {
          "output_type": "execute_result",
          "data": {
            "text/plain": [
              "<tf.Tensor: shape=(2005,), dtype=int64, numpy=array([2, 0, 3, ..., 2, 2, 2])>"
            ]
          },
          "metadata": {},
          "execution_count": 47
        }
      ]
    },
    {
      "cell_type": "code",
      "source": [
        "y_pred"
      ],
      "metadata": {
        "id": "heOulZve6AT_",
        "outputId": "c45f5728-c32b-44da-d3ad-1dae12154f3c",
        "colab": {
          "base_uri": "https://localhost:8080/"
        }
      },
      "execution_count": 48,
      "outputs": [
        {
          "output_type": "execute_result",
          "data": {
            "text/plain": [
              "<tf.Tensor: shape=(2005,), dtype=int64, numpy=array([0, 1, 2, ..., 0, 0, 0])>"
            ]
          },
          "metadata": {},
          "execution_count": 48
        }
      ]
    },
    {
      "cell_type": "code",
      "source": [
        "true_list = ['흑색종 양성', '기저 세포 암종', '흑색종 악성', '모반(점)', '지루성 각화증']\n",
        "y_true_list = []\n",
        "for i in y_true:\n",
        "  y_true_list.append(true_list[i])\n",
        "\n",
        "pred_list = ['흑색종 악성', '흑색종 양성', '모반(점)', '기저 세포 암종', '지루성 각화증']\n",
        "y_pred_list = []\n",
        "for i in y_pred:\n",
        "  y_pred_list.append(pred_list[i])"
      ],
      "metadata": {
        "id": "zELZS0M_2nty"
      },
      "execution_count": 66,
      "outputs": []
    },
    {
      "cell_type": "code",
      "source": [
        "y_true_list"
      ],
      "metadata": {
        "id": "s4r_ZZmy2-1a"
      },
      "execution_count": null,
      "outputs": []
    },
    {
      "cell_type": "code",
      "source": [
        "y_pred_list"
      ],
      "metadata": {
        "id": "06Y5snub3A6O"
      },
      "execution_count": null,
      "outputs": []
    },
    {
      "cell_type": "code",
      "source": [
        "!pip install --upgrade scikit-learn"
      ],
      "metadata": {
        "id": "ekO7DmbTwad9",
        "outputId": "66ac809a-3283-496f-b176-6f3d4c4bc237",
        "colab": {
          "base_uri": "https://localhost:8080/"
        }
      },
      "execution_count": 7,
      "outputs": [
        {
          "output_type": "stream",
          "name": "stdout",
          "text": [
            "Looking in indexes: https://pypi.org/simple, https://us-python.pkg.dev/colab-wheels/public/simple/\n",
            "Requirement already satisfied: scikit-learn in /usr/local/lib/python3.7/dist-packages (1.0.2)\n",
            "Requirement already satisfied: scipy>=1.1.0 in /usr/local/lib/python3.7/dist-packages (from scikit-learn) (1.7.3)\n",
            "Requirement already satisfied: threadpoolctl>=2.0.0 in /usr/local/lib/python3.7/dist-packages (from scikit-learn) (3.1.0)\n",
            "Requirement already satisfied: joblib>=0.11 in /usr/local/lib/python3.7/dist-packages (from scikit-learn) (1.1.0)\n",
            "Requirement already satisfied: numpy>=1.14.6 in /usr/local/lib/python3.7/dist-packages (from scikit-learn) (1.21.6)\n"
          ]
        }
      ]
    },
    {
      "cell_type": "code",
      "source": [
        "import matplotlib.pyplot as plt\n",
        "import seaborn as sns\n",
        "from sklearn.metrics import confusion_matrix, classification_report\n",
        "\n",
        "cm = confusion_matrix(y_true_list, y_pred_list, labels=['흑색종 양성', '기저 세포 암종', '흑색종 악성', '모반(점)', '지루성 각화증'])\n",
        "fig = plt.figure(figsize = (8,8))\n",
        "ax1 = fig.add_subplot(1,1,1)\n",
        "sns.set(font_scale=1.4) #for label size\n",
        "sns.heatmap(cm, annot=True, fmt=\"d\", annot_kws={\"size\": 12}, linewidths=1.0,\n",
        "     cbar = False, cmap='Purples');\n",
        "ax1.set_ylabel('True Values',fontsize=14)\n",
        "ax1.set_xlabel('Predicted Values',fontsize=14)\n",
        "plt.show()"
      ],
      "metadata": {
        "id": "E0J4M3cItMjX",
        "outputId": "b7f5d64f-def8-4c59-ecfc-d882aec20a9c",
        "colab": {
          "base_uri": "https://localhost:8080/",
          "height": 508
        }
      },
      "execution_count": 77,
      "outputs": [
        {
          "output_type": "display_data",
          "data": {
            "text/plain": [
              "<Figure size 576x576 with 1 Axes>"
            ],
            "image/png": "[encoded data removed]"
          },
          "metadata": {}
        }
      ]
    },
    {
      "cell_type": "code",
      "source": [
        "print(classification_report(y_true_list, y_pred_list))"
      ],
      "metadata": {
        "id": "XzXsDeCK8iK3",
        "outputId": "7abc1b09-7da6-4c41-8e50-efa48fd2b185",
        "colab": {
          "base_uri": "https://localhost:8080/"
        }
      },
      "execution_count": 68,
      "outputs": [
        {
          "output_type": "stream",
          "name": "stdout",
          "text": [
            "                  precision    recall  f1-score   support\n",
            "\n",
            "기저 세포 암종       0.85      0.91      0.88        45\n",
            "        모반(점)       0.98      0.98      0.98       852\n",
            "지루성 각화증       0.73      0.68      0.71        44\n",
            "흑색종 악성       0.95      0.94      0.95       558\n",
            "흑색종 양성       0.94      0.95      0.94       506\n",
            "\n",
            "        accuracy                           0.95      2005\n",
            "       macro avg       0.89      0.89      0.89      2005\n",
            "    weighted avg       0.95      0.95      0.95      2005\n",
            "\n"
          ]
        }
      ]
    },
    {
      "cell_type": "code",
      "source": [
        "import pandas as pd\n",
        "report = classification_report(y_true_list, y_pred_list, output_dict=True)\n",
        "df = pd.DataFrame(report).transpose()"
      ],
      "metadata": {
        "id": "fgcxZSCQFo3n"
      },
      "execution_count": 79,
      "outputs": []
    },
    {
      "cell_type": "code",
      "source": [
        "pd.options.display.float_format = '{:,.4f}'.format"
      ],
      "metadata": {
        "id": "g1pofkz0GmbR"
      },
      "execution_count": 81,
      "outputs": []
    },
    {
      "cell_type": "code",
      "source": [
        "df"
      ],
      "metadata": {
        "id": "9VRAQ3G1GRCe",
        "outputId": "ef9557e6-ec46-428f-ef2b-2395472d663a",
        "colab": {
          "base_uri": "https://localhost:8080/",
          "height": 300
        }
      },
      "execution_count": 82,
      "outputs": [
        {
          "output_type": "execute_result",
          "data": {
            "text/plain": [
              "                  precision  recall  f1-score    support\n",
              "기저 세포 암종     0.8542  0.9111    0.8817    45.0000\n",
              "모반(점)             0.9789  0.9789    0.9789   852.0000\n",
              "지루성 각화증     0.7317  0.6818    0.7059    44.0000\n",
              "흑색종 악성     0.9529  0.9427    0.9477   558.0000\n",
              "흑색종 양성     0.9375  0.9486    0.9430   506.0000\n",
              "accuracy             0.9531  0.9531    0.9531     0.9531\n",
              "macro avg            0.8910  0.8926    0.8914 2,005.0000\n",
              "weighted avg         0.9530  0.9531    0.9530 2,005.0000"
            ],
            "text/html": [
              "\n",
              "  <div id=\"df-8b50b611-1d41-4173-a389-72ee16e97cfc\">\n",
              "    <div class=\"colab-df-container\">\n",
              "      <div>\n",
              "<style scoped>\n",
              "    .dataframe tbody tr th:only-of-type {\n",
              "        vertical-align: middle;\n",
              "    }\n",
              "\n",
              "    .dataframe tbody tr th {\n",
              "        vertical-align: top;\n",
              "    }\n",
              "\n",
              "    .dataframe thead th {\n",
              "        text-align: right;\n",
              "    }\n",
              "</style>\n",
              "<table border=\"1\" class=\"dataframe\">\n",
              "  <thead>\n",
              "    <tr style=\"text-align: right;\">\n",
              "      <th></th>\n",
              "      <th>precision</th>\n",
              "      <th>recall</th>\n",
              "      <th>f1-score</th>\n",
              "      <th>support</th>\n",
              "    </tr>\n",
              "  </thead>\n",
              "  <tbody>\n",
              "    <tr>\n",
              "      <th>기저 세포 암종</th>\n",
              "      <td>0.8542</td>\n",
              "      <td>0.9111</td>\n",
              "      <td>0.8817</td>\n",
              "      <td>45.0000</td>\n",
              "    </tr>\n",
              "    <tr>\n",
              "      <th>모반(점)</th>\n",
              "      <td>0.9789</td>\n",
              "      <td>0.9789</td>\n",
              "      <td>0.9789</td>\n",
              "      <td>852.0000</td>\n",
              "    </tr>\n",
              "    <tr>\n",
              "      <th>지루성 각화증</th>\n",
              "      <td>0.7317</td>\n",
              "      <td>0.6818</td>\n",
              "      <td>0.7059</td>\n",
              "      <td>44.0000</td>\n",
              "    </tr>\n",
              "    <tr>\n",
              "      <th>흑색종 악성</th>\n",
              "      <td>0.9529</td>\n",
              "      <td>0.9427</td>\n",
              "      <td>0.9477</td>\n",
              "      <td>558.0000</td>\n",
              "    </tr>\n",
              "    <tr>\n",
              "      <th>흑색종 양성</th>\n",
              "      <td>0.9375</td>\n",
              "      <td>0.9486</td>\n",
              "      <td>0.9430</td>\n",
              "      <td>506.0000</td>\n",
              "    </tr>\n",
              "    <tr>\n",
              "      <th>accuracy</th>\n",
              "      <td>0.9531</td>\n",
              "      <td>0.9531</td>\n",
              "      <td>0.9531</td>\n",
              "      <td>0.9531</td>\n",
              "    </tr>\n",
              "    <tr>\n",
              "      <th>macro avg</th>\n",
              "      <td>0.8910</td>\n",
              "      <td>0.8926</td>\n",
              "      <td>0.8914</td>\n",
              "      <td>2,005.0000</td>\n",
              "    </tr>\n",
              "    <tr>\n",
              "      <th>weighted avg</th>\n",
              "      <td>0.9530</td>\n",
              "      <td>0.9531</td>\n",
              "      <td>0.9530</td>\n",
              "      <td>2,005.0000</td>\n",
              "    </tr>\n",
              "  </tbody>\n",
              "</table>\n",
              "</div>\n",
              "      <button class=\"colab-df-convert\" onclick=\"convertToInteractive('df-8b50b611-1d41-4173-a389-72ee16e97cfc')\"\n",
              "              title=\"Convert this dataframe to an interactive table.\"\n",
              "              style=\"display:none;\">\n",
              "        \n",
              "  <svg xmlns=\"http://www.w3.org/2000/svg\" height=\"24px\"viewBox=\"0 0 24 24\"\n",
              "       width=\"24px\">\n",
              "    <path d=\"M0 0h24v24H0V0z\" fill=\"none\"/>\n",
              "    <path d=\"M18.56 5.44l.94 2.06.94-2.06 2.06-.94-2.06-.94-.94-2.06-.94 2.06-2.06.94zm-11 1L8.5 8.5l.94-2.06 2.06-.94-2.06-.94L8.5 2.5l-.94 2.06-2.06.94zm10 10l.94 2.06.94-2.06 2.06-.94-2.06-.94-.94-2.06-.94 2.06-2.06.94z\"/><path d=\"M17.41 7.96l-1.37-1.37c-.4-.4-.92-.59-1.43-.59-.52 0-1.04.2-1.43.59L10.3 9.45l-7.72 7.72c-.78.78-.78 2.05 0 2.83L4 21.41c.39.39.9.59 1.41.59.51 0 1.02-.2 1.41-.59l7.78-7.78 2.81-2.81c.8-.78.8-2.07 0-2.86zM5.41 20L4 18.59l7.72-7.72 1.47 1.35L5.41 20z\"/>\n",
              "  </svg>\n",
              "      </button>\n",
              "      \n",
              "  <style>\n",
              "    .colab-df-container {\n",
              "      display:flex;\n",
              "      flex-wrap:wrap;\n",
              "      gap: 12px;\n",
              "    }\n",
              "\n",
              "    .colab-df-convert {\n",
              "      background-color: #E8F0FE;\n",
              "      border: none;\n",
              "      border-radius: 50%;\n",
              "      cursor: pointer;\n",
              "      display: none;\n",
              "      fill: #1967D2;\n",
              "      height: 32px;\n",
              "      padding: 0 0 0 0;\n",
              "      width: 32px;\n",
              "    }\n",
              "\n",
              "    .colab-df-convert:hover {\n",
              "      background-color: #E2EBFA;\n",
              "      box-shadow: 0px 1px 2px rgba(60, 64, 67, 0.3), 0px 1px 3px 1px rgba(60, 64, 67, 0.15);\n",
              "      fill: #174EA6;\n",
              "    }\n",
              "\n",
              "    [theme=dark] .colab-df-convert {\n",
              "      background-color: #3B4455;\n",
              "      fill: #D2E3FC;\n",
              "    }\n",
              "\n",
              "    [theme=dark] .colab-df-convert:hover {\n",
              "      background-color: #434B5C;\n",
              "      box-shadow: 0px 1px 3px 1px rgba(0, 0, 0, 0.15);\n",
              "      filter: drop-shadow(0px 1px 2px rgba(0, 0, 0, 0.3));\n",
              "      fill: #FFFFFF;\n",
              "    }\n",
              "  </style>\n",
              "\n",
              "      <script>\n",
              "        const buttonEl =\n",
              "          document.querySelector('#df-8b50b611-1d41-4173-a389-72ee16e97cfc button.colab-df-convert');\n",
              "        buttonEl.style.display =\n",
              "          google.colab.kernel.accessAllowed ? 'block' : 'none';\n",
              "\n",
              "        async function convertToInteractive(key) {\n",
              "          const element = document.querySelector('#df-8b50b611-1d41-4173-a389-72ee16e97cfc');\n",
              "          const dataTable =\n",
              "            await google.colab.kernel.invokeFunction('convertToInteractive',\n",
              "                                                     [key], {});\n",
              "          if (!dataTable) return;\n",
              "\n",
              "          const docLinkHtml = 'Like what you see? Visit the ' +\n",
              "            '<a target=\"_blank\" href=https://colab.research.google.com/notebooks/data_table.ipynb>data table notebook</a>'\n",
              "            + ' to learn more about interactive tables.';\n",
              "          element.innerHTML = '';\n",
              "          dataTable['output_type'] = 'display_data';\n",
              "          await google.colab.output.renderOutput(dataTable, element);\n",
              "          const docLink = document.createElement('div');\n",
              "          docLink.innerHTML = docLinkHtml;\n",
              "          element.appendChild(docLink);\n",
              "        }\n",
              "      </script>\n",
              "    </div>\n",
              "  </div>\n",
              "  "
            ]
          },
          "metadata": {},
          "execution_count": 82
        }
      ]
    }
  ],
  "metadata": {
    "colab": {
      "collapsed_sections": [],
      "provenance": [],
      "machine_shape": "hm",
      "include_colab_link": true
    },
    "kernelspec": {
      "display_name": "Python 3.8.13",
      "language": "python",
      "name": "python3"
    },
    "language_info": {
      "codemirror_mode": {
        "name": "ipython",
        "version": 3
      },
      "file_extension": ".py",
      "mimetype": "text/x-python",
      "name": "python",
      "nbconvert_exporter": "python",
      "pygments_lexer": "ipython3",
      "version": "3.8.13"
    },
    "vscode": {
      "interpreter": {
        "hash": "76d93d676ae5310466006e0917ad0619f0f787cde3b69ea0509d2122d878ec7e"
      }
    },
    "accelerator": "GPU",
    "gpuClass": "standard"
  },
  "nbformat": 4,
  "nbformat_minor": 0
}