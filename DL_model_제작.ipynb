{
  "nbformat": 4,
  "nbformat_minor": 0,
  "metadata": {
    "colab": {
      "provenance": [],
      "machine_shape": "hm",
      "mount_file_id": "1qnpzKPiBfFkT-AfJV6psyaQig2XSL5yQ",
      "authorship_tag": "ABX9TyOuW4faRv64Z5Pwxwx0cDBn",
      "include_colab_link": true
    },
    "kernelspec": {
      "name": "python3",
      "display_name": "Python 3"
    },
    "language_info": {
      "name": "python"
    },
    "accelerator": "GPU",
    "gpuClass": "standard"
  },
  "cells": [
    {
      "cell_type": "markdown",
      "metadata": {
        "id": "view-in-github",
        "colab_type": "text"
      },
      "source": [
        "<a href=\"https://colab.research.google.com/github/An-Dongsun/Melanoma-Detection/blob/feature%2FDL_model/DL_model_%EC%A0%9C%EC%9E%91.ipynb\" target=\"_parent\"><img src=\"https://colab.research.google.com/assets/colab-badge.svg\" alt=\"Open In Colab\"/></a>"
      ]
    },
    {
      "cell_type": "markdown",
      "source": [
        "# 흑색종 이미지 분류 모델\n",
        "\n",
        "- 지루성 각화증 → 387개\n",
        "- 모반 → 8,570개\n",
        "- 흑색종(양성) → 5,515개\n",
        "- 흑색종(악성) → 5,119개\n",
        "- 기저 세포 암종(BCC) → 516개"
      ],
      "metadata": {
        "id": "KYn28Ld-djy9"
      }
    },
    {
      "cell_type": "code",
      "execution_count": 10,
      "metadata": {
        "id": "ZXrqoiWodV8b"
      },
      "outputs": [],
      "source": [
        "# 필요할 라이브러리 불러오기\n",
        "import tensorflow as tf\n",
        "import keras\n",
        "import numpy as np\n",
        "import matplotlib.pyplot as plt\n",
        "\n",
        "# 전이학습 모델\n",
        "from tensorflow.keras.applications.resnet50 import ResNet50, preprocess_input, decode_predictions\n",
        "from keras.applications.inception_resnet_v2 import InceptionResNetV2\n",
        "from tensorflow.keras.applications import EfficientNetB7\n",
        "\n",
        "# 분류기 제작\n",
        "from tensorflow.keras.preprocessing import image\n",
        "from tensorflow.keras.layers import Dense, GlobalAveragePooling2D, Conv2D, MaxPooling2D, Flatten, BatchNormalization, Activation, Dropout\n",
        "from tensorflow.keras.models import Model, Sequential, load_model"
      ]
    },
    {
      "cell_type": "markdown",
      "source": [
        "# 1. 데이터 불러오기"
      ],
      "metadata": {
        "id": "Mz4kAnvVeXda"
      }
    },
    {
      "cell_type": "code",
      "source": [
        "# 시드를 고정한다.\n",
        "np.random.seed(42)\n",
        "tf.random.set_seed(42)"
      ],
      "metadata": {
        "id": "0ku9siwXeaCe"
      },
      "execution_count": 2,
      "outputs": []
    },
    {
      "cell_type": "code",
      "source": [
        "# 이미지 파일들 불러오기\n",
        "Dataset_directory = '/content/drive/MyDrive/CP1 데이터'\n",
        "\n",
        "train = tf.keras.preprocessing.image_dataset_from_directory(\n",
        "        Dataset_directory,\n",
        "        labels = \"inferred\",\n",
        "        label_mode = 'categorical', # 레이블이 범주형 벡터로 인코딩됨을 의미\n",
        "        class_names = {'BCC(기저 세포 암종)', 'benign(흑색종 양성)', 'malignant(흑색종 악성)', 'nevus(모반)', 'seborrheic_keratosis(지루성 각화증)'},\n",
        "        color_mode = \"rgb\",\n",
        "        batch_size = 64,\n",
        "        image_size = (256, 256),\n",
        "        shuffle = True,\n",
        "        seed = 42,\n",
        "        validation_split = 0.1,\n",
        "        subset = 'training',\n",
        "        interpolation = \"bilinear\",\n",
        "        follow_links = False,\n",
        "        crop_to_aspect_ratio = False,\n",
        ")\n",
        "\n",
        "test = tf.keras.preprocessing.image_dataset_from_directory(\n",
        "        Dataset_directory,\n",
        "        labels = \"inferred\",\n",
        "        label_mode = 'categorical',\n",
        "        class_names = {'BCC(기저 세포 암종)', 'benign(흑색종 양성)', 'malignant(흑색종 악성)', 'nevus(모반)', 'seborrheic_keratosis(지루성 각화증)'},\n",
        "        color_mode = \"rgb\",\n",
        "        batch_size = 64,\n",
        "        image_size = (256, 256),\n",
        "        shuffle = True,\n",
        "        seed = 42,\n",
        "        validation_split = 0.1,\n",
        "        subset = 'validation',\n",
        "        interpolation = \"bilinear\",\n",
        "        follow_links = False,\n",
        "        crop_to_aspect_ratio = False,\n",
        ")"
      ],
      "metadata": {
        "colab": {
          "base_uri": "https://localhost:8080/"
        },
        "id": "a1I9YXXPeiJO",
        "outputId": "9f062caf-5fb9-42fa-9d80-35bf53cf2b9d"
      },
      "execution_count": 28,
      "outputs": [
        {
          "output_type": "stream",
          "name": "stdout",
          "text": [
            "Found 20053 files belonging to 5 classes.\n",
            "Using 18048 files for training.\n",
            "Found 20053 files belonging to 5 classes.\n",
            "Using 2005 files for validation.\n"
          ]
        }
      ]
    },
    {
      "cell_type": "markdown",
      "source": [
        "# Restnet50 전이학습\n"
      ],
      "metadata": {
        "id": "t32VrBIymc2j"
      }
    },
    {
      "cell_type": "code",
      "source": [
        "resnet = ResNet50(weights = 'imagenet', include_top = False)"
      ],
      "metadata": {
        "id": "I4AkvJ04meSt"
      },
      "execution_count": 4,
      "outputs": []
    },
    {
      "cell_type": "code",
      "source": [
        "# ResNet50 레이어들의 파라미터를 학습하도록 설정\n",
        "for layer in resnet.layers:\n",
        "    layer.trainable = True"
      ],
      "metadata": {
        "id": "LtFGtdLwmkdO"
      },
      "execution_count": 5,
      "outputs": []
    },
    {
      "cell_type": "code",
      "source": [
        "# 모델에 출력층을 생성해준다.\n",
        "x = resnet.output\n",
        "x = GlobalAveragePooling2D()(x)\n",
        "# 다중 분류 모델을 만들어준다.\n",
        "x = Dense(1024, activation='relu')(x)\n",
        "x = Dense(512, activation='relu')(x)\n",
        "x = Dense(256, activation='relu')(x)\n",
        "predictions = Dense(5, activation='softmax')(x) # 출력층을 설계한다.\n",
        "resnet_model = Model(resnet.input, predictions)"
      ],
      "metadata": {
        "id": "d9p5xdQpmqfb"
      },
      "execution_count": 6,
      "outputs": []
    },
    {
      "cell_type": "code",
      "source": [
        "# 모델의 전체적인 형태 확인해보기\n",
        "resnet_model.summary()"
      ],
      "metadata": {
        "id": "6xE84QZSmvoF"
      },
      "execution_count": null,
      "outputs": []
    },
    {
      "cell_type": "code",
      "source": [
        "# 모델 컴파일\n",
        "resnet_model.compile(optimizer = 'adam', loss = 'categorical_crossentropy', metrics = ['accuracy'])"
      ],
      "metadata": {
        "id": "JkjZb59Bm8AS"
      },
      "execution_count": 8,
      "outputs": []
    },
    {
      "cell_type": "code",
      "source": [
        "# 학습시킨 데이터를 저장시키기 위한 코드다. \n",
        "checkpoint_filepath = \"resnet_model_best.hdf5\"\n",
        "\n",
        "# early stopping\n",
        "# val_loss 모니터링, patience = 10 → 연속적으로 10번 값이 나아지지 않으면 조기 종료\n",
        "early_stop = keras.callbacks.EarlyStopping(monitor = 'val_loss', min_delta = 0, patience = 10, verbose = 1)\n",
        "\n",
        "# Validation Set을 기준으로 가장 최적의 모델을 찾기\n",
        "save_best = keras.callbacks.ModelCheckpoint(filepath = checkpoint_filepath,\n",
        "                                            monitor = 'val_loss',\n",
        "                                            verbose = 1,\n",
        "                                            save_best_only = True,\n",
        "                                            save_weights_only = True,\n",
        "                                            mode = 'auto',\n",
        "                                            save_freq = 'epoch',\n",
        "                                            options = None)\n",
        "\n",
        "# 변수 설정을 따로 하는 방법을 적용하기 위한 코드입니다. \n",
        "batch_size = 128\n",
        "epochs_max = 50\n",
        "\n",
        "# 모델 학습\n",
        "# 위에서 설정한 batch_size, epochs_max 그대로 가져와서 사용하기\n",
        "results = resnet_model.fit(train,\n",
        "                            batch_size = batch_size,\n",
        "                            epochs = epochs_max,\n",
        "                            verbose = 1, \n",
        "                            validation_data = test,\n",
        "                            callbacks = [early_stop, save_best])"
      ],
      "metadata": {
        "colab": {
          "base_uri": "https://localhost:8080/"
        },
        "id": "vb0NW2W9nFGh",
        "outputId": "e9765b22-cc98-4098-b59b-20290681fbca"
      },
      "execution_count": 9,
      "outputs": [
        {
          "output_type": "stream",
          "name": "stdout",
          "text": [
            "Epoch 1/50\n",
            "141/141 [==============================] - ETA: 0s - loss: 0.3634 - accuracy: 0.8719\n",
            "Epoch 1: val_loss improved from inf to 5.23827, saving model to resnet_model_best.hdf5\n",
            "141/141 [==============================] - 286s 2s/step - loss: 0.3634 - accuracy: 0.8719 - val_loss: 5.2383 - val_accuracy: 0.3830\n",
            "Epoch 2/50\n",
            "141/141 [==============================] - ETA: 0s - loss: 0.2057 - accuracy: 0.9172\n",
            "Epoch 2: val_loss did not improve from 5.23827\n",
            "141/141 [==============================] - 280s 2s/step - loss: 0.2057 - accuracy: 0.9172 - val_loss: 15.5683 - val_accuracy: 0.5860\n",
            "Epoch 3/50\n",
            "141/141 [==============================] - ETA: 0s - loss: 0.1980 - accuracy: 0.9252\n",
            "Epoch 3: val_loss improved from 5.23827 to 3.21583, saving model to resnet_model_best.hdf5\n",
            "141/141 [==============================] - 286s 2s/step - loss: 0.1980 - accuracy: 0.9252 - val_loss: 3.2158 - val_accuracy: 0.4279\n",
            "Epoch 4/50\n",
            "141/141 [==============================] - ETA: 0s - loss: 0.1647 - accuracy: 0.9367\n",
            "Epoch 4: val_loss improved from 3.21583 to 0.16500, saving model to resnet_model_best.hdf5\n",
            "141/141 [==============================] - 455s 2s/step - loss: 0.1647 - accuracy: 0.9367 - val_loss: 0.1650 - val_accuracy: 0.9342\n",
            "Epoch 5/50\n",
            "141/141 [==============================] - ETA: 0s - loss: 0.1537 - accuracy: 0.9414\n",
            "Epoch 5: val_loss did not improve from 0.16500\n",
            "141/141 [==============================] - 262s 2s/step - loss: 0.1537 - accuracy: 0.9414 - val_loss: 6.1267 - val_accuracy: 0.4888\n",
            "Epoch 6/50\n",
            "141/141 [==============================] - ETA: 0s - loss: 0.1491 - accuracy: 0.9419\n",
            "Epoch 6: val_loss did not improve from 0.16500\n",
            "141/141 [==============================] - 270s 2s/step - loss: 0.1491 - accuracy: 0.9419 - val_loss: 4.5558 - val_accuracy: 0.4464\n",
            "Epoch 7/50\n",
            "141/141 [==============================] - ETA: 0s - loss: 0.1215 - accuracy: 0.9523\n",
            "Epoch 7: val_loss did not improve from 0.16500\n",
            "141/141 [==============================] - 257s 2s/step - loss: 0.1215 - accuracy: 0.9523 - val_loss: 2.1321 - val_accuracy: 0.6414\n",
            "Epoch 8/50\n",
            "141/141 [==============================] - ETA: 0s - loss: 0.1099 - accuracy: 0.9582\n",
            "Epoch 8: val_loss did not improve from 0.16500\n",
            "141/141 [==============================] - 271s 2s/step - loss: 0.1099 - accuracy: 0.9582 - val_loss: 1.3750 - val_accuracy: 0.6903\n",
            "Epoch 9/50\n",
            "141/141 [==============================] - ETA: 0s - loss: 0.1081 - accuracy: 0.9586\n",
            "Epoch 9: val_loss did not improve from 0.16500\n",
            "141/141 [==============================] - 266s 2s/step - loss: 0.1081 - accuracy: 0.9586 - val_loss: 0.8511 - val_accuracy: 0.7820\n",
            "Epoch 10/50\n",
            "141/141 [==============================] - ETA: 0s - loss: 0.1169 - accuracy: 0.9583\n",
            "Epoch 10: val_loss did not improve from 0.16500\n",
            "141/141 [==============================] - 250s 2s/step - loss: 0.1169 - accuracy: 0.9583 - val_loss: 0.7244 - val_accuracy: 0.7696\n",
            "Epoch 11/50\n",
            "141/141 [==============================] - ETA: 0s - loss: 0.0765 - accuracy: 0.9707 \n",
            "Epoch 11: val_loss did not improve from 0.16500\n",
            "141/141 [==============================] - 1911s 14s/step - loss: 0.0765 - accuracy: 0.9707 - val_loss: 0.4607 - val_accuracy: 0.8933\n",
            "Epoch 12/50\n",
            "141/141 [==============================] - ETA: 0s - loss: 0.0641 - accuracy: 0.9761\n",
            "Epoch 12: val_loss did not improve from 0.16500\n",
            "141/141 [==============================] - 272s 2s/step - loss: 0.0641 - accuracy: 0.9761 - val_loss: 1.3496 - val_accuracy: 0.7152\n",
            "Epoch 13/50\n",
            "141/141 [==============================] - ETA: 0s - loss: 0.0648 - accuracy: 0.9758\n",
            "Epoch 13: val_loss did not improve from 0.16500\n",
            "141/141 [==============================] - 312s 2s/step - loss: 0.0648 - accuracy: 0.9758 - val_loss: 0.8812 - val_accuracy: 0.8434\n",
            "Epoch 14/50\n",
            "141/141 [==============================] - ETA: 0s - loss: 0.0508 - accuracy: 0.9813\n",
            "Epoch 14: val_loss did not improve from 0.16500\n",
            "141/141 [==============================] - 288s 2s/step - loss: 0.0508 - accuracy: 0.9813 - val_loss: 0.3472 - val_accuracy: 0.8883\n",
            "Epoch 14: early stopping\n"
          ]
        }
      ]
    },
    {
      "cell_type": "markdown",
      "source": [
        "## 학습된 모델을 이용하여 테스트 & 저장"
      ],
      "metadata": {
        "id": "vU3Sa_GT4jBJ"
      }
    },
    {
      "cell_type": "code",
      "source": [
        "# 학습된 모델을 이용하여 테스트하는 코드\n",
        "test_loss, test_acc = resnet_model.evaluate(test, verbose = 1)"
      ],
      "metadata": {
        "colab": {
          "base_uri": "https://localhost:8080/"
        },
        "id": "m4OZqB9j4m_t",
        "outputId": "abf72399-79bf-4fff-fbf0-5c342c6bf4c3"
      },
      "execution_count": 11,
      "outputs": [
        {
          "output_type": "stream",
          "name": "stdout",
          "text": [
            "16/16 [==============================] - 26s 769ms/step - loss: 0.3472 - accuracy: 0.8883\n"
          ]
        }
      ]
    },
    {
      "cell_type": "code",
      "source": [
        "acc = results.history['accuracy']\n",
        "val_acc = results.history['val_accuracy']\n",
        "\n",
        "loss = results.history['loss']\n",
        "val_loss = results.history['val_loss']\n",
        "\n",
        "plt.figure(figsize=(8, 8))\n",
        "plt.subplot(2, 1, 1)\n",
        "plt.plot(acc, label='Training Accuracy')\n",
        "plt.plot(val_acc, label='Validation Accuracy')\n",
        "plt.legend(loc='lower right')\n",
        "plt.ylabel('Accuracy')\n",
        "plt.ylim([min(plt.ylim()),1])\n",
        "plt.title('Training and Validation Accuracy')\n",
        "\n",
        "plt.subplot(2, 1, 2)\n",
        "plt.plot(loss, label='Training Loss')\n",
        "plt.plot(val_loss, label='Validation Loss')\n",
        "plt.legend(loc='upper right')\n",
        "plt.ylabel('Cross Entropy')\n",
        "plt.ylim([0,1.0])\n",
        "plt.title('Training and Validation Loss')\n",
        "plt.xlabel('epoch')\n",
        "plt.show()"
      ],
      "metadata": {
        "colab": {
          "base_uri": "https://localhost:8080/",
          "height": 513
        },
        "id": "G5co-htE5hM6",
        "outputId": "d5e5567e-a5dd-4a7f-df60-901913602649"
      },
      "execution_count": 12,
      "outputs": [
        {
          "output_type": "display_data",
          "data": {
            "text/plain": [
              "<Figure size 576x576 with 2 Axes>"
            ],
            "image/png": "[encoded data removed]"
          },
          "metadata": {
            "needs_background": "light"
          }
        }
      ]
    },
    {
      "cell_type": "code",
      "source": [
        "# 최고의 성능을 내는 파라미터를 불러온다.\n",
        "resnet_model.load_weights(checkpoint_filepath)\n",
        "\n",
        "# best model을 이용한 테스트 데이터 예측 정확도 재확인 코드\n",
        "test_loss, test_acc = resnet_model.evaluate(test, verbose = 1)"
      ],
      "metadata": {
        "colab": {
          "base_uri": "https://localhost:8080/"
        },
        "id": "xjgfL2C14vis",
        "outputId": "e230d012-77a7-459c-dab1-b33155769fd8"
      },
      "execution_count": 13,
      "outputs": [
        {
          "output_type": "stream",
          "name": "stdout",
          "text": [
            "16/16 [==============================] - 27s 775ms/step - loss: 0.1650 - accuracy: 0.9342\n"
          ]
        }
      ]
    },
    {
      "cell_type": "code",
      "source": [
        "# Model 저장\n",
        "resnet_model.save('resnet_base_model.h5')"
      ],
      "metadata": {
        "id": "KTUnDbmR5Op8"
      },
      "execution_count": 14,
      "outputs": []
    },
    {
      "cell_type": "markdown",
      "source": [
        "# InceptionResNetV2 이용한 전이학습"
      ],
      "metadata": {
        "id": "9NMkxUgvSdy2"
      }
    },
    {
      "cell_type": "code",
      "source": [
        "inception_resnet = tf.keras.applications.InceptionResNetV2(\n",
        "                              include_top = False,\n",
        "                              weights = \"imagenet\",\n",
        "                              input_tensor = None,\n",
        "                              input_shape = (256, 256, 3),\n",
        "                              )"
      ],
      "metadata": {
        "id": "WHKZsR3cSeeG"
      },
      "execution_count": 22,
      "outputs": []
    },
    {
      "cell_type": "code",
      "source": [
        "# InceptionResNetV2 레이어들의 파라미터를 새로운 데이터에 맞게 학습하도록 설정\n",
        "for layer in inception_resnet.layers:\n",
        "    layer.trainable = True"
      ],
      "metadata": {
        "id": "q5Udf_VPSp0y"
      },
      "execution_count": 23,
      "outputs": []
    },
    {
      "cell_type": "code",
      "source": [
        "# 모델에 출력층을 생성해준다.\n",
        "x = inception_resnet.output\n",
        "x = GlobalAveragePooling2D()(x)\n",
        "# 다중 분류 모델을 만들어준다.\n",
        "x = Dense(1024, activation='relu')(x)\n",
        "x = Dense(512, activation='relu')(x)\n",
        "x = Dense(256, activation='relu')(x)\n",
        "predictions = Dense(5, activation='softmax')(x) # 출력층을 설계한다.\n",
        "inception_resnet_model = Model(inception_resnet.input, predictions)"
      ],
      "metadata": {
        "id": "gS37PWbmSsqT"
      },
      "execution_count": 24,
      "outputs": []
    },
    {
      "cell_type": "code",
      "source": [
        "inception_resnet_model.summary()"
      ],
      "metadata": {
        "id": "mz88N0URSxLI"
      },
      "execution_count": null,
      "outputs": []
    },
    {
      "cell_type": "code",
      "source": [
        "# 모델 컴파일\n",
        "inception_resnet_model.compile(optimizer = 'adam', loss = 'categorical_crossentropy', metrics = ['accuracy'])"
      ],
      "metadata": {
        "id": "K7kPhQEJSzYA"
      },
      "execution_count": 26,
      "outputs": []
    },
    {
      "cell_type": "markdown",
      "source": [
        "## OOM 때문에 batch size를 64로 줄였다."
      ],
      "metadata": {
        "id": "VDcU-gfuVhQp"
      }
    },
    {
      "cell_type": "code",
      "source": [
        "# 학습시킨 데이터를 저장시키기 위한 코드다. \n",
        "checkpoint_filepath2 = \"inception_resnet_model_best.hdf5\"\n",
        "\n",
        "# early stopping\n",
        "# val_loss 모니터링, patience = 10 → 연속적으로 10번이나 값이 나아지지 않으면 조기 종료\n",
        "early_stop = keras.callbacks.EarlyStopping(monitor = 'val_loss', min_delta = 0, patience = 10, verbose = 1)\n",
        "\n",
        "# Validation Set을 기준으로 가장 최적의 모델을 찾기\n",
        "save_best = keras.callbacks.ModelCheckpoint(filepath = checkpoint_filepath2,\n",
        "                                            monitor = 'val_loss',\n",
        "                                            verbose = 1,\n",
        "                                            save_best_only = True,\n",
        "                                            save_weights_only = True,\n",
        "                                            mode = 'auto',\n",
        "                                            save_freq = 'epoch',\n",
        "                                            options = None)\n",
        "\n",
        "# 변수 설정을 따로 하는 방법을 적용하기 위한 코드입니다. \n",
        "batch_size = 64\n",
        "epochs_max = 50\n",
        "\n",
        "# 모델 학습\n",
        "# 위에서 설정한 batch_size, epochs_max 그대로 가져와서 사용하기\n",
        "results2 = inception_resnet_model.fit(train,\n",
        "                                      batch_size = batch_size,\n",
        "                                      epochs = epochs_max,\n",
        "                                      verbose = 1,\n",
        "                                      validation_data = test,\n",
        "                                      callbacks = [early_stop, save_best])"
      ],
      "metadata": {
        "colab": {
          "base_uri": "https://localhost:8080/"
        },
        "id": "bZzPdFo2S3kz",
        "outputId": "0f314531-b9d4-4488-a79a-37bc151ff1f8"
      },
      "execution_count": 29,
      "outputs": [
        {
          "output_type": "stream",
          "name": "stdout",
          "text": [
            "Epoch 1/50\n",
            "282/282 [==============================] - ETA: 0s - loss: 0.2870 - accuracy: 0.8974\n",
            "Epoch 1: val_loss improved from inf to 0.22112, saving model to inception_resnet_model_best.hdf5\n",
            "282/282 [==============================] - 313s 1s/step - loss: 0.2870 - accuracy: 0.8974 - val_loss: 0.2211 - val_accuracy: 0.9037\n",
            "Epoch 2/50\n",
            "282/282 [==============================] - ETA: 0s - loss: 0.1917 - accuracy: 0.9245\n",
            "Epoch 2: val_loss did not improve from 0.22112\n",
            "282/282 [==============================] - 293s 1s/step - loss: 0.1917 - accuracy: 0.9245 - val_loss: 0.3445 - val_accuracy: 0.8788\n",
            "Epoch 3/50\n",
            "282/282 [==============================] - ETA: 0s - loss: 0.1785 - accuracy: 0.9306\n",
            "Epoch 3: val_loss did not improve from 0.22112\n",
            "282/282 [==============================] - 293s 1s/step - loss: 0.1785 - accuracy: 0.9306 - val_loss: 0.2268 - val_accuracy: 0.9247\n",
            "Epoch 4/50\n",
            "282/282 [==============================] - ETA: 0s - loss: 0.1487 - accuracy: 0.9432\n",
            "Epoch 4: val_loss did not improve from 0.22112\n",
            "282/282 [==============================] - 301s 1s/step - loss: 0.1487 - accuracy: 0.9432 - val_loss: 3.5665 - val_accuracy: 0.6165\n",
            "Epoch 5/50\n",
            "282/282 [==============================] - ETA: 0s - loss: 0.1467 - accuracy: 0.9435\n",
            "Epoch 5: val_loss improved from 0.22112 to 0.14115, saving model to inception_resnet_model_best.hdf5\n",
            "282/282 [==============================] - 309s 1s/step - loss: 0.1467 - accuracy: 0.9435 - val_loss: 0.1412 - val_accuracy: 0.9506\n",
            "Epoch 6/50\n",
            "282/282 [==============================] - ETA: 0s - loss: 0.1175 - accuracy: 0.9546\n",
            "Epoch 6: val_loss did not improve from 0.14115\n",
            "282/282 [==============================] - 347s 1s/step - loss: 0.1175 - accuracy: 0.9546 - val_loss: 2.2379 - val_accuracy: 0.8554\n",
            "Epoch 7/50\n",
            "282/282 [==============================] - ETA: 0s - loss: 0.1248 - accuracy: 0.9522\n",
            "Epoch 7: val_loss did not improve from 0.14115\n",
            "282/282 [==============================] - 307s 1s/step - loss: 0.1248 - accuracy: 0.9522 - val_loss: 0.2158 - val_accuracy: 0.9312\n",
            "Epoch 8/50\n",
            "282/282 [==============================] - ETA: 0s - loss: 0.1150 - accuracy: 0.9562\n",
            "Epoch 8: val_loss did not improve from 0.14115\n",
            "282/282 [==============================] - 322s 1s/step - loss: 0.1150 - accuracy: 0.9562 - val_loss: 0.2195 - val_accuracy: 0.9242\n",
            "Epoch 9/50\n",
            "282/282 [==============================] - ETA: 0s - loss: 0.1035 - accuracy: 0.9607\n",
            "Epoch 9: val_loss did not improve from 0.14115\n",
            "282/282 [==============================] - 306s 1s/step - loss: 0.1035 - accuracy: 0.9607 - val_loss: 0.1626 - val_accuracy: 0.9406\n",
            "Epoch 10/50\n",
            "282/282 [==============================] - ETA: 0s - loss: 0.0822 - accuracy: 0.9685\n",
            "Epoch 10: val_loss did not improve from 0.14115\n",
            "282/282 [==============================] - 326s 1s/step - loss: 0.0822 - accuracy: 0.9685 - val_loss: 0.1639 - val_accuracy: 0.9466\n",
            "Epoch 11/50\n",
            "282/282 [==============================] - ETA: 0s - loss: 0.0734 - accuracy: 0.9717\n",
            "Epoch 11: val_loss did not improve from 0.14115\n",
            "282/282 [==============================] - 306s 1s/step - loss: 0.0734 - accuracy: 0.9717 - val_loss: 0.2481 - val_accuracy: 0.9287\n",
            "Epoch 12/50\n",
            "282/282 [==============================] - ETA: 0s - loss: 0.0654 - accuracy: 0.9753\n",
            "Epoch 12: val_loss did not improve from 0.14115\n",
            "282/282 [==============================] - 308s 1s/step - loss: 0.0654 - accuracy: 0.9753 - val_loss: 0.2612 - val_accuracy: 0.9227\n",
            "Epoch 13/50\n",
            "282/282 [==============================] - ETA: 0s - loss: 0.0750 - accuracy: 0.9731\n",
            "Epoch 13: val_loss did not improve from 0.14115\n",
            "282/282 [==============================] - 307s 1s/step - loss: 0.0750 - accuracy: 0.9731 - val_loss: 0.4438 - val_accuracy: 0.8883\n",
            "Epoch 14/50\n",
            "282/282 [==============================] - ETA: 0s - loss: 0.0597 - accuracy: 0.9780\n",
            "Epoch 14: val_loss did not improve from 0.14115\n",
            "282/282 [==============================] - 315s 1s/step - loss: 0.0597 - accuracy: 0.9780 - val_loss: 0.1844 - val_accuracy: 0.9406\n",
            "Epoch 15/50\n",
            "282/282 [==============================] - ETA: 0s - loss: 0.0538 - accuracy: 0.9813\n",
            "Epoch 15: val_loss did not improve from 0.14115\n",
            "282/282 [==============================] - 312s 1s/step - loss: 0.0538 - accuracy: 0.9813 - val_loss: 0.2028 - val_accuracy: 0.9451\n",
            "Epoch 15: early stopping\n"
          ]
        }
      ]
    },
    {
      "cell_type": "code",
      "source": [
        "# 학습된 모델을 이용하여 테스트하는 코드\n",
        "test_loss, test_acc = inception_resnet_model.evaluate(test, verbose = 1)"
      ],
      "metadata": {
        "colab": {
          "base_uri": "https://localhost:8080/"
        },
        "id": "WVOD4QG6S_68",
        "outputId": "d1198e24-5179-4d66-c3b5-873d72e3b656"
      },
      "execution_count": 30,
      "outputs": [
        {
          "output_type": "stream",
          "name": "stdout",
          "text": [
            "32/32 [==============================] - 27s 577ms/step - loss: 0.2028 - accuracy: 0.9451\n"
          ]
        }
      ]
    },
    {
      "cell_type": "code",
      "source": [
        "acc = results2.history['accuracy']\n",
        "val_acc = results2.history['val_accuracy']\n",
        "loss = results2.history['loss']\n",
        "val_loss = results2.history['val_loss']\n",
        "\n",
        "epochs = range(len(acc))\n",
        "\n",
        "plt.plot(epochs, acc, 'r', label='Training accuracy')\n",
        "plt.plot(epochs, val_acc, 'b', label='Validation accuracy')\n",
        "plt.title('Training and validation accuracy')\n",
        "plt.legend(loc=0)\n",
        "plt.figure()\n",
        "plt.show()"
      ],
      "metadata": {
        "colab": {
          "base_uri": "https://localhost:8080/",
          "height": 299
        },
        "id": "NElfP9a_TIfr",
        "outputId": "77c6eb53-8570-4785-93f7-d37e87d649fd"
      },
      "execution_count": 31,
      "outputs": [
        {
          "output_type": "display_data",
          "data": {
            "text/plain": [
              "<Figure size 432x288 with 1 Axes>"
            ],
            "image/png": "[encoded data removed]"
          },
          "metadata": {
            "needs_background": "light"
          }
        },
        {
          "output_type": "display_data",
          "data": {
            "text/plain": [
              "<Figure size 432x288 with 0 Axes>"
            ]
          },
          "metadata": {}
        }
      ]
    },
    {
      "cell_type": "code",
      "source": [
        "inception_resnet_model.load_weights(checkpoint_filepath2)\n",
        "\n",
        "# best model을 이용한 테스트 데이터 예측 정확도 재확인 코드\n",
        "test_loss, test_acc = inception_resnet_model.evaluate(test, verbose = 1)"
      ],
      "metadata": {
        "colab": {
          "base_uri": "https://localhost:8080/"
        },
        "id": "GJREZveeTONk",
        "outputId": "e5926d7e-c77c-44ad-dee7-66da16e1a48f"
      },
      "execution_count": 32,
      "outputs": [
        {
          "output_type": "stream",
          "name": "stdout",
          "text": [
            "32/32 [==============================] - 27s 576ms/step - loss: 0.1412 - accuracy: 0.9506\n"
          ]
        }
      ]
    },
    {
      "cell_type": "code",
      "source": [
        "# Model 저장\n",
        "inception_resnet_model.save('inception_resnet_model.h5')"
      ],
      "metadata": {
        "id": "Z0emV511UAZy"
      },
      "execution_count": 33,
      "outputs": []
    }
  ]
}