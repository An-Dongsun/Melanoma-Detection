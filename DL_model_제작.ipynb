{
  "nbformat": 4,
  "nbformat_minor": 0,
  "metadata": {
    "colab": {
      "provenance": [],
      "machine_shape": "hm",
      "mount_file_id": "https://github.com/An-Dongsun/Melanoma-Detection/blob/main/DL_model_%EC%A0%9C%EC%9E%91.ipynb",
      "authorship_tag": "ABX9TyNR+bJ8FXi9IJMtYox2BciZ",
      "include_colab_link": true
    },
    "kernelspec": {
      "name": "python3",
      "display_name": "Python 3"
    },
    "language_info": {
      "name": "python"
    },
    "accelerator": "GPU",
    "gpuClass": "standard"
  },
  "cells": [
    {
      "cell_type": "markdown",
      "metadata": {
        "id": "view-in-github",
        "colab_type": "text"
      },
      "source": [
        "<a href=\"https://colab.research.google.com/github/An-Dongsun/Melanoma-Detection/blob/main/DL_model_%EC%A0%9C%EC%9E%91.ipynb\" target=\"_parent\"><img src=\"https://colab.research.google.com/assets/colab-badge.svg\" alt=\"Open In Colab\"/></a>"
      ]
    },
    {
      "cell_type": "markdown",
      "source": [
        "# 흑색종 이미지 분류 모델\n",
        "\n",
        "- 지루성 각화증 → 387개\n",
        "- 모반 → 8,570개\n",
        "- 흑색종(양성) → 5,515개\n",
        "- 흑색종(악성) → 5,119개\n",
        "- 기저 세포 암종(BCC) → 516개"
      ],
      "metadata": {
        "id": "KYn28Ld-djy9"
      }
    },
    {
      "cell_type": "code",
      "execution_count": 19,
      "metadata": {
        "id": "ZXrqoiWodV8b"
      },
      "outputs": [],
      "source": [
        "# 필요할 라이브러리 불러오기\n",
        "import tensorflow as tf\n",
        "import keras\n",
        "import numpy as np\n",
        "import matplotlib.pyplot as plt\n",
        "\n",
        "# 전이학습 모델\n",
        "from tensorflow.keras.applications.resnet50 import ResNet50, preprocess_input, decode_predictions\n",
        "from keras.applications.inception_resnet_v2 import InceptionResNetV2\n",
        "from tensorflow.keras.applications import EfficientNetB7, EfficientNetV2M, EfficientNetV2S, EfficientNetV2B3, EfficientNetV2B1\n",
        "\n",
        "\n",
        "# 분류기 제작\n",
        "from tensorflow.keras.preprocessing import image\n",
        "from tensorflow.keras.layers import Dense, GlobalAveragePooling2D, Conv2D, MaxPooling2D, Flatten, BatchNormalization, Activation, Dropout\n",
        "from tensorflow.keras.models import Model, Sequential, load_model"
      ]
    },
    {
      "cell_type": "markdown",
      "source": [
        "# 1. 데이터 불러오기"
      ],
      "metadata": {
        "id": "Mz4kAnvVeXda"
      }
    },
    {
      "cell_type": "code",
      "source": [
        "# 시드를 고정한다.\n",
        "np.random.seed(42)\n",
        "tf.random.set_seed(42)"
      ],
      "metadata": {
        "id": "0ku9siwXeaCe"
      },
      "execution_count": 20,
      "outputs": []
    },
    {
      "cell_type": "code",
      "source": [
        "# 이미지 파일들 불러오기\n",
        "Dataset_directory = '/content/drive/MyDrive/CP1 데이터'\n",
        "\n",
        "train = tf.keras.preprocessing.image_dataset_from_directory(\n",
        "        Dataset_directory,\n",
        "        labels = \"inferred\",\n",
        "        label_mode = 'categorical', # 레이블이 범주형 벡터로 인코딩됨을 의미\n",
        "        class_names = {'BCC(기저 세포 암종)', 'benign(흑색종 양성)', 'malignant(흑색종 악성)', 'nevus(모반)', 'seborrheic_keratosis(지루성 각화증)'},\n",
        "        color_mode = \"rgb\",\n",
        "        batch_size = 32,\n",
        "        image_size = (256, 256),\n",
        "        shuffle = True,\n",
        "        seed = 42,\n",
        "        validation_split = 0.1,\n",
        "        subset = 'training',\n",
        "        interpolation = \"bilinear\",\n",
        "        follow_links = False,\n",
        "        crop_to_aspect_ratio = False,\n",
        ")\n",
        "\n",
        "test = tf.keras.preprocessing.image_dataset_from_directory(\n",
        "        Dataset_directory,\n",
        "        labels = \"inferred\",\n",
        "        label_mode = 'categorical',\n",
        "        class_names = {'BCC(기저 세포 암종)', 'benign(흑색종 양성)', 'malignant(흑색종 악성)', 'nevus(모반)', 'seborrheic_keratosis(지루성 각화증)'},\n",
        "        color_mode = \"rgb\",\n",
        "        batch_size = 32,\n",
        "        image_size = (256, 256),\n",
        "        shuffle = True,\n",
        "        seed = 42,\n",
        "        validation_split = 0.1,\n",
        "        subset = 'validation',\n",
        "        interpolation = \"bilinear\",\n",
        "        follow_links = False,\n",
        "        crop_to_aspect_ratio = False,\n",
        ")"
      ],
      "metadata": {
        "colab": {
          "base_uri": "https://localhost:8080/"
        },
        "id": "a1I9YXXPeiJO",
        "outputId": "4e2821c5-e119-4b44-c433-9acc4f43d2ba"
      },
      "execution_count": 21,
      "outputs": [
        {
          "output_type": "stream",
          "name": "stdout",
          "text": [
            "Found 20053 files belonging to 5 classes.\n",
            "Using 18048 files for training.\n",
            "Found 20053 files belonging to 5 classes.\n",
            "Using 2005 files for validation.\n"
          ]
        }
      ]
    },
    {
      "cell_type": "markdown",
      "source": [
        "# Restnet50 전이학습\n"
      ],
      "metadata": {
        "id": "t32VrBIymc2j"
      }
    },
    {
      "cell_type": "code",
      "source": [
        "resnet = ResNet50(weights = 'imagenet', include_top = False)"
      ],
      "metadata": {
        "id": "I4AkvJ04meSt"
      },
      "execution_count": null,
      "outputs": []
    },
    {
      "cell_type": "code",
      "source": [
        "# ResNet50 레이어들의 파라미터를 학습하도록 설정\n",
        "for layer in resnet.layers:\n",
        "    layer.trainable = True"
      ],
      "metadata": {
        "id": "LtFGtdLwmkdO"
      },
      "execution_count": null,
      "outputs": []
    },
    {
      "cell_type": "code",
      "source": [
        "# 모델에 출력층을 생성해준다.\n",
        "x = resnet.output\n",
        "x = GlobalAveragePooling2D()(x)\n",
        "# 다중 분류 모델을 만들어준다.\n",
        "x = Dense(1024, activation='relu')(x)\n",
        "x = Dense(512, activation='relu')(x)\n",
        "x = Dense(256, activation='relu')(x)\n",
        "predictions = Dense(5, activation='softmax')(x) # 출력층을 설계한다.\n",
        "resnet_model = Model(resnet.input, predictions)"
      ],
      "metadata": {
        "id": "d9p5xdQpmqfb"
      },
      "execution_count": null,
      "outputs": []
    },
    {
      "cell_type": "code",
      "source": [
        "# 모델의 전체적인 형태 확인해보기\n",
        "resnet_model.summary()"
      ],
      "metadata": {
        "id": "6xE84QZSmvoF"
      },
      "execution_count": null,
      "outputs": []
    },
    {
      "cell_type": "code",
      "source": [
        "# 모델 컴파일\n",
        "resnet_model.compile(optimizer = 'adam', loss = 'categorical_crossentropy', metrics = ['accuracy', 'Precision', 'Recall'])"
      ],
      "metadata": {
        "id": "JkjZb59Bm8AS"
      },
      "execution_count": null,
      "outputs": []
    },
    {
      "cell_type": "code",
      "source": [
        "# 학습시킨 데이터를 저장시키기 위한 코드다. \n",
        "checkpoint_filepath = \"resnet_model_best.hdf5\"\n",
        "\n",
        "# early stopping\n",
        "# val_loss 모니터링, patience = 10 → 연속적으로 10번 값이 나아지지 않으면 조기 종료\n",
        "early_stop = keras.callbacks.EarlyStopping(monitor = 'val_loss', min_delta = 0, patience = 10, verbose = 1)\n",
        "\n",
        "# Validation Set을 기준으로 가장 최적의 모델을 찾기\n",
        "save_best = keras.callbacks.ModelCheckpoint(filepath = checkpoint_filepath,\n",
        "                                            monitor = 'val_loss',\n",
        "                                            verbose = 1,\n",
        "                                            save_best_only = True,\n",
        "                                            save_weights_only = True,\n",
        "                                            mode = 'auto',\n",
        "                                            save_freq = 'epoch',\n",
        "                                            options = None)\n",
        "\n",
        "# 변수 설정을 따로 하는 방법을 적용하기 위한 코드입니다. \n",
        "batch_size = 32\n",
        "epochs_max = 50\n",
        "\n",
        "# 모델 학습\n",
        "# 위에서 설정한 batch_size, epochs_max 그대로 가져와서 사용하기\n",
        "results = resnet_model.fit(train,\n",
        "                            batch_size = batch_size,\n",
        "                            epochs = epochs_max,\n",
        "                            verbose = 1, \n",
        "                            validation_data = test,\n",
        "                            callbacks = [early_stop, save_best])"
      ],
      "metadata": {
        "colab": {
          "base_uri": "https://localhost:8080/"
        },
        "id": "vb0NW2W9nFGh",
        "outputId": "51223e8b-f8a1-4394-e1a1-27dd5748b631"
      },
      "execution_count": null,
      "outputs": [
        {
          "output_type": "stream",
          "name": "stdout",
          "text": [
            "Epoch 1/50\n",
            "564/564 [==============================] - ETA: 0s - loss: 0.3928 - accuracy: 0.8667 - precision: 0.8764 - recall: 0.8533\n",
            "Epoch 1: val_loss improved from inf to 0.49240, saving model to resnet_model_best.hdf5\n",
            "564/564 [==============================] - 1554s 3s/step - loss: 0.3928 - accuracy: 0.8667 - precision: 0.8764 - recall: 0.8533 - val_loss: 0.4924 - val_accuracy: 0.8160 - val_precision: 0.8277 - val_recall: 0.7885\n",
            "Epoch 2/50\n",
            "564/564 [==============================] - ETA: 0s - loss: 0.3300 - accuracy: 0.8820 - precision: 0.8883 - recall: 0.8728\n",
            "Epoch 2: val_loss did not improve from 0.49240\n",
            "564/564 [==============================] - 407s 717ms/step - loss: 0.3300 - accuracy: 0.8820 - precision: 0.8883 - recall: 0.8728 - val_loss: 9.8171 - val_accuracy: 0.2544 - val_precision: 0.2542 - val_recall: 0.2539\n",
            "Epoch 3/50\n",
            "564/564 [==============================] - ETA: 0s - loss: 0.2685 - accuracy: 0.8969 - precision: 0.9011 - recall: 0.8920\n",
            "Epoch 3: val_loss did not improve from 0.49240\n",
            "564/564 [==============================] - 436s 767ms/step - loss: 0.2685 - accuracy: 0.8969 - precision: 0.9011 - recall: 0.8920 - val_loss: 6.7569 - val_accuracy: 0.4484 - val_precision: 0.4488 - val_recall: 0.4484\n",
            "Epoch 4/50\n",
            "564/564 [==============================] - ETA: 0s - loss: 0.2510 - accuracy: 0.9017 - precision: 0.9057 - recall: 0.8974\n",
            "Epoch 4: val_loss improved from 0.49240 to 0.45243, saving model to resnet_model_best.hdf5\n",
            "564/564 [==============================] - 250s 437ms/step - loss: 0.2510 - accuracy: 0.9017 - precision: 0.9057 - recall: 0.8974 - val_loss: 0.4524 - val_accuracy: 0.8274 - val_precision: 0.8557 - val_recall: 0.8075\n",
            "Epoch 5/50\n",
            "564/564 [==============================] - ETA: 0s - loss: 0.2293 - accuracy: 0.9118 - precision: 0.9147 - recall: 0.9085\n",
            "Epoch 5: val_loss did not improve from 0.45243\n",
            "564/564 [==============================] - 251s 437ms/step - loss: 0.2293 - accuracy: 0.9118 - precision: 0.9147 - recall: 0.9085 - val_loss: 0.6582 - val_accuracy: 0.7352 - val_precision: 0.7598 - val_recall: 0.7067\n",
            "Epoch 6/50\n",
            "564/564 [==============================] - ETA: 0s - loss: 0.2179 - accuracy: 0.9149 - precision: 0.9180 - recall: 0.9111\n",
            "Epoch 6: val_loss did not improve from 0.45243\n",
            "564/564 [==============================] - 251s 439ms/step - loss: 0.2179 - accuracy: 0.9149 - precision: 0.9180 - recall: 0.9111 - val_loss: 4.7559 - val_accuracy: 0.4693 - val_precision: 0.4721 - val_recall: 0.4678\n",
            "Epoch 7/50\n",
            "564/564 [==============================] - ETA: 0s - loss: 0.2024 - accuracy: 0.9199 - precision: 0.9220 - recall: 0.9165\n",
            "Epoch 7: val_loss did not improve from 0.45243\n",
            "564/564 [==============================] - 253s 441ms/step - loss: 0.2024 - accuracy: 0.9199 - precision: 0.9220 - recall: 0.9165 - val_loss: 4.5600 - val_accuracy: 0.4125 - val_precision: 0.4122 - val_recall: 0.4100\n",
            "Epoch 8/50\n",
            "564/564 [==============================] - ETA: 0s - loss: 0.1986 - accuracy: 0.9225 - precision: 0.9250 - recall: 0.9197\n",
            "Epoch 8: val_loss did not improve from 0.45243\n",
            "564/564 [==============================] - 251s 438ms/step - loss: 0.1986 - accuracy: 0.9225 - precision: 0.9250 - recall: 0.9197 - val_loss: 3.5255 - val_accuracy: 0.5107 - val_precision: 0.5145 - val_recall: 0.5037\n",
            "Epoch 9/50\n",
            "564/564 [==============================] - ETA: 0s - loss: 0.1867 - accuracy: 0.9261 - precision: 0.9282 - recall: 0.9243\n",
            "Epoch 9: val_loss did not improve from 0.45243\n",
            "564/564 [==============================] - 251s 438ms/step - loss: 0.1867 - accuracy: 0.9261 - precision: 0.9282 - recall: 0.9243 - val_loss: 0.7392 - val_accuracy: 0.8045 - val_precision: 0.8068 - val_recall: 0.8020\n",
            "Epoch 10/50\n",
            "564/564 [==============================] - ETA: 0s - loss: 0.1783 - accuracy: 0.9316 - precision: 0.9331 - recall: 0.9295\n",
            "Epoch 10: val_loss did not improve from 0.45243\n",
            "564/564 [==============================] - 250s 436ms/step - loss: 0.1783 - accuracy: 0.9316 - precision: 0.9331 - recall: 0.9295 - val_loss: 7.3126 - val_accuracy: 0.4504 - val_precision: 0.4494 - val_recall: 0.4474\n",
            "Epoch 11/50\n",
            "564/564 [==============================] - ETA: 0s - loss: 0.1705 - accuracy: 0.9340 - precision: 0.9361 - recall: 0.9322\n",
            "Epoch 11: val_loss improved from 0.45243 to 0.33324, saving model to resnet_model_best.hdf5\n",
            "564/564 [==============================] - 249s 435ms/step - loss: 0.1705 - accuracy: 0.9340 - precision: 0.9361 - recall: 0.9322 - val_loss: 0.3332 - val_accuracy: 0.8983 - val_precision: 0.9067 - val_recall: 0.8868\n",
            "Epoch 12/50\n",
            "564/564 [==============================] - ETA: 0s - loss: 0.1658 - accuracy: 0.9357 - precision: 0.9379 - recall: 0.9343\n",
            "Epoch 12: val_loss did not improve from 0.33324\n",
            "564/564 [==============================] - 249s 435ms/step - loss: 0.1658 - accuracy: 0.9357 - precision: 0.9379 - recall: 0.9343 - val_loss: 2.9747 - val_accuracy: 0.5586 - val_precision: 0.5658 - val_recall: 0.5401\n",
            "Epoch 13/50\n",
            "564/564 [==============================] - ETA: 0s - loss: 0.1444 - accuracy: 0.9441 - precision: 0.9452 - recall: 0.9429\n",
            "Epoch 13: val_loss did not improve from 0.33324\n",
            "564/564 [==============================] - 878s 2s/step - loss: 0.1444 - accuracy: 0.9441 - precision: 0.9452 - recall: 0.9429 - val_loss: 5.0265 - val_accuracy: 0.4978 - val_precision: 0.5005 - val_recall: 0.4958\n",
            "Epoch 14/50\n",
            "564/564 [==============================] - ETA: 0s - loss: 0.1335 - accuracy: 0.9495 - precision: 0.9509 - recall: 0.9487\n",
            "Epoch 14: val_loss did not improve from 0.33324\n",
            "564/564 [==============================] - 248s 434ms/step - loss: 0.1335 - accuracy: 0.9495 - precision: 0.9509 - recall: 0.9487 - val_loss: 0.4563 - val_accuracy: 0.8374 - val_precision: 0.8465 - val_recall: 0.8254\n",
            "Epoch 15/50\n",
            "564/564 [==============================] - ETA: 0s - loss: 0.1313 - accuracy: 0.9497 - precision: 0.9509 - recall: 0.9487\n",
            "Epoch 15: val_loss did not improve from 0.33324\n",
            "564/564 [==============================] - 248s 434ms/step - loss: 0.1313 - accuracy: 0.9497 - precision: 0.9509 - recall: 0.9487 - val_loss: 0.4250 - val_accuracy: 0.8873 - val_precision: 0.8952 - val_recall: 0.8818\n",
            "Epoch 16/50\n",
            "564/564 [==============================] - ETA: 0s - loss: 0.1118 - accuracy: 0.9577 - precision: 0.9583 - recall: 0.9571\n",
            "Epoch 16: val_loss did not improve from 0.33324\n",
            "564/564 [==============================] - 249s 434ms/step - loss: 0.1118 - accuracy: 0.9577 - precision: 0.9583 - recall: 0.9571 - val_loss: 1.3923 - val_accuracy: 0.6524 - val_precision: 0.6630 - val_recall: 0.6379\n",
            "Epoch 17/50\n",
            "564/564 [==============================] - ETA: 0s - loss: 0.1032 - accuracy: 0.9608 - precision: 0.9613 - recall: 0.9604\n",
            "Epoch 17: val_loss did not improve from 0.33324\n",
            "564/564 [==============================] - 285s 498ms/step - loss: 0.1032 - accuracy: 0.9608 - precision: 0.9613 - recall: 0.9604 - val_loss: 0.6971 - val_accuracy: 0.7756 - val_precision: 0.7834 - val_recall: 0.7631\n",
            "Epoch 18/50\n",
            "564/564 [==============================] - ETA: 0s - loss: 0.1002 - accuracy: 0.9625 - precision: 0.9630 - recall: 0.9616\n",
            "Epoch 18: val_loss did not improve from 0.33324\n",
            "564/564 [==============================] - 248s 433ms/step - loss: 0.1002 - accuracy: 0.9625 - precision: 0.9630 - recall: 0.9616 - val_loss: 0.5296 - val_accuracy: 0.9067 - val_precision: 0.9075 - val_recall: 0.9047\n",
            "Epoch 19/50\n",
            "564/564 [==============================] - ETA: 0s - loss: 0.0909 - accuracy: 0.9666 - precision: 0.9670 - recall: 0.9663\n",
            "Epoch 19: val_loss did not improve from 0.33324\n",
            "564/564 [==============================] - 248s 433ms/step - loss: 0.0909 - accuracy: 0.9666 - precision: 0.9670 - recall: 0.9663 - val_loss: 0.5912 - val_accuracy: 0.8414 - val_precision: 0.8485 - val_recall: 0.8324\n",
            "Epoch 20/50\n",
            "564/564 [==============================] - ETA: 0s - loss: 0.0742 - accuracy: 0.9729 - precision: 0.9735 - recall: 0.9725\n",
            "Epoch 20: val_loss did not improve from 0.33324\n",
            "564/564 [==============================] - 251s 438ms/step - loss: 0.0742 - accuracy: 0.9729 - precision: 0.9735 - recall: 0.9725 - val_loss: 0.8472 - val_accuracy: 0.7721 - val_precision: 0.7835 - val_recall: 0.7616\n",
            "Epoch 21/50\n",
            "564/564 [==============================] - ETA: 0s - loss: 0.0775 - accuracy: 0.9723 - precision: 0.9726 - recall: 0.9719\n",
            "Epoch 21: val_loss did not improve from 0.33324\n",
            "564/564 [==============================] - 256s 447ms/step - loss: 0.0775 - accuracy: 0.9723 - precision: 0.9726 - recall: 0.9719 - val_loss: 2.0106 - val_accuracy: 0.6993 - val_precision: 0.7018 - val_recall: 0.6973\n",
            "Epoch 21: early stopping\n"
          ]
        }
      ]
    },
    {
      "cell_type": "markdown",
      "source": [
        "## 학습된 모델을 이용하여 테스트 & 저장"
      ],
      "metadata": {
        "id": "vU3Sa_GT4jBJ"
      }
    },
    {
      "cell_type": "code",
      "source": [
        "# 학습된 모델을 이용하여 테스트하는 코드\n",
        "test_loss, test_acc, test_precision, test_recall = resnet_model.evaluate(test, verbose = 1)"
      ],
      "metadata": {
        "colab": {
          "base_uri": "https://localhost:8080/"
        },
        "id": "m4OZqB9j4m_t",
        "outputId": "8c121210-1763-4f44-a042-b6c74799edb8"
      },
      "execution_count": null,
      "outputs": [
        {
          "output_type": "stream",
          "name": "stdout",
          "text": [
            "63/63 [==============================] - 21s 281ms/step - loss: 2.0106 - accuracy: 0.6993 - precision: 0.7018 - recall: 0.6973\n"
          ]
        }
      ]
    },
    {
      "cell_type": "code",
      "source": [
        "acc = results.history['accuracy']\n",
        "val_acc = results.history['val_accuracy']\n",
        "\n",
        "loss = results.history['loss']\n",
        "val_loss = results.history['val_loss']\n",
        "\n",
        "plt.figure(figsize=(8, 8))\n",
        "plt.subplot(2, 1, 1)\n",
        "plt.plot(acc, label='Training Accuracy')\n",
        "plt.plot(val_acc, label='Validation Accuracy')\n",
        "plt.legend(loc='lower right')\n",
        "plt.ylabel('Accuracy')\n",
        "plt.ylim([min(plt.ylim()),1])\n",
        "plt.title('Training and Validation Accuracy')\n",
        "\n",
        "plt.subplot(2, 1, 2)\n",
        "plt.plot(loss, label='Training Loss')\n",
        "plt.plot(val_loss, label='Validation Loss')\n",
        "plt.legend(loc='upper right')\n",
        "plt.ylabel('Cross Entropy')\n",
        "plt.ylim([0,1.0])\n",
        "plt.title('Training and Validation Loss')\n",
        "plt.xlabel('epoch')\n",
        "plt.show()"
      ],
      "metadata": {
        "colab": {
          "base_uri": "https://localhost:8080/",
          "height": 513
        },
        "id": "G5co-htE5hM6",
        "outputId": "d1de8d0f-415a-416a-c623-311e5ae6182e"
      },
      "execution_count": null,
      "outputs": [
        {
          "output_type": "display_data",
          "data": {
            "text/plain": [
              "<Figure size 576x576 with 2 Axes>"
            ],
            "image/png": "[encoded data removed]"
          },
          "metadata": {
            "needs_background": "light"
          }
        }
      ]
    },
    {
      "cell_type": "code",
      "source": [
        "# 최고의 성능을 내는 파라미터를 불러온다.\n",
        "resnet_model.load_weights(checkpoint_filepath)\n",
        "\n",
        "# best model을 이용한 테스트 데이터 예측 정확도 재확인 코드\n",
        "test_loss, test_acc, test_precision, test_recall = resnet_model.evaluate(test, verbose = 1)"
      ],
      "metadata": {
        "colab": {
          "base_uri": "https://localhost:8080/"
        },
        "id": "xjgfL2C14vis",
        "outputId": "df4f3b80-d4e5-4fe2-e34d-67c229a2dfe5"
      },
      "execution_count": null,
      "outputs": [
        {
          "output_type": "stream",
          "name": "stdout",
          "text": [
            "63/63 [==============================] - 21s 285ms/step - loss: 0.3332 - accuracy: 0.8983 - precision: 0.9067 - recall: 0.8868\n"
          ]
        }
      ]
    },
    {
      "cell_type": "code",
      "source": [
        "# Model 저장\n",
        "resnet_model.save('resnet_base_model.h5')"
      ],
      "metadata": {
        "id": "KTUnDbmR5Op8"
      },
      "execution_count": null,
      "outputs": []
    },
    {
      "cell_type": "markdown",
      "source": [
        "# InceptionResNetV2 이용한 전이학습"
      ],
      "metadata": {
        "id": "9NMkxUgvSdy2"
      }
    },
    {
      "cell_type": "code",
      "source": [
        "inception_resnet = tf.keras.applications.InceptionResNetV2(\n",
        "                              include_top = False,\n",
        "                              weights = \"imagenet\",\n",
        "                              input_tensor = None,\n",
        "                              input_shape = (256, 256, 3),\n",
        "                              )"
      ],
      "metadata": {
        "id": "WHKZsR3cSeeG",
        "colab": {
          "base_uri": "https://localhost:8080/"
        },
        "outputId": "4f34a1e4-7e5e-414c-e613-e91d7cf9a173"
      },
      "execution_count": null,
      "outputs": [
        {
          "output_type": "stream",
          "name": "stdout",
          "text": [
            "Downloading data from https://storage.googleapis.com/tensorflow/keras-applications/inception_resnet_v2/inception_resnet_v2_weights_tf_dim_ordering_tf_kernels_notop.h5\n",
            "219062272/219055592 [==============================] - 1s 0us/step\n",
            "219070464/219055592 [==============================] - 1s 0us/step\n"
          ]
        }
      ]
    },
    {
      "cell_type": "code",
      "source": [
        "# InceptionResNetV2 레이어들의 파라미터를 새로운 데이터에 맞게 학습하도록 설정\n",
        "for layer in inception_resnet.layers:\n",
        "    layer.trainable = True"
      ],
      "metadata": {
        "id": "q5Udf_VPSp0y"
      },
      "execution_count": null,
      "outputs": []
    },
    {
      "cell_type": "code",
      "source": [
        "# 모델에 출력층을 생성해준다.\n",
        "x = inception_resnet.output\n",
        "x = GlobalAveragePooling2D()(x)\n",
        "# 다중 분류 모델을 만들어준다.\n",
        "x = Dense(1024, activation='relu')(x)\n",
        "x = Dense(512, activation='relu')(x)\n",
        "x = Dense(256, activation='relu')(x)\n",
        "predictions = Dense(5, activation='softmax')(x) # 출력층을 설계한다.\n",
        "inception_resnet_model = Model(inception_resnet.input, predictions)"
      ],
      "metadata": {
        "id": "gS37PWbmSsqT"
      },
      "execution_count": null,
      "outputs": []
    },
    {
      "cell_type": "code",
      "source": [
        "inception_resnet_model.summary()"
      ],
      "metadata": {
        "id": "mz88N0URSxLI"
      },
      "execution_count": null,
      "outputs": []
    },
    {
      "cell_type": "code",
      "source": [
        "# 모델 컴파일\n",
        "inception_resnet_model.compile(optimizer = 'adam', loss = 'categorical_crossentropy', metrics = ['accuracy', 'Precision', 'Recall'])"
      ],
      "metadata": {
        "id": "K7kPhQEJSzYA"
      },
      "execution_count": null,
      "outputs": []
    },
    {
      "cell_type": "markdown",
      "source": [
        "## OOM 때문에 batch size를 64로 줄였다."
      ],
      "metadata": {
        "id": "VDcU-gfuVhQp"
      }
    },
    {
      "cell_type": "code",
      "source": [
        "# 학습시킨 데이터를 저장시키기 위한 코드다. \n",
        "checkpoint_filepath2 = \"inception_resnet_model_best.hdf5\"\n",
        "\n",
        "# early stopping\n",
        "# val_loss 모니터링, patience = 10 → 연속적으로 10번이나 값이 나아지지 않으면 조기 종료\n",
        "early_stop = keras.callbacks.EarlyStopping(monitor = 'val_loss', min_delta = 0, patience = 10, verbose = 1)\n",
        "\n",
        "# Validation Set을 기준으로 가장 최적의 모델을 찾기\n",
        "save_best = keras.callbacks.ModelCheckpoint(filepath = checkpoint_filepath2,\n",
        "                                            monitor = 'val_loss',\n",
        "                                            verbose = 1,\n",
        "                                            save_best_only = True,\n",
        "                                            save_weights_only = True,\n",
        "                                            mode = 'auto',\n",
        "                                            save_freq = 'epoch',\n",
        "                                            options = None)\n",
        "\n",
        "# 변수 설정을 따로 하는 방법을 적용하기 위한 코드입니다. \n",
        "batch_size = 32\n",
        "epochs_max = 50\n",
        "\n",
        "# 모델 학습\n",
        "# 위에서 설정한 batch_size, epochs_max 그대로 가져와서 사용하기\n",
        "results2 = inception_resnet_model.fit(train,\n",
        "                                      batch_size = batch_size,\n",
        "                                      epochs = epochs_max,\n",
        "                                      verbose = 1,\n",
        "                                      validation_data = test,\n",
        "                                      callbacks = [early_stop, save_best])"
      ],
      "metadata": {
        "colab": {
          "base_uri": "https://localhost:8080/"
        },
        "id": "bZzPdFo2S3kz",
        "outputId": "57d5c790-1171-419b-b964-e7f0ce01f6e1"
      },
      "execution_count": null,
      "outputs": [
        {
          "output_type": "stream",
          "name": "stdout",
          "text": [
            "Epoch 1/50\n",
            "564/564 [==============================] - ETA: 0s - loss: 0.3215 - accuracy: 0.8874 - precision: 0.8999 - recall: 0.8716\n",
            "Epoch 1: val_loss improved from inf to 0.54179, saving model to inception_resnet_model_best.hdf5\n",
            "564/564 [==============================] - 293s 482ms/step - loss: 0.3215 - accuracy: 0.8874 - precision: 0.8999 - recall: 0.8716 - val_loss: 0.5418 - val_accuracy: 0.8324 - val_precision: 0.8575 - val_recall: 0.8135\n",
            "Epoch 2/50\n",
            "564/564 [==============================] - ETA: 0s - loss: 0.2224 - accuracy: 0.9148 - precision: 0.9202 - recall: 0.9092\n",
            "Epoch 2: val_loss improved from 0.54179 to 0.22619, saving model to inception_resnet_model_best.hdf5\n",
            "564/564 [==============================] - 273s 477ms/step - loss: 0.2224 - accuracy: 0.9148 - precision: 0.9202 - recall: 0.9092 - val_loss: 0.2262 - val_accuracy: 0.9162 - val_precision: 0.9175 - val_recall: 0.9157\n",
            "Epoch 3/50\n",
            "564/564 [==============================] - ETA: 0s - loss: 0.1963 - accuracy: 0.9225 - precision: 0.9263 - recall: 0.9190\n",
            "Epoch 3: val_loss improved from 0.22619 to 0.20806, saving model to inception_resnet_model_best.hdf5\n",
            "564/564 [==============================] - 310s 542ms/step - loss: 0.1963 - accuracy: 0.9225 - precision: 0.9263 - recall: 0.9190 - val_loss: 0.2081 - val_accuracy: 0.9102 - val_precision: 0.9133 - val_recall: 0.9087\n",
            "Epoch 4/50\n",
            "564/564 [==============================] - ETA: 0s - loss: 0.1648 - accuracy: 0.9347 - precision: 0.9364 - recall: 0.9327\n",
            "Epoch 4: val_loss did not improve from 0.20806\n",
            "564/564 [==============================] - 269s 471ms/step - loss: 0.1648 - accuracy: 0.9347 - precision: 0.9364 - recall: 0.9327 - val_loss: 0.9913 - val_accuracy: 0.8953 - val_precision: 0.8969 - val_recall: 0.8938\n",
            "Epoch 5/50\n",
            "564/564 [==============================] - ETA: 0s - loss: 0.1734 - accuracy: 0.9343 - precision: 0.9363 - recall: 0.9317\n",
            "Epoch 5: val_loss did not improve from 0.20806\n",
            "564/564 [==============================] - 282s 495ms/step - loss: 0.1734 - accuracy: 0.9343 - precision: 0.9363 - recall: 0.9317 - val_loss: 0.4038 - val_accuracy: 0.8898 - val_precision: 0.8917 - val_recall: 0.8868\n",
            "Epoch 6/50\n",
            "564/564 [==============================] - ETA: 0s - loss: 0.1378 - accuracy: 0.9471 - precision: 0.9478 - recall: 0.9461\n",
            "Epoch 6: val_loss did not improve from 0.20806\n",
            "564/564 [==============================] - 303s 532ms/step - loss: 0.1378 - accuracy: 0.9471 - precision: 0.9478 - recall: 0.9461 - val_loss: 0.2100 - val_accuracy: 0.9372 - val_precision: 0.9406 - val_recall: 0.9322\n",
            "Epoch 7/50\n",
            "564/564 [==============================] - ETA: 0s - loss: 0.1335 - accuracy: 0.9478 - precision: 0.9485 - recall: 0.9465\n",
            "Epoch 7: val_loss improved from 0.20806 to 0.17147, saving model to inception_resnet_model_best.hdf5\n",
            "564/564 [==============================] - 272s 475ms/step - loss: 0.1335 - accuracy: 0.9478 - precision: 0.9485 - recall: 0.9465 - val_loss: 0.1715 - val_accuracy: 0.9337 - val_precision: 0.9357 - val_recall: 0.9287\n",
            "Epoch 8/50\n",
            "564/564 [==============================] - ETA: 0s - loss: 0.1200 - accuracy: 0.9557 - precision: 0.9569 - recall: 0.9550\n",
            "Epoch 8: val_loss did not improve from 0.17147\n",
            "564/564 [==============================] - 273s 476ms/step - loss: 0.1200 - accuracy: 0.9557 - precision: 0.9569 - recall: 0.9550 - val_loss: 1.7907 - val_accuracy: 0.9242 - val_precision: 0.9247 - val_recall: 0.9242\n",
            "Epoch 9/50\n",
            "564/564 [==============================] - ETA: 0s - loss: 0.1255 - accuracy: 0.9536 - precision: 0.9545 - recall: 0.9522\n",
            "Epoch 9: val_loss did not improve from 0.17147\n",
            "564/564 [==============================] - 272s 476ms/step - loss: 0.1255 - accuracy: 0.9536 - precision: 0.9545 - recall: 0.9522 - val_loss: 0.2295 - val_accuracy: 0.9322 - val_precision: 0.9331 - val_recall: 0.9317\n",
            "Epoch 10/50\n",
            "564/564 [==============================] - ETA: 0s - loss: 0.1435 - accuracy: 0.9486 - precision: 0.9499 - recall: 0.9471\n",
            "Epoch 10: val_loss did not improve from 0.17147\n",
            "564/564 [==============================] - 274s 480ms/step - loss: 0.1435 - accuracy: 0.9486 - precision: 0.9499 - recall: 0.9471 - val_loss: 0.2522 - val_accuracy: 0.9287 - val_precision: 0.9309 - val_recall: 0.9272\n",
            "Epoch 11/50\n",
            "564/564 [==============================] - ETA: 0s - loss: 0.1051 - accuracy: 0.9618 - precision: 0.9623 - recall: 0.9614\n",
            "Epoch 11: val_loss did not improve from 0.17147\n",
            "564/564 [==============================] - 272s 475ms/step - loss: 0.1051 - accuracy: 0.9618 - precision: 0.9623 - recall: 0.9614 - val_loss: 0.3328 - val_accuracy: 0.9067 - val_precision: 0.9132 - val_recall: 0.9022\n",
            "Epoch 12/50\n",
            "564/564 [==============================] - ETA: 0s - loss: 0.0916 - accuracy: 0.9655 - precision: 0.9659 - recall: 0.9651\n",
            "Epoch 12: val_loss did not improve from 0.17147\n",
            "564/564 [==============================] - 277s 483ms/step - loss: 0.0916 - accuracy: 0.9655 - precision: 0.9659 - recall: 0.9651 - val_loss: 0.2595 - val_accuracy: 0.9332 - val_precision: 0.9336 - val_recall: 0.9332\n",
            "Epoch 13/50\n",
            "564/564 [==============================] - ETA: 0s - loss: 0.0883 - accuracy: 0.9678 - precision: 0.9683 - recall: 0.9675\n",
            "Epoch 13: val_loss did not improve from 0.17147\n",
            "564/564 [==============================] - 273s 477ms/step - loss: 0.0883 - accuracy: 0.9678 - precision: 0.9683 - recall: 0.9675 - val_loss: 0.3012 - val_accuracy: 0.9012 - val_precision: 0.9017 - val_recall: 0.9012\n",
            "Epoch 14/50\n",
            "564/564 [==============================] - ETA: 0s - loss: 0.0754 - accuracy: 0.9732 - precision: 0.9735 - recall: 0.9729\n",
            "Epoch 14: val_loss did not improve from 0.17147\n",
            "564/564 [==============================] - 274s 479ms/step - loss: 0.0754 - accuracy: 0.9732 - precision: 0.9735 - recall: 0.9729 - val_loss: 0.1774 - val_accuracy: 0.9446 - val_precision: 0.9451 - val_recall: 0.9446\n",
            "Epoch 15/50\n",
            "564/564 [==============================] - ETA: 0s - loss: 0.0791 - accuracy: 0.9716 - precision: 0.9722 - recall: 0.9711\n",
            "Epoch 15: val_loss did not improve from 0.17147\n",
            "564/564 [==============================] - 273s 477ms/step - loss: 0.0791 - accuracy: 0.9716 - precision: 0.9722 - recall: 0.9711 - val_loss: 1.5803 - val_accuracy: 0.7062 - val_precision: 0.7066 - val_recall: 0.7002\n",
            "Epoch 16/50\n",
            "564/564 [==============================] - ETA: 0s - loss: 0.0701 - accuracy: 0.9756 - precision: 0.9760 - recall: 0.9756\n",
            "Epoch 16: val_loss did not improve from 0.17147\n",
            "564/564 [==============================] - 273s 477ms/step - loss: 0.0701 - accuracy: 0.9756 - precision: 0.9760 - recall: 0.9756 - val_loss: 0.5848 - val_accuracy: 0.8229 - val_precision: 0.8327 - val_recall: 0.8120\n",
            "Epoch 17/50\n",
            "564/564 [==============================] - ETA: 0s - loss: 0.0703 - accuracy: 0.9754 - precision: 0.9756 - recall: 0.9751\n",
            "Epoch 17: val_loss did not improve from 0.17147\n",
            "564/564 [==============================] - 275s 481ms/step - loss: 0.0703 - accuracy: 0.9754 - precision: 0.9756 - recall: 0.9751 - val_loss: 0.2660 - val_accuracy: 0.9347 - val_precision: 0.9347 - val_recall: 0.9347\n",
            "Epoch 17: early stopping\n"
          ]
        }
      ]
    },
    {
      "cell_type": "code",
      "source": [
        "# 학습된 모델을 이용하여 테스트하는 코드\n",
        "test_loss, test_acc, test_precision, test_recall = inception_resnet_model.evaluate(test, verbose = 1)"
      ],
      "metadata": {
        "colab": {
          "base_uri": "https://localhost:8080/"
        },
        "id": "WVOD4QG6S_68",
        "outputId": "48a68a81-ddb4-4fc4-ef06-898b01800992"
      },
      "execution_count": null,
      "outputs": [
        {
          "output_type": "stream",
          "name": "stdout",
          "text": [
            "63/63 [==============================] - 23s 304ms/step - loss: 0.2660 - accuracy: 0.9347 - precision: 0.9347 - recall: 0.9347\n"
          ]
        }
      ]
    },
    {
      "cell_type": "code",
      "source": [
        "acc = results2.history['accuracy']\n",
        "val_acc = results2.history['val_accuracy']\n",
        "\n",
        "loss = results2.history['loss']\n",
        "val_loss = results2.history['val_loss']\n",
        "\n",
        "plt.figure(figsize=(8, 8))\n",
        "plt.subplot(2, 1, 1)\n",
        "plt.plot(acc, label='Training Accuracy')\n",
        "plt.plot(val_acc, label='Validation Accuracy')\n",
        "plt.legend(loc='lower right')\n",
        "plt.ylabel('Accuracy')\n",
        "plt.ylim([min(plt.ylim()),1])\n",
        "plt.title('Training and Validation Accuracy')\n",
        "\n",
        "plt.subplot(2, 1, 2)\n",
        "plt.plot(loss, label='Training Loss')\n",
        "plt.plot(val_loss, label='Validation Loss')\n",
        "plt.legend(loc='upper right')\n",
        "plt.ylabel('Cross Entropy')\n",
        "plt.ylim([0,1.0])\n",
        "plt.title('Training and Validation Loss')\n",
        "plt.xlabel('epoch')\n",
        "plt.show()"
      ],
      "metadata": {
        "colab": {
          "base_uri": "https://localhost:8080/",
          "height": 513
        },
        "id": "NElfP9a_TIfr",
        "outputId": "71e3bf31-6814-4089-950e-53fa321d0517"
      },
      "execution_count": null,
      "outputs": [
        {
          "output_type": "display_data",
          "data": {
            "text/plain": [
              "<Figure size 576x576 with 2 Axes>"
            ],
            "image/png": "[encoded data removed]"
          },
          "metadata": {
            "needs_background": "light"
          }
        }
      ]
    },
    {
      "cell_type": "code",
      "source": [
        "inception_resnet_model.load_weights(checkpoint_filepath2)\n",
        "\n",
        "# best model을 이용한 테스트 데이터 예측 정확도 재확인 코드\n",
        "test_loss, test_acc, test_precision, test_recall = inception_resnet_model.evaluate(test, verbose = 1)"
      ],
      "metadata": {
        "colab": {
          "base_uri": "https://localhost:8080/"
        },
        "id": "GJREZveeTONk",
        "outputId": "b969b9eb-1e21-4c04-a279-244caa46b800"
      },
      "execution_count": null,
      "outputs": [
        {
          "output_type": "stream",
          "name": "stdout",
          "text": [
            "63/63 [==============================] - 23s 301ms/step - loss: 0.1715 - accuracy: 0.9337 - precision: 0.9357 - recall: 0.9287\n"
          ]
        }
      ]
    },
    {
      "cell_type": "code",
      "source": [
        "# Model 저장\n",
        "inception_resnet_model.save('inception_resnet_model.h5')"
      ],
      "metadata": {
        "id": "Z0emV511UAZy"
      },
      "execution_count": null,
      "outputs": []
    },
    {
      "cell_type": "markdown",
      "source": [
        "# EfficientNetV2M"
      ],
      "metadata": {
        "id": "A5NAbkbEpJAE"
      }
    },
    {
      "cell_type": "code",
      "source": [
        "EfficientNet_V2M = tf.keras.applications.efficientnet_v2.EfficientNetV2M(\n",
        "                   include_top = False,\n",
        "                   weights = 'imagenet',\n",
        "                   input_tensor = None,\n",
        "                   input_shape = (256, 256, 3)\n",
        "                   )"
      ],
      "metadata": {
        "colab": {
          "base_uri": "https://localhost:8080/"
        },
        "id": "VAOI8OBKpG1e",
        "outputId": "d58b69b3-8af9-43de-f40e-6fba101837ab"
      },
      "execution_count": null,
      "outputs": [
        {
          "output_type": "stream",
          "name": "stdout",
          "text": [
            "Downloading data from https://storage.googleapis.com/tensorflow/keras-applications/efficientnet_v2/efficientnetv2-m_notop.h5\n",
            "214204416/214201816 [==============================] - 1s 0us/step\n",
            "214212608/214201816 [==============================] - 1s 0us/step\n"
          ]
        }
      ]
    },
    {
      "cell_type": "code",
      "source": [
        "# EfficientNetV2M 레이어들의 파라미터를 새로운 데이터에 맞게 학습하도록 설정\n",
        "for layer in EfficientNet_V2M.layers:\n",
        "    layer.trainable = True"
      ],
      "metadata": {
        "id": "j1B2hdePpqN1"
      },
      "execution_count": null,
      "outputs": []
    },
    {
      "cell_type": "code",
      "source": [
        "# 모델에 출력층을 생성해준다.\n",
        "x = EfficientNet_V2M.output\n",
        "x = GlobalAveragePooling2D()(x)\n",
        "# 다중 분류 모델을 만들어준다.\n",
        "x = Dense(1024, activation='relu')(x)\n",
        "x = Dense(512, activation='relu')(x)\n",
        "x = Dense(256, activation='relu')(x)\n",
        "predictions = Dense(5, activation='softmax')(x) # 출력층을 설계한다.\n",
        "EfficientNet_V2M_model = Model(EfficientNet_V2M.input, predictions)"
      ],
      "metadata": {
        "id": "TUzIItB7pyB0"
      },
      "execution_count": null,
      "outputs": []
    },
    {
      "cell_type": "code",
      "source": [
        "EfficientNet_V2M_model.summary()"
      ],
      "metadata": {
        "id": "1kD3UP0zqOr8"
      },
      "execution_count": null,
      "outputs": []
    },
    {
      "cell_type": "code",
      "source": [
        "# 모델 컴파일\n",
        "EfficientNet_V2M_model.compile(optimizer = 'adam', loss = 'categorical_crossentropy', metrics = ['accuracy'])"
      ],
      "metadata": {
        "id": "llAWtTqlqcI5"
      },
      "execution_count": null,
      "outputs": []
    },
    {
      "cell_type": "markdown",
      "source": [
        "## OOM 때문에 batch size를 32로 줄였다."
      ],
      "metadata": {
        "id": "5xXXRN1ArRi3"
      }
    },
    {
      "cell_type": "code",
      "source": [
        "# 이미지 파일들 불러오기\n",
        "Dataset_directory = '/content/drive/MyDrive/CP1 데이터'\n",
        "\n",
        "train = tf.keras.preprocessing.image_dataset_from_directory(\n",
        "        Dataset_directory,\n",
        "        labels = \"inferred\",\n",
        "        label_mode = 'categorical', # 레이블이 범주형 벡터로 인코딩됨을 의미\n",
        "        class_names = {'BCC(기저 세포 암종)', 'benign(흑색종 양성)', 'malignant(흑색종 악성)', 'nevus(모반)', 'seborrheic_keratosis(지루성 각화증)'},\n",
        "        color_mode = \"rgb\",\n",
        "        batch_size = 32,\n",
        "        image_size = (256, 256),\n",
        "        shuffle = True,\n",
        "        seed = 42,\n",
        "        validation_split = 0.1,\n",
        "        subset = 'training',\n",
        "        interpolation = \"bilinear\",\n",
        "        follow_links = False,\n",
        "        crop_to_aspect_ratio = False,\n",
        ")\n",
        "\n",
        "test = tf.keras.preprocessing.image_dataset_from_directory(\n",
        "        Dataset_directory,\n",
        "        labels = \"inferred\",\n",
        "        label_mode = 'categorical',\n",
        "        class_names = {'BCC(기저 세포 암종)', 'benign(흑색종 양성)', 'malignant(흑색종 악성)', 'nevus(모반)', 'seborrheic_keratosis(지루성 각화증)'},\n",
        "        color_mode = \"rgb\",\n",
        "        batch_size = 32,\n",
        "        image_size = (256, 256),\n",
        "        shuffle = True,\n",
        "        seed = 42,\n",
        "        validation_split = 0.1,\n",
        "        subset = 'validation',\n",
        "        interpolation = \"bilinear\",\n",
        "        follow_links = False,\n",
        "        crop_to_aspect_ratio = False,\n",
        ")"
      ],
      "metadata": {
        "colab": {
          "base_uri": "https://localhost:8080/"
        },
        "id": "h5waNzwRrSBC",
        "outputId": "2782456b-baac-423b-e77e-e15d61537d0f"
      },
      "execution_count": null,
      "outputs": [
        {
          "output_type": "stream",
          "name": "stdout",
          "text": [
            "Found 20053 files belonging to 5 classes.\n",
            "Using 18048 files for training.\n",
            "Found 20053 files belonging to 5 classes.\n",
            "Using 2005 files for validation.\n"
          ]
        }
      ]
    },
    {
      "cell_type": "code",
      "source": [
        "# 학습시킨 데이터를 저장시키기 위한 코드다. \n",
        "checkpoint_filepath3 = \"EfficientNet_V2M_model_best.hdf5\"\n",
        "\n",
        "# early stopping\n",
        "# val_loss 모니터링, patience = 10 → 연속적으로 10번이나 값이 나아지지 않으면 조기 종료\n",
        "early_stop = keras.callbacks.EarlyStopping(monitor = 'val_loss', min_delta = 0, patience = 10, verbose = 1)\n",
        "\n",
        "# Validation Set을 기준으로 가장 최적의 모델을 찾기\n",
        "save_best = keras.callbacks.ModelCheckpoint(filepath = checkpoint_filepath3,\n",
        "                                            monitor = 'val_loss',\n",
        "                                            verbose = 1,\n",
        "                                            save_best_only = True,\n",
        "                                            save_weights_only = True,\n",
        "                                            mode = 'auto',\n",
        "                                            save_freq = 'epoch',\n",
        "                                            options = None)\n",
        "\n",
        "# 변수 설정을 따로 하는 방법을 적용하기 위한 코드입니다. \n",
        "batch_size = 32\n",
        "epochs_max = 50\n",
        "\n",
        "# 모델 학습\n",
        "# 위에서 설정한 batch_size, epochs_max 그대로 가져와서 사용하기\n",
        "results3 = EfficientNet_V2M_model.fit(train,\n",
        "                                      batch_size = batch_size,\n",
        "                                      epochs = epochs_max,\n",
        "                                      verbose = 1,\n",
        "                                      validation_data = test,\n",
        "                                      callbacks = [early_stop, save_best])"
      ],
      "metadata": {
        "colab": {
          "base_uri": "https://localhost:8080/"
        },
        "id": "RCMjxPysqjXG",
        "outputId": "076cbaea-a004-4474-f315-b7ad28fe88cc"
      },
      "execution_count": null,
      "outputs": [
        {
          "output_type": "stream",
          "name": "stdout",
          "text": [
            "Epoch 1/50\n",
            "564/564 [==============================] - ETA: 0s - loss: 0.2224 - accuracy: 0.9167\n",
            "Epoch 1: val_loss improved from inf to 0.25979, saving model to EfficientNet_V2M_model_best.hdf5\n",
            "564/564 [==============================] - 350s 615ms/step - loss: 0.2224 - accuracy: 0.9167 - val_loss: 0.2598 - val_accuracy: 0.8913\n",
            "Epoch 2/50\n",
            "564/564 [==============================] - ETA: 0s - loss: 0.1841 - accuracy: 0.9308\n",
            "Epoch 2: val_loss improved from 0.25979 to 0.19290, saving model to EfficientNet_V2M_model_best.hdf5\n",
            "564/564 [==============================] - 350s 613ms/step - loss: 0.1841 - accuracy: 0.9308 - val_loss: 0.1929 - val_accuracy: 0.9347\n",
            "Epoch 3/50\n",
            "564/564 [==============================] - ETA: 0s - loss: 0.1769 - accuracy: 0.9328\n",
            "Epoch 3: val_loss improved from 0.19290 to 0.16663, saving model to EfficientNet_V2M_model_best.hdf5\n",
            "564/564 [==============================] - 350s 614ms/step - loss: 0.1769 - accuracy: 0.9328 - val_loss: 0.1666 - val_accuracy: 0.9332\n",
            "Epoch 4/50\n",
            "564/564 [==============================] - ETA: 0s - loss: 0.1486 - accuracy: 0.9435\n",
            "Epoch 4: val_loss did not improve from 0.16663\n",
            "564/564 [==============================] - 349s 610ms/step - loss: 0.1486 - accuracy: 0.9435 - val_loss: 0.1676 - val_accuracy: 0.9332\n",
            "Epoch 5/50\n",
            "564/564 [==============================] - ETA: 0s - loss: 0.1492 - accuracy: 0.9435\n",
            "Epoch 5: val_loss improved from 0.16663 to 0.16249, saving model to EfficientNet_V2M_model_best.hdf5\n",
            "564/564 [==============================] - 351s 614ms/step - loss: 0.1492 - accuracy: 0.9435 - val_loss: 0.1625 - val_accuracy: 0.9456\n",
            "Epoch 6/50\n",
            "564/564 [==============================] - ETA: 0s - loss: 0.1341 - accuracy: 0.9486\n",
            "Epoch 6: val_loss did not improve from 0.16249\n",
            "564/564 [==============================] - 350s 611ms/step - loss: 0.1341 - accuracy: 0.9486 - val_loss: 0.1705 - val_accuracy: 0.9406\n",
            "Epoch 7/50\n",
            "564/564 [==============================] - ETA: 0s - loss: 0.1130 - accuracy: 0.9562\n",
            "Epoch 7: val_loss did not improve from 0.16249\n",
            "564/564 [==============================] - 349s 612ms/step - loss: 0.1130 - accuracy: 0.9562 - val_loss: 0.2352 - val_accuracy: 0.9237\n",
            "Epoch 8/50\n",
            "564/564 [==============================] - ETA: 0s - loss: 0.1107 - accuracy: 0.9592\n",
            "Epoch 8: val_loss improved from 0.16249 to 0.15273, saving model to EfficientNet_V2M_model_best.hdf5\n",
            "564/564 [==============================] - 350s 613ms/step - loss: 0.1107 - accuracy: 0.9592 - val_loss: 0.1527 - val_accuracy: 0.9491\n",
            "Epoch 9/50\n",
            "564/564 [==============================] - ETA: 0s - loss: 0.0821 - accuracy: 0.9690\n",
            "Epoch 9: val_loss did not improve from 0.15273\n",
            "564/564 [==============================] - 350s 612ms/step - loss: 0.0821 - accuracy: 0.9690 - val_loss: 0.1597 - val_accuracy: 0.9416\n",
            "Epoch 10/50\n",
            "564/564 [==============================] - ETA: 0s - loss: 0.1024 - accuracy: 0.9652\n",
            "Epoch 10: val_loss did not improve from 0.15273\n",
            "564/564 [==============================] - 349s 612ms/step - loss: 0.1024 - accuracy: 0.9652 - val_loss: 0.2413 - val_accuracy: 0.9182\n",
            "Epoch 11/50\n",
            "564/564 [==============================] - ETA: 0s - loss: 0.0596 - accuracy: 0.9795\n",
            "Epoch 11: val_loss did not improve from 0.15273\n",
            "564/564 [==============================] - 348s 609ms/step - loss: 0.0596 - accuracy: 0.9795 - val_loss: 0.2483 - val_accuracy: 0.9072\n",
            "Epoch 12/50\n",
            "564/564 [==============================] - ETA: 0s - loss: 0.0514 - accuracy: 0.9817\n",
            "Epoch 12: val_loss did not improve from 0.15273\n",
            "564/564 [==============================] - 422s 740ms/step - loss: 0.0514 - accuracy: 0.9817 - val_loss: 0.2451 - val_accuracy: 0.9142\n",
            "Epoch 13/50\n",
            "564/564 [==============================] - ETA: 0s - loss: 0.0614 - accuracy: 0.9792\n",
            "Epoch 13: val_loss did not improve from 0.15273\n",
            "564/564 [==============================] - 793s 1s/step - loss: 0.0614 - accuracy: 0.9792 - val_loss: 0.2536 - val_accuracy: 0.9292\n",
            "Epoch 14/50\n",
            "564/564 [==============================] - ETA: 0s - loss: 0.0468 - accuracy: 0.9835\n",
            "Epoch 14: val_loss did not improve from 0.15273\n",
            "564/564 [==============================] - 349s 611ms/step - loss: 0.0468 - accuracy: 0.9835 - val_loss: 0.2985 - val_accuracy: 0.9411\n",
            "Epoch 15/50\n",
            "564/564 [==============================] - ETA: 0s - loss: 0.0535 - accuracy: 0.9817\n",
            "Epoch 15: val_loss did not improve from 0.15273\n",
            "564/564 [==============================] - 349s 610ms/step - loss: 0.0535 - accuracy: 0.9817 - val_loss: 0.3138 - val_accuracy: 0.9476\n",
            "Epoch 16/50\n",
            "564/564 [==============================] - ETA: 0s - loss: 0.0370 - accuracy: 0.9879\n",
            "Epoch 16: val_loss did not improve from 0.15273\n",
            "564/564 [==============================] - 348s 610ms/step - loss: 0.0370 - accuracy: 0.9879 - val_loss: 0.2852 - val_accuracy: 0.9337\n",
            "Epoch 17/50\n",
            "564/564 [==============================] - ETA: 0s - loss: 0.0387 - accuracy: 0.9877\n",
            "Epoch 17: val_loss did not improve from 0.15273\n",
            "564/564 [==============================] - 349s 611ms/step - loss: 0.0387 - accuracy: 0.9877 - val_loss: 0.2262 - val_accuracy: 0.9397\n",
            "Epoch 18/50\n",
            "564/564 [==============================] - ETA: 0s - loss: 0.0361 - accuracy: 0.9871\n",
            "Epoch 18: val_loss did not improve from 0.15273\n",
            "564/564 [==============================] - 548s 965ms/step - loss: 0.0361 - accuracy: 0.9871 - val_loss: 0.2748 - val_accuracy: 0.9466\n",
            "Epoch 18: early stopping\n"
          ]
        }
      ]
    },
    {
      "cell_type": "code",
      "source": [
        "# 학습된 모델을 이용하여 테스트하는 코드\n",
        "test_loss, test_acc = EfficientNet_V2M_model.evaluate(test, verbose = 1)"
      ],
      "metadata": {
        "colab": {
          "base_uri": "https://localhost:8080/"
        },
        "id": "7qzO62JrtJpB",
        "outputId": "10013f3f-202f-4907-a706-d26a52e6524c"
      },
      "execution_count": null,
      "outputs": [
        {
          "output_type": "stream",
          "name": "stdout",
          "text": [
            "63/63 [==============================] - 26s 352ms/step - loss: 0.2748 - accuracy: 0.9466\n"
          ]
        }
      ]
    },
    {
      "cell_type": "code",
      "source": [
        "acc = results3.history['accuracy']\n",
        "val_acc = results3.history['val_accuracy']\n",
        "\n",
        "loss = results3.history['loss']\n",
        "val_loss = results3.history['val_loss']\n",
        "\n",
        "plt.figure(figsize=(8, 8))\n",
        "plt.subplot(2, 1, 1)\n",
        "plt.plot(acc, label='Training Accuracy')\n",
        "plt.plot(val_acc, label='Validation Accuracy')\n",
        "plt.legend(loc='lower right')\n",
        "plt.ylabel('Accuracy')\n",
        "plt.ylim([min(plt.ylim()),1])\n",
        "plt.title('Training and Validation Accuracy')\n",
        "\n",
        "plt.subplot(2, 1, 2)\n",
        "plt.plot(loss, label='Training Loss')\n",
        "plt.plot(val_loss, label='Validation Loss')\n",
        "plt.legend(loc='upper right')\n",
        "plt.ylabel('Cross Entropy')\n",
        "plt.ylim([0,1.0])\n",
        "plt.title('Training and Validation Loss')\n",
        "plt.xlabel('epoch')\n",
        "plt.show()"
      ],
      "metadata": {
        "colab": {
          "base_uri": "https://localhost:8080/",
          "height": 513
        },
        "id": "ihiNP9dHtRe5",
        "outputId": "1a73003c-36c6-4334-8dd0-1d62ca02fd1a"
      },
      "execution_count": null,
      "outputs": [
        {
          "output_type": "display_data",
          "data": {
            "text/plain": [
              "<Figure size 576x576 with 2 Axes>"
            ],
            "image/png": "[encoded data removed]"
          },
          "metadata": {
            "needs_background": "light"
          }
        }
      ]
    },
    {
      "cell_type": "code",
      "source": [
        "EfficientNet_V2M_model.load_weights(checkpoint_filepath3)\n",
        "\n",
        "# best model을 이용한 테스트 데이터 예측 정확도 재확인 코드\n",
        "test_loss, test_acc = EfficientNet_V2M_model.evaluate(test, verbose = 1)"
      ],
      "metadata": {
        "colab": {
          "base_uri": "https://localhost:8080/"
        },
        "id": "5jn492QGtX-P",
        "outputId": "2ab83ff5-9aa0-4911-ff2d-cc6367eebe9d"
      },
      "execution_count": null,
      "outputs": [
        {
          "output_type": "stream",
          "name": "stdout",
          "text": [
            "63/63 [==============================] - 27s 353ms/step - loss: 0.1527 - accuracy: 0.9491\n"
          ]
        }
      ]
    },
    {
      "cell_type": "code",
      "source": [
        "# Model 저장\n",
        "EfficientNet_V2M_model.save('EfficientNet_V2M_model.h5')"
      ],
      "metadata": {
        "id": "_J5anVwztozh"
      },
      "execution_count": null,
      "outputs": []
    },
    {
      "cell_type": "markdown",
      "source": [
        "# EfficientNetV2S"
      ],
      "metadata": {
        "id": "uJNqbqZ7MHdd"
      }
    },
    {
      "cell_type": "code",
      "source": [
        "EfficientNet_V2S = tf.keras.applications.efficientnet_v2.EfficientNetV2S(\n",
        "                   include_top = False,\n",
        "                   weights = 'imagenet',\n",
        "                   input_tensor = None,\n",
        "                   input_shape = (256, 256, 3)\n",
        "                   )"
      ],
      "metadata": {
        "colab": {
          "base_uri": "https://localhost:8080/"
        },
        "id": "I1zp3WKQMU4U",
        "outputId": "e2e751f9-fdcd-47f2-d6bc-e001ea04f441"
      },
      "execution_count": null,
      "outputs": [
        {
          "output_type": "stream",
          "name": "stdout",
          "text": [
            "Downloading data from https://storage.googleapis.com/tensorflow/keras-applications/efficientnet_v2/efficientnetv2-s_notop.h5\n",
            "82427904/82420632 [==============================] - 1s 0us/step\n",
            "82436096/82420632 [==============================] - 1s 0us/step\n"
          ]
        }
      ]
    },
    {
      "cell_type": "code",
      "source": [
        "# EfficientNetV2S 레이어들의 파라미터를 새로운 데이터에 맞게 학습하도록 설정\n",
        "for layer in EfficientNet_V2S.layers:\n",
        "    layer.trainable = True"
      ],
      "metadata": {
        "id": "DUW0MUq7MeKF"
      },
      "execution_count": null,
      "outputs": []
    },
    {
      "cell_type": "code",
      "source": [
        "# 모델에 출력층을 생성해준다.\n",
        "x = EfficientNet_V2S.output\n",
        "x = GlobalAveragePooling2D()(x)\n",
        "# 다중 분류 모델을 만들어준다.\n",
        "x = Dense(1024, activation='relu')(x)\n",
        "x = Dense(512, activation='relu')(x)\n",
        "x = Dense(256, activation='relu')(x)\n",
        "predictions = Dense(5, activation='softmax')(x) # 출력층을 설계한다.\n",
        "EfficientNet_V2S_model = Model(EfficientNet_V2S.input, predictions)"
      ],
      "metadata": {
        "id": "BOKV5LGxMsbd"
      },
      "execution_count": null,
      "outputs": []
    },
    {
      "cell_type": "code",
      "source": [
        "EfficientNet_V2S_model.summary()"
      ],
      "metadata": {
        "id": "gGYrsGC0Mzd8"
      },
      "execution_count": null,
      "outputs": []
    },
    {
      "cell_type": "code",
      "source": [
        "# 모델 컴파일\n",
        "EfficientNet_V2S_model.compile(optimizer = 'adam', loss = 'categorical_crossentropy', metrics = ['accuracy', 'Precision','Recall'])"
      ],
      "metadata": {
        "id": "1qJzDpJ1M8gH"
      },
      "execution_count": null,
      "outputs": []
    },
    {
      "cell_type": "code",
      "source": [
        "# 학습시킨 데이터를 저장시키기 위한 코드다. \n",
        "checkpoint_filepath4 = \"EfficientNet_V2S_model_best.hdf5\"\n",
        "\n",
        "# early stopping\n",
        "# val_loss 모니터링, patience = 10 → 연속적으로 10번이나 값이 나아지지 않으면 조기 종료\n",
        "early_stop = keras.callbacks.EarlyStopping(monitor = 'val_loss', min_delta = 0, patience = 10, verbose = 1)\n",
        "\n",
        "# Validation Set을 기준으로 가장 최적의 모델을 찾기\n",
        "save_best = keras.callbacks.ModelCheckpoint(filepath = checkpoint_filepath4,\n",
        "                                            monitor = 'val_loss',\n",
        "                                            verbose = 1,\n",
        "                                            save_best_only = True,\n",
        "                                            save_weights_only = True,\n",
        "                                            mode = 'auto',\n",
        "                                            save_freq = 'epoch',\n",
        "                                            options = None)\n",
        "\n",
        "# 변수 설정을 따로 하는 방법을 적용하기 위한 코드입니다. \n",
        "batch_size = 32\n",
        "epochs_max = 50\n",
        "\n",
        "# 모델 학습\n",
        "# 위에서 설정한 batch_size, epochs_max 그대로 가져와서 사용하기\n",
        "results4 = EfficientNet_V2S_model.fit(train,\n",
        "                                      batch_size = batch_size,\n",
        "                                      epochs = epochs_max,\n",
        "                                      verbose = 1,\n",
        "                                      validation_data = test,\n",
        "                                      callbacks = [early_stop, save_best])"
      ],
      "metadata": {
        "colab": {
          "base_uri": "https://localhost:8080/"
        },
        "id": "QXspCn5UNcI-",
        "outputId": "fd6bfadb-251d-4790-89df-d6df441e5741"
      },
      "execution_count": null,
      "outputs": [
        {
          "output_type": "stream",
          "name": "stdout",
          "text": [
            "Epoch 1/50\n",
            "564/564 [==============================] - ETA: 0s - loss: 0.1825 - accuracy: 0.9302 - precision: 0.9335 - recall: 0.9276\n",
            "Epoch 1: val_loss improved from inf to 0.22140, saving model to EfficientNet_V2S_model_best.hdf5\n",
            "564/564 [==============================] - 285s 499ms/step - loss: 0.1825 - accuracy: 0.9302 - precision: 0.9335 - recall: 0.9276 - val_loss: 0.2214 - val_accuracy: 0.9087 - val_precision: 0.9107 - val_recall: 0.9057\n",
            "Epoch 2/50\n",
            "564/564 [==============================] - ETA: 0s - loss: 0.1685 - accuracy: 0.9370 - precision: 0.9386 - recall: 0.9347\n",
            "Epoch 2: val_loss improved from 0.22140 to 0.16807, saving model to EfficientNet_V2S_model_best.hdf5\n",
            "564/564 [==============================] - 296s 518ms/step - loss: 0.1685 - accuracy: 0.9370 - precision: 0.9386 - recall: 0.9347 - val_loss: 0.1681 - val_accuracy: 0.9342 - val_precision: 0.9457 - val_recall: 0.9302\n",
            "Epoch 3/50\n",
            "564/564 [==============================] - ETA: 0s - loss: 0.1426 - accuracy: 0.9447 - precision: 0.9465 - recall: 0.9432\n",
            "Epoch 3: val_loss improved from 0.16807 to 0.16187, saving model to EfficientNet_V2S_model_best.hdf5\n",
            "564/564 [==============================] - 299s 521ms/step - loss: 0.1426 - accuracy: 0.9447 - precision: 0.9465 - recall: 0.9432 - val_loss: 0.1619 - val_accuracy: 0.9332 - val_precision: 0.9340 - val_recall: 0.9317\n",
            "Epoch 4/50\n",
            "564/564 [==============================] - ETA: 0s - loss: 0.1527 - accuracy: 0.9443 - precision: 0.9464 - recall: 0.9420\n",
            "Epoch 4: val_loss did not improve from 0.16187\n",
            "564/564 [==============================] - 298s 520ms/step - loss: 0.1527 - accuracy: 0.9443 - precision: 0.9464 - recall: 0.9420 - val_loss: 0.1639 - val_accuracy: 0.9466 - val_precision: 0.9466 - val_recall: 0.9461\n",
            "Epoch 5/50\n",
            "564/564 [==============================] - ETA: 0s - loss: 0.1327 - accuracy: 0.9515 - precision: 0.9524 - recall: 0.9499\n",
            "Epoch 5: val_loss improved from 0.16187 to 0.14656, saving model to EfficientNet_V2S_model_best.hdf5\n",
            "564/564 [==============================] - 297s 520ms/step - loss: 0.1327 - accuracy: 0.9515 - precision: 0.9524 - recall: 0.9499 - val_loss: 0.1466 - val_accuracy: 0.9476 - val_precision: 0.9486 - val_recall: 0.9471\n",
            "Epoch 6/50\n",
            "564/564 [==============================] - ETA: 0s - loss: 0.1206 - accuracy: 0.9544 - precision: 0.9555 - recall: 0.9535\n",
            "Epoch 6: val_loss did not improve from 0.14656\n",
            "564/564 [==============================] - 298s 521ms/step - loss: 0.1206 - accuracy: 0.9544 - precision: 0.9555 - recall: 0.9535 - val_loss: 0.1555 - val_accuracy: 0.9471 - val_precision: 0.9480 - val_recall: 0.9461\n",
            "Epoch 7/50\n",
            "564/564 [==============================] - ETA: 0s - loss: 0.1031 - accuracy: 0.9609 - precision: 0.9618 - recall: 0.9601\n",
            "Epoch 7: val_loss did not improve from 0.14656\n",
            "564/564 [==============================] - 317s 554ms/step - loss: 0.1031 - accuracy: 0.9609 - precision: 0.9618 - recall: 0.9601 - val_loss: 0.1870 - val_accuracy: 0.9362 - val_precision: 0.9375 - val_recall: 0.9352\n",
            "Epoch 8/50\n",
            "564/564 [==============================] - ETA: 0s - loss: 0.0985 - accuracy: 0.9627 - precision: 0.9633 - recall: 0.9616\n",
            "Epoch 8: val_loss did not improve from 0.14656\n",
            "564/564 [==============================] - 297s 519ms/step - loss: 0.0985 - accuracy: 0.9627 - precision: 0.9633 - recall: 0.9616 - val_loss: 0.2139 - val_accuracy: 0.9322 - val_precision: 0.9410 - val_recall: 0.9302\n",
            "Epoch 9/50\n",
            "564/564 [==============================] - ETA: 0s - loss: 0.1014 - accuracy: 0.9634 - precision: 0.9644 - recall: 0.9623\n",
            "Epoch 9: val_loss did not improve from 0.14656\n",
            "564/564 [==============================] - 299s 522ms/step - loss: 0.1014 - accuracy: 0.9634 - precision: 0.9644 - recall: 0.9623 - val_loss: 0.1531 - val_accuracy: 0.9446 - val_precision: 0.9446 - val_recall: 0.9441\n",
            "Epoch 10/50\n",
            "564/564 [==============================] - ETA: 0s - loss: 0.0724 - accuracy: 0.9726 - precision: 0.9727 - recall: 0.9722\n",
            "Epoch 10: val_loss did not improve from 0.14656\n",
            "564/564 [==============================] - 297s 519ms/step - loss: 0.0724 - accuracy: 0.9726 - precision: 0.9727 - recall: 0.9722 - val_loss: 0.2073 - val_accuracy: 0.9352 - val_precision: 0.9352 - val_recall: 0.9352\n",
            "Epoch 11/50\n",
            "564/564 [==============================] - ETA: 0s - loss: 0.0760 - accuracy: 0.9725 - precision: 0.9734 - recall: 0.9716\n",
            "Epoch 11: val_loss did not improve from 0.14656\n",
            "564/564 [==============================] - 298s 522ms/step - loss: 0.0760 - accuracy: 0.9725 - precision: 0.9734 - recall: 0.9716 - val_loss: 0.1623 - val_accuracy: 0.9541 - val_precision: 0.9541 - val_recall: 0.9531\n",
            "Epoch 12/50\n",
            "564/564 [==============================] - ETA: 0s - loss: 0.0500 - accuracy: 0.9825 - precision: 0.9828 - recall: 0.9824\n",
            "Epoch 12: val_loss did not improve from 0.14656\n",
            "564/564 [==============================] - 300s 524ms/step - loss: 0.0500 - accuracy: 0.9825 - precision: 0.9828 - recall: 0.9824 - val_loss: 0.2546 - val_accuracy: 0.9372 - val_precision: 0.9372 - val_recall: 0.9372\n",
            "Epoch 13/50\n",
            "564/564 [==============================] - ETA: 0s - loss: 0.0531 - accuracy: 0.9818 - precision: 0.9821 - recall: 0.9813\n",
            "Epoch 13: val_loss improved from 0.14656 to 0.14525, saving model to EfficientNet_V2S_model_best.hdf5\n",
            "564/564 [==============================] - 305s 533ms/step - loss: 0.0531 - accuracy: 0.9818 - precision: 0.9821 - recall: 0.9813 - val_loss: 0.1452 - val_accuracy: 0.9521 - val_precision: 0.9521 - val_recall: 0.9521\n",
            "Epoch 14/50\n",
            "564/564 [==============================] - ETA: 0s - loss: 0.0391 - accuracy: 0.9858 - precision: 0.9859 - recall: 0.9856\n",
            "Epoch 14: val_loss did not improve from 0.14525\n",
            "564/564 [==============================] - 350s 612ms/step - loss: 0.0391 - accuracy: 0.9858 - precision: 0.9859 - recall: 0.9856 - val_loss: 0.2510 - val_accuracy: 0.9471 - val_precision: 0.9471 - val_recall: 0.9471\n",
            "Epoch 15/50\n",
            "564/564 [==============================] - ETA: 0s - loss: 0.0478 - accuracy: 0.9837 - precision: 0.9840 - recall: 0.9835\n",
            "Epoch 15: val_loss did not improve from 0.14525\n",
            "564/564 [==============================] - 301s 527ms/step - loss: 0.0478 - accuracy: 0.9837 - precision: 0.9840 - recall: 0.9835 - val_loss: 0.2375 - val_accuracy: 0.9392 - val_precision: 0.9391 - val_recall: 0.9387\n",
            "Epoch 16/50\n",
            "564/564 [==============================] - ETA: 0s - loss: 0.0445 - accuracy: 0.9858 - precision: 0.9861 - recall: 0.9856\n",
            "Epoch 16: val_loss did not improve from 0.14525\n",
            "564/564 [==============================] - 304s 531ms/step - loss: 0.0445 - accuracy: 0.9858 - precision: 0.9861 - recall: 0.9856 - val_loss: 0.2391 - val_accuracy: 0.9451 - val_precision: 0.9451 - val_recall: 0.9451\n",
            "Epoch 17/50\n",
            "564/564 [==============================] - ETA: 0s - loss: 0.0336 - accuracy: 0.9889 - precision: 0.9890 - recall: 0.9885\n",
            "Epoch 17: val_loss did not improve from 0.14525\n",
            "564/564 [==============================] - 774s 1s/step - loss: 0.0336 - accuracy: 0.9889 - precision: 0.9890 - recall: 0.9885 - val_loss: 0.2350 - val_accuracy: 0.9382 - val_precision: 0.9386 - val_recall: 0.9382\n",
            "Epoch 18/50\n",
            "564/564 [==============================] - ETA: 0s - loss: 0.0230 - accuracy: 0.9922 - precision: 0.9922 - recall: 0.9920\n",
            "Epoch 18: val_loss did not improve from 0.14525\n",
            "564/564 [==============================] - 360s 631ms/step - loss: 0.0230 - accuracy: 0.9922 - precision: 0.9922 - recall: 0.9920 - val_loss: 0.2744 - val_accuracy: 0.9401 - val_precision: 0.9406 - val_recall: 0.9401\n",
            "Epoch 19/50\n",
            "564/564 [==============================] - ETA: 0s - loss: 0.0449 - accuracy: 0.9851 - precision: 0.9859 - recall: 0.9847\n",
            "Epoch 19: val_loss did not improve from 0.14525\n",
            "564/564 [==============================] - 782s 1s/step - loss: 0.0449 - accuracy: 0.9851 - precision: 0.9859 - recall: 0.9847 - val_loss: 0.2113 - val_accuracy: 0.9347 - val_precision: 0.9351 - val_recall: 0.9342\n",
            "Epoch 20/50\n",
            "564/564 [==============================] - ETA: 0s - loss: 0.0418 - accuracy: 0.9844 - precision: 0.9849 - recall: 0.9843\n",
            "Epoch 20: val_loss did not improve from 0.14525\n",
            "564/564 [==============================] - 312s 545ms/step - loss: 0.0418 - accuracy: 0.9844 - precision: 0.9849 - recall: 0.9843 - val_loss: 0.2298 - val_accuracy: 0.9526 - val_precision: 0.9526 - val_recall: 0.9521\n",
            "Epoch 21/50\n",
            "564/564 [==============================] - ETA: 0s - loss: 0.0240 - accuracy: 0.9921 - precision: 0.9924 - recall: 0.9921\n",
            "Epoch 21: val_loss did not improve from 0.14525\n",
            "564/564 [==============================] - 307s 537ms/step - loss: 0.0240 - accuracy: 0.9921 - precision: 0.9924 - recall: 0.9921 - val_loss: 0.2524 - val_accuracy: 0.9466 - val_precision: 0.9476 - val_recall: 0.9461\n",
            "Epoch 22/50\n",
            "564/564 [==============================] - ETA: 0s - loss: 0.0206 - accuracy: 0.9933 - precision: 0.9933 - recall: 0.9932\n",
            "Epoch 22: val_loss did not improve from 0.14525\n",
            "564/564 [==============================] - 306s 535ms/step - loss: 0.0206 - accuracy: 0.9933 - precision: 0.9933 - recall: 0.9932 - val_loss: 0.2451 - val_accuracy: 0.9506 - val_precision: 0.9506 - val_recall: 0.9506\n",
            "Epoch 23/50\n",
            "564/564 [==============================] - ETA: 0s - loss: 0.0260 - accuracy: 0.9916 - precision: 0.9917 - recall: 0.9915\n",
            "Epoch 23: val_loss did not improve from 0.14525\n",
            "564/564 [==============================] - 303s 530ms/step - loss: 0.0260 - accuracy: 0.9916 - precision: 0.9917 - recall: 0.9915 - val_loss: 0.2927 - val_accuracy: 0.9377 - val_precision: 0.9376 - val_recall: 0.9372\n",
            "Epoch 23: early stopping\n"
          ]
        }
      ]
    },
    {
      "cell_type": "code",
      "source": [
        "# 학습된 모델을 이용하여 테스트하는 코드\n",
        "test_loss, test_acc, test_precision, test_recall = EfficientNet_V2S_model.evaluate(test, verbose = 1)"
      ],
      "metadata": {
        "colab": {
          "base_uri": "https://localhost:8080/"
        },
        "id": "RCKTMnFhQcP3",
        "outputId": "bc2e2963-3e4c-4b36-af97-3aa4e4f17784"
      },
      "execution_count": null,
      "outputs": [
        {
          "output_type": "stream",
          "name": "stdout",
          "text": [
            "63/63 [==============================] - 26s 344ms/step - loss: 0.2927 - accuracy: 0.9377 - precision: 0.9376 - recall: 0.9372\n"
          ]
        }
      ]
    },
    {
      "cell_type": "code",
      "source": [
        "acc = results4.history['accuracy']\n",
        "val_acc = results4.history['val_accuracy']\n",
        "\n",
        "loss = results4.history['loss']\n",
        "val_loss = results4.history['val_loss']\n",
        "\n",
        "plt.figure(figsize=(8, 8))\n",
        "plt.subplot(2, 1, 1)\n",
        "plt.plot(acc, label='Training Accuracy')\n",
        "plt.plot(val_acc, label='Validation Accuracy')\n",
        "plt.legend(loc='lower right')\n",
        "plt.ylabel('Accuracy')\n",
        "plt.ylim([min(plt.ylim()),1])\n",
        "plt.title('Training and Validation Accuracy')\n",
        "\n",
        "plt.subplot(2, 1, 2)\n",
        "plt.plot(loss, label='Training Loss')\n",
        "plt.plot(val_loss, label='Validation Loss')\n",
        "plt.legend(loc='upper right')\n",
        "plt.ylabel('Cross Entropy')\n",
        "plt.ylim([0,1.0])\n",
        "plt.title('Training and Validation Loss')\n",
        "plt.xlabel('epoch')\n",
        "plt.show()"
      ],
      "metadata": {
        "colab": {
          "base_uri": "https://localhost:8080/",
          "height": 513
        },
        "id": "jGb1TiL-Qh65",
        "outputId": "97d580e9-0814-4371-bce9-a91007e0bda7"
      },
      "execution_count": null,
      "outputs": [
        {
          "output_type": "display_data",
          "data": {
            "text/plain": [
              "<Figure size 576x576 with 2 Axes>"
            ],
            "image/png": "[encoded data removed]"
          },
          "metadata": {
            "needs_background": "light"
          }
        }
      ]
    },
    {
      "cell_type": "code",
      "source": [
        "EfficientNet_V2S_model.load_weights(checkpoint_filepath4)\n",
        "\n",
        "# best model을 이용한 테스트 데이터 예측 정확도 재확인 코드\n",
        "test_loss, test_acc, test_precision, test_recall = EfficientNet_V2S_model.evaluate(test, verbose = 1)"
      ],
      "metadata": {
        "colab": {
          "base_uri": "https://localhost:8080/"
        },
        "id": "WB-4QbArQnom",
        "outputId": "fd10a445-6356-4cad-cd02-1b7b1219e3ec"
      },
      "execution_count": null,
      "outputs": [
        {
          "output_type": "stream",
          "name": "stdout",
          "text": [
            "63/63 [==============================] - 26s 347ms/step - loss: 0.1452 - accuracy: 0.9521 - precision: 0.9521 - recall: 0.9521\n"
          ]
        }
      ]
    },
    {
      "cell_type": "code",
      "source": [
        "# Model 저장\n",
        "EfficientNet_V2S_model.save('EfficientNet_V2S_model.h5')"
      ],
      "metadata": {
        "id": "5Ci2Kn_jQvYq"
      },
      "execution_count": null,
      "outputs": []
    },
    {
      "cell_type": "markdown",
      "source": [
        "# EfficientNetV2B3"
      ],
      "metadata": {
        "id": "jrSyQj62u679"
      }
    },
    {
      "cell_type": "code",
      "source": [
        "EfficientNet_V2B3 = tf.keras.applications.efficientnet_v2.EfficientNetV2B3(\n",
        "                   include_top = False,\n",
        "                   weights = 'imagenet',\n",
        "                   input_tensor = None,\n",
        "                   input_shape = (256, 256, 3)\n",
        "                   )"
      ],
      "metadata": {
        "colab": {
          "base_uri": "https://localhost:8080/"
        },
        "id": "BAEUeYJxu8kW",
        "outputId": "572083cf-e9b7-4df4-c79c-fd280749cb63"
      },
      "execution_count": null,
      "outputs": [
        {
          "output_type": "stream",
          "name": "stdout",
          "text": [
            "Downloading data from https://storage.googleapis.com/tensorflow/keras-applications/efficientnet_v2/efficientnetv2-b3_notop.h5\n",
            "52609024/52606240 [==============================] - 0s 0us/step\n",
            "52617216/52606240 [==============================] - 0s 0us/step\n"
          ]
        }
      ]
    },
    {
      "cell_type": "code",
      "source": [
        "# EfficientNetV2B3 레이어들의 파라미터를 새로운 데이터에 맞게 학습하도록 설정\n",
        "for layer in EfficientNet_V2B3.layers:\n",
        "    layer.trainable = True"
      ],
      "metadata": {
        "id": "-8IKm_EFvKuW"
      },
      "execution_count": null,
      "outputs": []
    },
    {
      "cell_type": "code",
      "source": [
        "# 모델에 출력층을 생성해준다.\n",
        "x = EfficientNet_V2B3.output\n",
        "x = GlobalAveragePooling2D()(x)\n",
        "# 다중 분류 모델을 만들어준다.\n",
        "x = Dense(1024, activation='relu')(x)\n",
        "x = Dense(512, activation='relu')(x)\n",
        "x = Dense(256, activation='relu')(x)\n",
        "predictions = Dense(5, activation='softmax')(x) # 출력층을 설계한다.\n",
        "EfficientNet_V2B3_model = Model(EfficientNet_V2B3.input, predictions)"
      ],
      "metadata": {
        "id": "UpebF_0rvRF7"
      },
      "execution_count": null,
      "outputs": []
    },
    {
      "cell_type": "code",
      "source": [
        "EfficientNet_V2B3_model.summary()"
      ],
      "metadata": {
        "id": "K20SYMGdvXhY"
      },
      "execution_count": null,
      "outputs": []
    },
    {
      "cell_type": "code",
      "source": [
        "# 모델 컴파일\n",
        "EfficientNet_V2B3_model.compile(optimizer = 'adam', loss = 'categorical_crossentropy', metrics = ['accuracy', 'Precision','Recall'])"
      ],
      "metadata": {
        "id": "6tZyrPJ_vb40"
      },
      "execution_count": null,
      "outputs": []
    },
    {
      "cell_type": "code",
      "source": [
        "# 학습시킨 데이터를 저장시키기 위한 코드다. \n",
        "checkpoint_filepath5 = \"EfficientNet_V2B3_model_best.hdf5\"\n",
        "\n",
        "# early stopping\n",
        "# val_loss 모니터링, patience = 10 → 연속적으로 10번이나 값이 나아지지 않으면 조기 종료\n",
        "early_stop = keras.callbacks.EarlyStopping(monitor = 'val_loss', min_delta = 0, patience = 10, verbose = 1)\n",
        "\n",
        "# Validation Set을 기준으로 가장 최적의 모델을 찾기\n",
        "save_best = keras.callbacks.ModelCheckpoint(filepath = checkpoint_filepath5,\n",
        "                                            monitor = 'val_loss',\n",
        "                                            verbose = 1,\n",
        "                                            save_best_only = True,\n",
        "                                            save_weights_only = True,\n",
        "                                            mode = 'auto',\n",
        "                                            save_freq = 'epoch',\n",
        "                                            options = None)\n",
        "\n",
        "# 변수 설정을 따로 하는 방법을 적용하기 위한 코드입니다. \n",
        "batch_size = 32\n",
        "epochs_max = 50\n",
        "\n",
        "# 모델 학습\n",
        "# 위에서 설정한 batch_size, epochs_max 그대로 가져와서 사용하기\n",
        "results5 = EfficientNet_V2B3_model.fit(train,\n",
        "                                      batch_size = batch_size,\n",
        "                                      epochs = epochs_max,\n",
        "                                      verbose = 1,\n",
        "                                      validation_data = test,\n",
        "                                      callbacks = [early_stop, save_best])"
      ],
      "metadata": {
        "colab": {
          "base_uri": "https://localhost:8080/"
        },
        "id": "R1Uuci1Dvf5E",
        "outputId": "55364e14-bf27-4930-aca1-68515f7c3855"
      },
      "execution_count": null,
      "outputs": [
        {
          "output_type": "stream",
          "name": "stdout",
          "text": [
            "Epoch 1/50\n",
            "564/564 [==============================] - ETA: 0s - loss: 0.3078 - accuracy: 0.8876 - precision: 0.8977 - recall: 0.8768\n",
            "Epoch 1: val_loss improved from inf to 0.17255, saving model to EfficientNet_V2B3_model_best.hdf5\n",
            "564/564 [==============================] - 272s 448ms/step - loss: 0.3078 - accuracy: 0.8876 - precision: 0.8977 - recall: 0.8768 - val_loss: 0.1726 - val_accuracy: 0.9262 - val_precision: 0.9312 - val_recall: 0.9242\n",
            "Epoch 2/50\n",
            "564/564 [==============================] - ETA: 0s - loss: 0.2017 - accuracy: 0.9246 - precision: 0.9271 - recall: 0.9208\n",
            "Epoch 2: val_loss did not improve from 0.17255\n",
            "564/564 [==============================] - 255s 445ms/step - loss: 0.2017 - accuracy: 0.9246 - precision: 0.9271 - recall: 0.9208 - val_loss: 0.2298 - val_accuracy: 0.9187 - val_precision: 0.9204 - val_recall: 0.9167\n",
            "Epoch 3/50\n",
            "564/564 [==============================] - ETA: 0s - loss: 0.1727 - accuracy: 0.9348 - precision: 0.9364 - recall: 0.9324\n",
            "Epoch 3: val_loss improved from 0.17255 to 0.15105, saving model to EfficientNet_V2B3_model_best.hdf5\n",
            "564/564 [==============================] - 258s 450ms/step - loss: 0.1727 - accuracy: 0.9348 - precision: 0.9364 - recall: 0.9324 - val_loss: 0.1510 - val_accuracy: 0.9496 - val_precision: 0.9510 - val_recall: 0.9496\n",
            "Epoch 4/50\n",
            "564/564 [==============================] - ETA: 0s - loss: 0.1523 - accuracy: 0.9437 - precision: 0.9455 - recall: 0.9418\n",
            "Epoch 4: val_loss did not improve from 0.15105\n",
            "564/564 [==============================] - 257s 449ms/step - loss: 0.1523 - accuracy: 0.9437 - precision: 0.9455 - recall: 0.9418 - val_loss: 0.1576 - val_accuracy: 0.9421 - val_precision: 0.9431 - val_recall: 0.9421\n",
            "Epoch 5/50\n",
            "564/564 [==============================] - ETA: 0s - loss: 0.1397 - accuracy: 0.9490 - precision: 0.9501 - recall: 0.9478\n",
            "Epoch 5: val_loss improved from 0.15105 to 0.14064, saving model to EfficientNet_V2B3_model_best.hdf5\n",
            "564/564 [==============================] - 314s 551ms/step - loss: 0.1397 - accuracy: 0.9490 - precision: 0.9501 - recall: 0.9478 - val_loss: 0.1406 - val_accuracy: 0.9451 - val_precision: 0.9455 - val_recall: 0.9431\n",
            "Epoch 6/50\n",
            "564/564 [==============================] - ETA: 0s - loss: 0.1201 - accuracy: 0.9555 - precision: 0.9569 - recall: 0.9545\n",
            "Epoch 6: val_loss did not improve from 0.14064\n",
            "564/564 [==============================] - 274s 480ms/step - loss: 0.1201 - accuracy: 0.9555 - precision: 0.9569 - recall: 0.9545 - val_loss: 0.1645 - val_accuracy: 0.9416 - val_precision: 0.9434 - val_recall: 0.9401\n",
            "Epoch 7/50\n",
            "564/564 [==============================] - ETA: 0s - loss: 0.1249 - accuracy: 0.9535 - precision: 0.9550 - recall: 0.9522\n",
            "Epoch 7: val_loss did not improve from 0.14064\n",
            "564/564 [==============================] - 256s 448ms/step - loss: 0.1249 - accuracy: 0.9535 - precision: 0.9550 - recall: 0.9522 - val_loss: 0.1612 - val_accuracy: 0.9406 - val_precision: 0.9425 - val_recall: 0.9397\n",
            "Epoch 8/50\n",
            "564/564 [==============================] - ETA: 0s - loss: 0.1006 - accuracy: 0.9644 - precision: 0.9648 - recall: 0.9635\n",
            "Epoch 8: val_loss did not improve from 0.14064\n",
            "564/564 [==============================] - 259s 452ms/step - loss: 0.1006 - accuracy: 0.9644 - precision: 0.9648 - recall: 0.9635 - val_loss: 0.1489 - val_accuracy: 0.9436 - val_precision: 0.9445 - val_recall: 0.9426\n",
            "Epoch 9/50\n",
            "564/564 [==============================] - ETA: 0s - loss: 0.1024 - accuracy: 0.9644 - precision: 0.9656 - recall: 0.9639\n",
            "Epoch 9: val_loss did not improve from 0.14064\n",
            "564/564 [==============================] - 283s 496ms/step - loss: 0.1024 - accuracy: 0.9644 - precision: 0.9656 - recall: 0.9639 - val_loss: 0.1681 - val_accuracy: 0.9466 - val_precision: 0.9475 - val_recall: 0.9456\n",
            "Epoch 10/50\n",
            "564/564 [==============================] - ETA: 0s - loss: 0.0928 - accuracy: 0.9656 - precision: 0.9664 - recall: 0.9645\n",
            "Epoch 10: val_loss did not improve from 0.14064\n",
            "564/564 [==============================] - 277s 484ms/step - loss: 0.0928 - accuracy: 0.9656 - precision: 0.9664 - recall: 0.9645 - val_loss: 0.1615 - val_accuracy: 0.9441 - val_precision: 0.9441 - val_recall: 0.9436\n",
            "Epoch 11/50\n",
            "564/564 [==============================] - ETA: 0s - loss: 0.0808 - accuracy: 0.9717 - precision: 0.9723 - recall: 0.9708\n",
            "Epoch 11: val_loss did not improve from 0.14064\n",
            "564/564 [==============================] - 255s 446ms/step - loss: 0.0808 - accuracy: 0.9717 - precision: 0.9723 - recall: 0.9708 - val_loss: 0.1780 - val_accuracy: 0.9406 - val_precision: 0.9415 - val_recall: 0.9397\n",
            "Epoch 12/50\n",
            "564/564 [==============================] - ETA: 0s - loss: 0.0625 - accuracy: 0.9774 - precision: 0.9778 - recall: 0.9768\n",
            "Epoch 12: val_loss did not improve from 0.14064\n",
            "564/564 [==============================] - 255s 446ms/step - loss: 0.0625 - accuracy: 0.9774 - precision: 0.9778 - recall: 0.9768 - val_loss: 0.1818 - val_accuracy: 0.9411 - val_precision: 0.9416 - val_recall: 0.9411\n",
            "Epoch 13/50\n",
            "564/564 [==============================] - ETA: 0s - loss: 0.0705 - accuracy: 0.9755 - precision: 0.9764 - recall: 0.9746\n",
            "Epoch 13: val_loss did not improve from 0.14064\n",
            "564/564 [==============================] - 272s 476ms/step - loss: 0.0705 - accuracy: 0.9755 - precision: 0.9764 - recall: 0.9746 - val_loss: 0.2145 - val_accuracy: 0.9431 - val_precision: 0.9436 - val_recall: 0.9426\n",
            "Epoch 14/50\n",
            "564/564 [==============================] - ETA: 0s - loss: 0.0553 - accuracy: 0.9819 - precision: 0.9825 - recall: 0.9815\n",
            "Epoch 14: val_loss did not improve from 0.14064\n",
            "564/564 [==============================] - 258s 451ms/step - loss: 0.0553 - accuracy: 0.9819 - precision: 0.9825 - recall: 0.9815 - val_loss: 0.2523 - val_accuracy: 0.9317 - val_precision: 0.9317 - val_recall: 0.9317\n",
            "Epoch 15/50\n",
            "564/564 [==============================] - ETA: 0s - loss: 0.0432 - accuracy: 0.9850 - precision: 0.9853 - recall: 0.9849\n",
            "Epoch 15: val_loss did not improve from 0.14064\n",
            "564/564 [==============================] - 258s 451ms/step - loss: 0.0432 - accuracy: 0.9850 - precision: 0.9853 - recall: 0.9849 - val_loss: 0.2073 - val_accuracy: 0.9476 - val_precision: 0.9476 - val_recall: 0.9476\n",
            "Epoch 15: early stopping\n"
          ]
        }
      ]
    },
    {
      "cell_type": "code",
      "source": [
        "# 학습된 모델을 이용하여 테스트하는 코드\n",
        "test_loss, test_acc, test_precision, test_recall = EfficientNet_V2B3_model.evaluate(test, verbose = 1)"
      ],
      "metadata": {
        "colab": {
          "base_uri": "https://localhost:8080/"
        },
        "id": "3VU580mgvpeG",
        "outputId": "4ca2bc76-7916-469a-d3a0-cdd6a99fce5b"
      },
      "execution_count": null,
      "outputs": [
        {
          "output_type": "stream",
          "name": "stdout",
          "text": [
            "63/63 [==============================] - 21s 285ms/step - loss: 0.2073 - accuracy: 0.9476 - precision: 0.9476 - recall: 0.9476\n"
          ]
        }
      ]
    },
    {
      "cell_type": "code",
      "source": [
        "acc = results5.history['accuracy']\n",
        "val_acc = results5.history['val_accuracy']\n",
        "\n",
        "loss = results5.history['loss']\n",
        "val_loss = results5.history['val_loss']\n",
        "\n",
        "plt.figure(figsize=(8, 8))\n",
        "plt.subplot(2, 1, 1)\n",
        "plt.plot(acc, label='Training Accuracy')\n",
        "plt.plot(val_acc, label='Validation Accuracy')\n",
        "plt.legend(loc='lower right')\n",
        "plt.ylabel('Accuracy')\n",
        "plt.ylim([min(plt.ylim()),1])\n",
        "plt.title('Training and Validation Accuracy')\n",
        "\n",
        "plt.subplot(2, 1, 2)\n",
        "plt.plot(loss, label='Training Loss')\n",
        "plt.plot(val_loss, label='Validation Loss')\n",
        "plt.legend(loc='upper right')\n",
        "plt.ylabel('Cross Entropy')\n",
        "plt.ylim([0,1.0])\n",
        "plt.title('Training and Validation Loss')\n",
        "plt.xlabel('epoch')\n",
        "plt.show()"
      ],
      "metadata": {
        "colab": {
          "base_uri": "https://localhost:8080/",
          "height": 513
        },
        "id": "LjRi5ZXKvuKV",
        "outputId": "62eae66c-dea7-4f54-d1cb-d00fc8ead3c6"
      },
      "execution_count": null,
      "outputs": [
        {
          "output_type": "display_data",
          "data": {
            "text/plain": [
              "<Figure size 576x576 with 2 Axes>"
            ],
            "image/png": "[encoded data removed]"
          },
          "metadata": {
            "needs_background": "light"
          }
        }
      ]
    },
    {
      "cell_type": "code",
      "source": [
        "EfficientNet_V2B3_model.load_weights(checkpoint_filepath5)\n",
        "\n",
        "# best model을 이용한 테스트 데이터 예측 정확도 재확인 코드\n",
        "test_loss, test_acc, test_precision, test_recall = EfficientNet_V2B3_model.evaluate(test, verbose = 1)"
      ],
      "metadata": {
        "colab": {
          "base_uri": "https://localhost:8080/"
        },
        "id": "vvim5vwavzSv",
        "outputId": "d7d563e0-e077-45dc-e7fb-818367f489ef"
      },
      "execution_count": null,
      "outputs": [
        {
          "output_type": "stream",
          "name": "stdout",
          "text": [
            "63/63 [==============================] - 21s 283ms/step - loss: 0.1406 - accuracy: 0.9451 - precision: 0.9455 - recall: 0.9431\n"
          ]
        }
      ]
    },
    {
      "cell_type": "code",
      "source": [
        "# Model 저장\n",
        "EfficientNet_V2B3_model.save('EfficientNet_V2B3_model.h5')"
      ],
      "metadata": {
        "id": "sGwGn8gXv4qf"
      },
      "execution_count": null,
      "outputs": []
    },
    {
      "cell_type": "markdown",
      "source": [
        "# EfficientNetV2B1"
      ],
      "metadata": {
        "id": "WOid_j9lCm49"
      }
    },
    {
      "cell_type": "code",
      "source": [
        "EfficientNet_V2B1 = tf.keras.applications.efficientnet_v2.EfficientNetV2B1(\n",
        "                   include_top = False,\n",
        "                   weights = 'imagenet',\n",
        "                   input_tensor = None,\n",
        "                   input_shape = (256, 256, 3)\n",
        "                   )"
      ],
      "metadata": {
        "id": "YhYlepd8CoRh",
        "outputId": "6ac9a843-8607-407b-85e3-a3ba160baa11",
        "colab": {
          "base_uri": "https://localhost:8080/"
        }
      },
      "execution_count": null,
      "outputs": [
        {
          "output_type": "stream",
          "name": "stdout",
          "text": [
            "Downloading data from https://storage.googleapis.com/tensorflow/keras-applications/efficientnet_v2/efficientnetv2-b1_notop.h5\n",
            "28459008/28456008 [==============================] - 0s 0us/step\n",
            "28467200/28456008 [==============================] - 0s 0us/step\n"
          ]
        }
      ]
    },
    {
      "cell_type": "code",
      "source": [
        "# EfficientNetV2B1 레이어들의 파라미터를 새로운 데이터에 맞게 학습하도록 설정\n",
        "for layer in EfficientNet_V2B1.layers:\n",
        "    layer.trainable = True"
      ],
      "metadata": {
        "id": "l-ngQcCmCwVa"
      },
      "execution_count": null,
      "outputs": []
    },
    {
      "cell_type": "code",
      "source": [
        "# 모델에 출력층을 생성해준다.\n",
        "x = EfficientNet_V2B1.output\n",
        "x = GlobalAveragePooling2D()(x)\n",
        "# 다중 분류 모델을 만들어준다.\n",
        "x = Dense(1024, activation='relu')(x)\n",
        "x = Dense(512, activation='relu')(x)\n",
        "x = Dense(256, activation='relu')(x)\n",
        "predictions = Dense(5, activation='softmax')(x) # 출력층을 설계한다.\n",
        "EfficientNet_V2B1_model = Model(EfficientNet_V2B1.input, predictions)"
      ],
      "metadata": {
        "id": "V2tVyI0pC0Vo"
      },
      "execution_count": null,
      "outputs": []
    },
    {
      "cell_type": "code",
      "source": [
        "EfficientNet_V2B1_model.summary()"
      ],
      "metadata": {
        "id": "XJTyhThVC6bO"
      },
      "execution_count": null,
      "outputs": []
    },
    {
      "cell_type": "code",
      "source": [
        "# 모델 컴파일\n",
        "EfficientNet_V2B1_model.compile(optimizer = 'adam', loss = 'categorical_crossentropy', metrics = ['accuracy', 'Precision','Recall'])"
      ],
      "metadata": {
        "id": "aDBs9rupDBMk"
      },
      "execution_count": null,
      "outputs": []
    },
    {
      "cell_type": "code",
      "source": [
        "# 학습시킨 데이터를 저장시키기 위한 코드다. \n",
        "checkpoint_filepath6 = \"EfficientNet_V2B1_model_best.hdf5\"\n",
        "\n",
        "# early stopping\n",
        "# val_loss 모니터링, patience = 10 → 연속적으로 10번이나 값이 나아지지 않으면 조기 종료\n",
        "early_stop = keras.callbacks.EarlyStopping(monitor = 'val_loss', min_delta = 0, patience = 10, verbose = 1)\n",
        "\n",
        "# Validation Set을 기준으로 가장 최적의 모델을 찾기\n",
        "save_best = keras.callbacks.ModelCheckpoint(filepath = checkpoint_filepath6,\n",
        "                                            monitor = 'val_loss',\n",
        "                                            verbose = 1,\n",
        "                                            save_best_only = True,\n",
        "                                            save_weights_only = True,\n",
        "                                            mode = 'auto',\n",
        "                                            save_freq = 'epoch',\n",
        "                                            options = None)\n",
        "\n",
        "# 변수 설정을 따로 하는 방법을 적용하기 위한 코드입니다. \n",
        "batch_size = 32\n",
        "epochs_max = 50\n",
        "\n",
        "# 모델 학습\n",
        "# 위에서 설정한 batch_size, epochs_max 그대로 가져와서 사용하기\n",
        "results6 = EfficientNet_V2B1_model.fit(train,\n",
        "                                      batch_size = batch_size,\n",
        "                                      epochs = epochs_max,\n",
        "                                      verbose = 1,\n",
        "                                      validation_data = test,\n",
        "                                      callbacks = [early_stop, save_best])"
      ],
      "metadata": {
        "id": "PQzHG9KYDE2L",
        "outputId": "a747a180-62e0-4c5a-da8b-a60e97cc0f64",
        "colab": {
          "base_uri": "https://localhost:8080/"
        }
      },
      "execution_count": null,
      "outputs": [
        {
          "output_type": "stream",
          "name": "stdout",
          "text": [
            "Epoch 1/50\n",
            "564/564 [==============================] - ETA: 0s - loss: 0.2787 - accuracy: 0.9006 - precision: 0.9094 - recall: 0.8907\n",
            "Epoch 1: val_loss improved from inf to 0.18672, saving model to EfficientNet_V2B1_model_best.hdf5\n",
            "564/564 [==============================] - 277s 462ms/step - loss: 0.2787 - accuracy: 0.9006 - precision: 0.9094 - recall: 0.8907 - val_loss: 0.1867 - val_accuracy: 0.9307 - val_precision: 0.9347 - val_recall: 0.9282\n",
            "Epoch 2/50\n",
            "564/564 [==============================] - ETA: 0s - loss: 0.1914 - accuracy: 0.9278 - precision: 0.9309 - recall: 0.9236\n",
            "Epoch 2: val_loss improved from 0.18672 to 0.16524, saving model to EfficientNet_V2B1_model_best.hdf5\n",
            "564/564 [==============================] - 259s 453ms/step - loss: 0.1914 - accuracy: 0.9278 - precision: 0.9309 - recall: 0.9236 - val_loss: 0.1652 - val_accuracy: 0.9411 - val_precision: 0.9416 - val_recall: 0.9411\n",
            "Epoch 3/50\n",
            "564/564 [==============================] - ETA: 0s - loss: 0.1752 - accuracy: 0.9350 - precision: 0.9361 - recall: 0.9324\n",
            "Epoch 3: val_loss improved from 0.16524 to 0.14645, saving model to EfficientNet_V2B1_model_best.hdf5\n",
            "564/564 [==============================] - 258s 450ms/step - loss: 0.1752 - accuracy: 0.9350 - precision: 0.9361 - recall: 0.9324 - val_loss: 0.1465 - val_accuracy: 0.9476 - val_precision: 0.9494 - val_recall: 0.9456\n",
            "Epoch 4/50\n",
            "564/564 [==============================] - ETA: 0s - loss: 0.1541 - accuracy: 0.9418 - precision: 0.9439 - recall: 0.9404\n",
            "Epoch 4: val_loss did not improve from 0.14645\n",
            "564/564 [==============================] - 255s 446ms/step - loss: 0.1541 - accuracy: 0.9418 - precision: 0.9439 - recall: 0.9404 - val_loss: 0.1703 - val_accuracy: 0.9411 - val_precision: 0.9416 - val_recall: 0.9401\n",
            "Epoch 5/50\n",
            "564/564 [==============================] - ETA: 0s - loss: 0.1319 - accuracy: 0.9501 - precision: 0.9510 - recall: 0.9490\n",
            "Epoch 5: val_loss did not improve from 0.14645\n",
            "564/564 [==============================] - 257s 449ms/step - loss: 0.1319 - accuracy: 0.9501 - precision: 0.9510 - recall: 0.9490 - val_loss: 0.2065 - val_accuracy: 0.9387 - val_precision: 0.9396 - val_recall: 0.9387\n",
            "Epoch 6/50\n",
            "564/564 [==============================] - ETA: 0s - loss: 0.1369 - accuracy: 0.9507 - precision: 0.9519 - recall: 0.9494\n",
            "Epoch 6: val_loss did not improve from 0.14645\n",
            "564/564 [==============================] - 257s 448ms/step - loss: 0.1369 - accuracy: 0.9507 - precision: 0.9519 - recall: 0.9494 - val_loss: 0.1528 - val_accuracy: 0.9471 - val_precision: 0.9485 - val_recall: 0.9461\n",
            "Epoch 7/50\n",
            "564/564 [==============================] - ETA: 0s - loss: 0.1232 - accuracy: 0.9556 - precision: 0.9569 - recall: 0.9540\n",
            "Epoch 7: val_loss did not improve from 0.14645\n",
            "564/564 [==============================] - 280s 490ms/step - loss: 0.1232 - accuracy: 0.9556 - precision: 0.9569 - recall: 0.9540 - val_loss: 0.1713 - val_accuracy: 0.9441 - val_precision: 0.9450 - val_recall: 0.9431\n",
            "Epoch 8/50\n",
            "564/564 [==============================] - ETA: 0s - loss: 0.1063 - accuracy: 0.9600 - precision: 0.9606 - recall: 0.9596\n",
            "Epoch 8: val_loss did not improve from 0.14645\n",
            "564/564 [==============================] - 257s 450ms/step - loss: 0.1063 - accuracy: 0.9600 - precision: 0.9606 - recall: 0.9596 - val_loss: 0.1711 - val_accuracy: 0.9436 - val_precision: 0.9445 - val_recall: 0.9426\n",
            "Epoch 9/50\n",
            "564/564 [==============================] - ETA: 0s - loss: 0.0926 - accuracy: 0.9638 - precision: 0.9646 - recall: 0.9628\n",
            "Epoch 9: val_loss did not improve from 0.14645\n",
            "564/564 [==============================] - 257s 448ms/step - loss: 0.0926 - accuracy: 0.9638 - precision: 0.9646 - recall: 0.9628 - val_loss: 0.1879 - val_accuracy: 0.9481 - val_precision: 0.9486 - val_recall: 0.9481\n",
            "Epoch 10/50\n",
            "564/564 [==============================] - ETA: 0s - loss: 0.0929 - accuracy: 0.9673 - precision: 0.9679 - recall: 0.9669\n",
            "Epoch 10: val_loss did not improve from 0.14645\n",
            "564/564 [==============================] - 257s 450ms/step - loss: 0.0929 - accuracy: 0.9673 - precision: 0.9679 - recall: 0.9669 - val_loss: 0.1785 - val_accuracy: 0.9431 - val_precision: 0.9441 - val_recall: 0.9426\n",
            "Epoch 11/50\n",
            "564/564 [==============================] - ETA: 0s - loss: 0.0777 - accuracy: 0.9699 - precision: 0.9703 - recall: 0.9692\n",
            "Epoch 11: val_loss did not improve from 0.14645\n",
            "564/564 [==============================] - 258s 452ms/step - loss: 0.0777 - accuracy: 0.9699 - precision: 0.9703 - recall: 0.9692 - val_loss: 0.2223 - val_accuracy: 0.9362 - val_precision: 0.9371 - val_recall: 0.9362\n",
            "Epoch 12/50\n",
            "564/564 [==============================] - ETA: 0s - loss: 0.0808 - accuracy: 0.9730 - precision: 0.9737 - recall: 0.9722\n",
            "Epoch 12: val_loss did not improve from 0.14645\n",
            "564/564 [==============================] - 260s 454ms/step - loss: 0.0808 - accuracy: 0.9730 - precision: 0.9737 - recall: 0.9722 - val_loss: 0.2279 - val_accuracy: 0.9342 - val_precision: 0.9355 - val_recall: 0.9327\n",
            "Epoch 13/50\n",
            "564/564 [==============================] - ETA: 0s - loss: 0.1108 - accuracy: 0.9615 - precision: 0.9625 - recall: 0.9597\n",
            "Epoch 13: val_loss improved from 0.14645 to 0.13872, saving model to EfficientNet_V2B1_model_best.hdf5\n",
            "564/564 [==============================] - 299s 523ms/step - loss: 0.1108 - accuracy: 0.9615 - precision: 0.9625 - recall: 0.9597 - val_loss: 0.1387 - val_accuracy: 0.9501 - val_precision: 0.9511 - val_recall: 0.9501\n",
            "Epoch 14/50\n",
            "564/564 [==============================] - ETA: 0s - loss: 0.0629 - accuracy: 0.9768 - precision: 0.9774 - recall: 0.9765\n",
            "Epoch 14: val_loss did not improve from 0.13872\n",
            "564/564 [==============================] - 257s 450ms/step - loss: 0.0629 - accuracy: 0.9768 - precision: 0.9774 - recall: 0.9765 - val_loss: 0.1941 - val_accuracy: 0.9411 - val_precision: 0.9416 - val_recall: 0.9401\n",
            "Epoch 15/50\n",
            "564/564 [==============================] - ETA: 0s - loss: 0.0382 - accuracy: 0.9865 - precision: 0.9866 - recall: 0.9861\n",
            "Epoch 15: val_loss did not improve from 0.13872\n",
            "564/564 [==============================] - 381s 669ms/step - loss: 0.0382 - accuracy: 0.9865 - precision: 0.9866 - recall: 0.9861 - val_loss: 0.2075 - val_accuracy: 0.9411 - val_precision: 0.9416 - val_recall: 0.9411\n",
            "Epoch 16/50\n",
            "564/564 [==============================] - ETA: 0s - loss: 0.0525 - accuracy: 0.9812 - precision: 0.9816 - recall: 0.9809\n",
            "Epoch 16: val_loss did not improve from 0.13872\n",
            "564/564 [==============================] - 256s 448ms/step - loss: 0.0525 - accuracy: 0.9812 - precision: 0.9816 - recall: 0.9809 - val_loss: 0.3128 - val_accuracy: 0.9312 - val_precision: 0.9352 - val_recall: 0.9292\n",
            "Epoch 17/50\n",
            "564/564 [==============================] - ETA: 0s - loss: 0.0477 - accuracy: 0.9835 - precision: 0.9838 - recall: 0.9832\n",
            "Epoch 17: val_loss did not improve from 0.13872\n",
            "564/564 [==============================] - 256s 447ms/step - loss: 0.0477 - accuracy: 0.9835 - precision: 0.9838 - recall: 0.9832 - val_loss: 0.2379 - val_accuracy: 0.9471 - val_precision: 0.9481 - val_recall: 0.9471\n",
            "Epoch 18/50\n",
            "564/564 [==============================] - ETA: 0s - loss: 0.0381 - accuracy: 0.9877 - precision: 0.9878 - recall: 0.9875\n",
            "Epoch 18: val_loss did not improve from 0.13872\n",
            "564/564 [==============================] - 311s 544ms/step - loss: 0.0381 - accuracy: 0.9877 - precision: 0.9878 - recall: 0.9875 - val_loss: 0.3074 - val_accuracy: 0.9446 - val_precision: 0.9446 - val_recall: 0.9441\n",
            "Epoch 19/50\n",
            "564/564 [==============================] - ETA: 0s - loss: 0.0430 - accuracy: 0.9859 - precision: 0.9861 - recall: 0.9854\n",
            "Epoch 19: val_loss did not improve from 0.13872\n",
            "564/564 [==============================] - 256s 447ms/step - loss: 0.0430 - accuracy: 0.9859 - precision: 0.9861 - recall: 0.9854 - val_loss: 0.2632 - val_accuracy: 0.9372 - val_precision: 0.9381 - val_recall: 0.9367\n",
            "Epoch 20/50\n",
            "564/564 [==============================] - ETA: 0s - loss: 0.0374 - accuracy: 0.9876 - precision: 0.9880 - recall: 0.9874\n",
            "Epoch 20: val_loss did not improve from 0.13872\n",
            "564/564 [==============================] - 255s 445ms/step - loss: 0.0374 - accuracy: 0.9876 - precision: 0.9880 - recall: 0.9874 - val_loss: 0.2260 - val_accuracy: 0.9337 - val_precision: 0.9363 - val_recall: 0.9307\n",
            "Epoch 21/50\n",
            "564/564 [==============================] - ETA: 0s - loss: 0.0420 - accuracy: 0.9847 - precision: 0.9851 - recall: 0.9843\n",
            "Epoch 21: val_loss did not improve from 0.13872\n",
            "564/564 [==============================] - 255s 446ms/step - loss: 0.0420 - accuracy: 0.9847 - precision: 0.9851 - recall: 0.9843 - val_loss: 0.2951 - val_accuracy: 0.9441 - val_precision: 0.9441 - val_recall: 0.9426\n",
            "Epoch 22/50\n",
            "564/564 [==============================] - ETA: 0s - loss: 0.0305 - accuracy: 0.9896 - precision: 0.9897 - recall: 0.9895\n",
            "Epoch 22: val_loss did not improve from 0.13872\n",
            "564/564 [==============================] - 256s 447ms/step - loss: 0.0305 - accuracy: 0.9896 - precision: 0.9897 - recall: 0.9895 - val_loss: 0.2464 - val_accuracy: 0.9491 - val_precision: 0.9491 - val_recall: 0.9491\n",
            "Epoch 23/50\n",
            "564/564 [==============================] - ETA: 0s - loss: 0.0287 - accuracy: 0.9905 - precision: 0.9906 - recall: 0.9905\n",
            "Epoch 23: val_loss did not improve from 0.13872\n",
            "564/564 [==============================] - 259s 452ms/step - loss: 0.0287 - accuracy: 0.9905 - precision: 0.9906 - recall: 0.9905 - val_loss: 0.3799 - val_accuracy: 0.9252 - val_precision: 0.9274 - val_recall: 0.9237\n",
            "Epoch 23: early stopping\n"
          ]
        }
      ]
    },
    {
      "cell_type": "code",
      "source": [
        "# 학습된 모델을 이용하여 테스트하는 코드\n",
        "test_loss, test_acc, test_precision, test_recall = EfficientNet_V2B1_model.evaluate(test, verbose = 1)"
      ],
      "metadata": {
        "id": "uH2fodbODPng",
        "outputId": "c6e89f0a-a6a2-4d29-9ac1-9946498b4026",
        "colab": {
          "base_uri": "https://localhost:8080/"
        }
      },
      "execution_count": null,
      "outputs": [
        {
          "output_type": "stream",
          "name": "stdout",
          "text": [
            "63/63 [==============================] - 21s 282ms/step - loss: 0.3799 - accuracy: 0.9252 - precision: 0.9274 - recall: 0.9237\n"
          ]
        }
      ]
    },
    {
      "cell_type": "code",
      "source": [
        "acc = results6.history['accuracy']\n",
        "val_acc = results6.history['val_accuracy']\n",
        "\n",
        "loss = results6.history['loss']\n",
        "val_loss = results6.history['val_loss']\n",
        "\n",
        "plt.figure(figsize=(8, 8))\n",
        "plt.subplot(2, 1, 1)\n",
        "plt.plot(acc, label='Training Accuracy')\n",
        "plt.plot(val_acc, label='Validation Accuracy')\n",
        "plt.legend(loc='lower right')\n",
        "plt.ylabel('Accuracy')\n",
        "plt.ylim([min(plt.ylim()),1])\n",
        "plt.title('Training and Validation Accuracy')\n",
        "\n",
        "plt.subplot(2, 1, 2)\n",
        "plt.plot(loss, label='Training Loss')\n",
        "plt.plot(val_loss, label='Validation Loss')\n",
        "plt.legend(loc='upper right')\n",
        "plt.ylabel('Cross Entropy')\n",
        "plt.ylim([0,1.0])\n",
        "plt.title('Training and Validation Loss')\n",
        "plt.xlabel('epoch')\n",
        "plt.show()"
      ],
      "metadata": {
        "id": "EHMU595bDTpV",
        "outputId": "fa975e1b-fb87-4c1b-e206-39b4e14a244d",
        "colab": {
          "base_uri": "https://localhost:8080/",
          "height": 513
        }
      },
      "execution_count": null,
      "outputs": [
        {
          "output_type": "display_data",
          "data": {
            "text/plain": [
              "<Figure size 576x576 with 2 Axes>"
            ],
            "image/png": "[encoded data removed]"
          },
          "metadata": {
            "needs_background": "light"
          }
        }
      ]
    },
    {
      "cell_type": "code",
      "source": [
        "EfficientNet_V2B1_model.load_weights(checkpoint_filepath6)\n",
        "\n",
        "# best model을 이용한 테스트 데이터 예측 정확도 재확인 코드\n",
        "test_loss, test_acc, test_precision, test_recall = EfficientNet_V2B1_model.evaluate(test, verbose = 1)"
      ],
      "metadata": {
        "id": "pPGl5i0nDZPa",
        "outputId": "779c9fc3-0d26-4505-837a-6a3862bf561a",
        "colab": {
          "base_uri": "https://localhost:8080/"
        }
      },
      "execution_count": null,
      "outputs": [
        {
          "output_type": "stream",
          "name": "stdout",
          "text": [
            "63/63 [==============================] - 21s 280ms/step - loss: 0.1387 - accuracy: 0.9501 - precision: 0.9511 - recall: 0.9501\n"
          ]
        }
      ]
    },
    {
      "cell_type": "code",
      "source": [
        "# Model 저장\n",
        "EfficientNet_V2B1_model.save('EfficientNet_V2B1_model.h5')"
      ],
      "metadata": {
        "id": "alkC2aNcDgo3"
      },
      "execution_count": null,
      "outputs": []
    },
    {
      "cell_type": "markdown",
      "source": [
        "# EfficientNetV2B1 + 배치 정규화 + Dropout(0.3)"
      ],
      "metadata": {
        "id": "VF5XDPKZI2Om"
      }
    },
    {
      "cell_type": "code",
      "source": [
        "EfficientNet_V2B1 = tf.keras.applications.efficientnet_v2.EfficientNetV2B1(\n",
        "                   include_top = False,\n",
        "                   weights = 'imagenet',\n",
        "                   input_tensor = None,\n",
        "                   input_shape = (256, 256, 3)\n",
        "                   )"
      ],
      "metadata": {
        "id": "Bt9FVfv-JamN"
      },
      "execution_count": 22,
      "outputs": []
    },
    {
      "cell_type": "code",
      "source": [
        "# EfficientNetV2B1 레이어들의 파라미터를 새로운 데이터에 맞게 학습하도록 설정\n",
        "for layer in EfficientNet_V2B1.layers:\n",
        "    layer.trainable = True"
      ],
      "metadata": {
        "id": "WVBJ2IW2Jgdd"
      },
      "execution_count": 23,
      "outputs": []
    },
    {
      "cell_type": "code",
      "source": [
        "# 모델에 출력층을 생성해준다.\n",
        "x = EfficientNet_V2B1.output\n",
        "x = GlobalAveragePooling2D()(x)\n",
        "x = BatchNormalization()(x)\n",
        "# 다중 분류 모델을 만들어준다.\n",
        "x = Dense(1024, kernel_initializer='uniform')(x)\n",
        "x = BatchNormalization()(x)\n",
        "x = Activation('relu')(x)\n",
        "x = Dropout(0.3)(x)\n",
        "x = Dense(512, kernel_initializer='uniform')(x)\n",
        "x = BatchNormalization()(x)\n",
        "x = Activation('relu')(x)\n",
        "x = Dropout(0.3)(x)\n",
        "x = Dense(256, kernel_initializer='uniform')(x)\n",
        "x = BatchNormalization()(x)\n",
        "x = Activation('relu')(x)\n",
        "x = Dropout(0.3)(x)\n",
        "predictions = Dense(5, activation='softmax')(x) # 출력층을 설계한다.\n",
        "EfficientNet_V2B1_model2 = Model(EfficientNet_V2B1.input, predictions)"
      ],
      "metadata": {
        "id": "UK-sM0rUJitc"
      },
      "execution_count": 24,
      "outputs": []
    },
    {
      "cell_type": "code",
      "source": [
        "EfficientNet_V2B1_model2.summary()"
      ],
      "metadata": {
        "id": "GLX7tEjBKhHv",
        "outputId": "7ea4cafa-6bbb-4645-dd42-525212366622",
        "colab": {
          "base_uri": "https://localhost:8080/"
        }
      },
      "execution_count": 25,
      "outputs": [
        {
          "output_type": "stream",
          "name": "stdout",
          "text": [
            "Model: \"model_2\"\n",
            "__________________________________________________________________________________________________\n",
            " Layer (type)                   Output Shape         Param #     Connected to                     \n",
            "==================================================================================================\n",
            " input_3 (InputLayer)           [(None, 256, 256, 3  0           []                               \n",
            "                                )]                                                                \n",
            "                                                                                                  \n",
            " rescaling_2 (Rescaling)        (None, 256, 256, 3)  0           ['input_3[0][0]']                \n",
            "                                                                                                  \n",
            " normalization_2 (Normalization  (None, 256, 256, 3)  0          ['rescaling_2[0][0]']            \n",
            " )                                                                                                \n",
            "                                                                                                  \n",
            " stem_conv (Conv2D)             (None, 128, 128, 32  864         ['normalization_2[0][0]']        \n",
            "                                )                                                                 \n",
            "                                                                                                  \n",
            " stem_bn (BatchNormalization)   (None, 128, 128, 32  128         ['stem_conv[0][0]']              \n",
            "                                )                                                                 \n",
            "                                                                                                  \n",
            " stem_activation (Activation)   (None, 128, 128, 32  0           ['stem_bn[0][0]']                \n",
            "                                )                                                                 \n",
            "                                                                                                  \n",
            " block1a_project_conv (Conv2D)  (None, 128, 128, 16  4608        ['stem_activation[0][0]']        \n",
            "                                )                                                                 \n",
            "                                                                                                  \n",
            " block1a_project_bn (BatchNorma  (None, 128, 128, 16  64         ['block1a_project_conv[0][0]']   \n",
            " lization)                      )                                                                 \n",
            "                                                                                                  \n",
            " block1a_project_activation (Ac  (None, 128, 128, 16  0          ['block1a_project_bn[0][0]']     \n",
            " tivation)                      )                                                                 \n",
            "                                                                                                  \n",
            " block1b_project_conv (Conv2D)  (None, 128, 128, 16  2304        ['block1a_project_activation[0][0\n",
            "                                )                                ]']                              \n",
            "                                                                                                  \n",
            " block1b_project_bn (BatchNorma  (None, 128, 128, 16  64         ['block1b_project_conv[0][0]']   \n",
            " lization)                      )                                                                 \n",
            "                                                                                                  \n",
            " block1b_project_activation (Ac  (None, 128, 128, 16  0          ['block1b_project_bn[0][0]']     \n",
            " tivation)                      )                                                                 \n",
            "                                                                                                  \n",
            " block1b_add (Add)              (None, 128, 128, 16  0           ['block1b_project_activation[0][0\n",
            "                                )                                ]',                              \n",
            "                                                                  'block1a_project_activation[0][0\n",
            "                                                                 ]']                              \n",
            "                                                                                                  \n",
            " block2a_expand_conv (Conv2D)   (None, 64, 64, 64)   9216        ['block1b_add[0][0]']            \n",
            "                                                                                                  \n",
            " block2a_expand_bn (BatchNormal  (None, 64, 64, 64)  256         ['block2a_expand_conv[0][0]']    \n",
            " ization)                                                                                         \n",
            "                                                                                                  \n",
            " block2a_expand_activation (Act  (None, 64, 64, 64)  0           ['block2a_expand_bn[0][0]']      \n",
            " ivation)                                                                                         \n",
            "                                                                                                  \n",
            " block2a_project_conv (Conv2D)  (None, 64, 64, 32)   2048        ['block2a_expand_activation[0][0]\n",
            "                                                                 ']                               \n",
            "                                                                                                  \n",
            " block2a_project_bn (BatchNorma  (None, 64, 64, 32)  128         ['block2a_project_conv[0][0]']   \n",
            " lization)                                                                                        \n",
            "                                                                                                  \n",
            " block2b_expand_conv (Conv2D)   (None, 64, 64, 128)  36864       ['block2a_project_bn[0][0]']     \n",
            "                                                                                                  \n",
            " block2b_expand_bn (BatchNormal  (None, 64, 64, 128)  512        ['block2b_expand_conv[0][0]']    \n",
            " ization)                                                                                         \n",
            "                                                                                                  \n",
            " block2b_expand_activation (Act  (None, 64, 64, 128)  0          ['block2b_expand_bn[0][0]']      \n",
            " ivation)                                                                                         \n",
            "                                                                                                  \n",
            " block2b_project_conv (Conv2D)  (None, 64, 64, 32)   4096        ['block2b_expand_activation[0][0]\n",
            "                                                                 ']                               \n",
            "                                                                                                  \n",
            " block2b_project_bn (BatchNorma  (None, 64, 64, 32)  128         ['block2b_project_conv[0][0]']   \n",
            " lization)                                                                                        \n",
            "                                                                                                  \n",
            " block2b_add (Add)              (None, 64, 64, 32)   0           ['block2b_project_bn[0][0]',     \n",
            "                                                                  'block2a_project_bn[0][0]']     \n",
            "                                                                                                  \n",
            " block2c_expand_conv (Conv2D)   (None, 64, 64, 128)  36864       ['block2b_add[0][0]']            \n",
            "                                                                                                  \n",
            " block2c_expand_bn (BatchNormal  (None, 64, 64, 128)  512        ['block2c_expand_conv[0][0]']    \n",
            " ization)                                                                                         \n",
            "                                                                                                  \n",
            " block2c_expand_activation (Act  (None, 64, 64, 128)  0          ['block2c_expand_bn[0][0]']      \n",
            " ivation)                                                                                         \n",
            "                                                                                                  \n",
            " block2c_project_conv (Conv2D)  (None, 64, 64, 32)   4096        ['block2c_expand_activation[0][0]\n",
            "                                                                 ']                               \n",
            "                                                                                                  \n",
            " block2c_project_bn (BatchNorma  (None, 64, 64, 32)  128         ['block2c_project_conv[0][0]']   \n",
            " lization)                                                                                        \n",
            "                                                                                                  \n",
            " block2c_add (Add)              (None, 64, 64, 32)   0           ['block2c_project_bn[0][0]',     \n",
            "                                                                  'block2b_add[0][0]']            \n",
            "                                                                                                  \n",
            " block3a_expand_conv (Conv2D)   (None, 32, 32, 128)  36864       ['block2c_add[0][0]']            \n",
            "                                                                                                  \n",
            " block3a_expand_bn (BatchNormal  (None, 32, 32, 128)  512        ['block3a_expand_conv[0][0]']    \n",
            " ization)                                                                                         \n",
            "                                                                                                  \n",
            " block3a_expand_activation (Act  (None, 32, 32, 128)  0          ['block3a_expand_bn[0][0]']      \n",
            " ivation)                                                                                         \n",
            "                                                                                                  \n",
            " block3a_project_conv (Conv2D)  (None, 32, 32, 48)   6144        ['block3a_expand_activation[0][0]\n",
            "                                                                 ']                               \n",
            "                                                                                                  \n",
            " block3a_project_bn (BatchNorma  (None, 32, 32, 48)  192         ['block3a_project_conv[0][0]']   \n",
            " lization)                                                                                        \n",
            "                                                                                                  \n",
            " block3b_expand_conv (Conv2D)   (None, 32, 32, 192)  82944       ['block3a_project_bn[0][0]']     \n",
            "                                                                                                  \n",
            " block3b_expand_bn (BatchNormal  (None, 32, 32, 192)  768        ['block3b_expand_conv[0][0]']    \n",
            " ization)                                                                                         \n",
            "                                                                                                  \n",
            " block3b_expand_activation (Act  (None, 32, 32, 192)  0          ['block3b_expand_bn[0][0]']      \n",
            " ivation)                                                                                         \n",
            "                                                                                                  \n",
            " block3b_project_conv (Conv2D)  (None, 32, 32, 48)   9216        ['block3b_expand_activation[0][0]\n",
            "                                                                 ']                               \n",
            "                                                                                                  \n",
            " block3b_project_bn (BatchNorma  (None, 32, 32, 48)  192         ['block3b_project_conv[0][0]']   \n",
            " lization)                                                                                        \n",
            "                                                                                                  \n",
            " block3b_add (Add)              (None, 32, 32, 48)   0           ['block3b_project_bn[0][0]',     \n",
            "                                                                  'block3a_project_bn[0][0]']     \n",
            "                                                                                                  \n",
            " block3c_expand_conv (Conv2D)   (None, 32, 32, 192)  82944       ['block3b_add[0][0]']            \n",
            "                                                                                                  \n",
            " block3c_expand_bn (BatchNormal  (None, 32, 32, 192)  768        ['block3c_expand_conv[0][0]']    \n",
            " ization)                                                                                         \n",
            "                                                                                                  \n",
            " block3c_expand_activation (Act  (None, 32, 32, 192)  0          ['block3c_expand_bn[0][0]']      \n",
            " ivation)                                                                                         \n",
            "                                                                                                  \n",
            " block3c_project_conv (Conv2D)  (None, 32, 32, 48)   9216        ['block3c_expand_activation[0][0]\n",
            "                                                                 ']                               \n",
            "                                                                                                  \n",
            " block3c_project_bn (BatchNorma  (None, 32, 32, 48)  192         ['block3c_project_conv[0][0]']   \n",
            " lization)                                                                                        \n",
            "                                                                                                  \n",
            " block3c_add (Add)              (None, 32, 32, 48)   0           ['block3c_project_bn[0][0]',     \n",
            "                                                                  'block3b_add[0][0]']            \n",
            "                                                                                                  \n",
            " block4a_expand_conv (Conv2D)   (None, 32, 32, 192)  9216        ['block3c_add[0][0]']            \n",
            "                                                                                                  \n",
            " block4a_expand_bn (BatchNormal  (None, 32, 32, 192)  768        ['block4a_expand_conv[0][0]']    \n",
            " ization)                                                                                         \n",
            "                                                                                                  \n",
            " block4a_expand_activation (Act  (None, 32, 32, 192)  0          ['block4a_expand_bn[0][0]']      \n",
            " ivation)                                                                                         \n",
            "                                                                                                  \n",
            " block4a_dwconv2 (DepthwiseConv  (None, 16, 16, 192)  1728       ['block4a_expand_activation[0][0]\n",
            " 2D)                                                             ']                               \n",
            "                                                                                                  \n",
            " block4a_bn (BatchNormalization  (None, 16, 16, 192)  768        ['block4a_dwconv2[0][0]']        \n",
            " )                                                                                                \n",
            "                                                                                                  \n",
            " block4a_activation (Activation  (None, 16, 16, 192)  0          ['block4a_bn[0][0]']             \n",
            " )                                                                                                \n",
            "                                                                                                  \n",
            " block4a_se_squeeze (GlobalAver  (None, 192)         0           ['block4a_activation[0][0]']     \n",
            " agePooling2D)                                                                                    \n",
            "                                                                                                  \n",
            " block4a_se_reshape (Reshape)   (None, 1, 1, 192)    0           ['block4a_se_squeeze[0][0]']     \n",
            "                                                                                                  \n",
            " block4a_se_reduce (Conv2D)     (None, 1, 1, 12)     2316        ['block4a_se_reshape[0][0]']     \n",
            "                                                                                                  \n",
            " block4a_se_expand (Conv2D)     (None, 1, 1, 192)    2496        ['block4a_se_reduce[0][0]']      \n",
            "                                                                                                  \n",
            " block4a_se_excite (Multiply)   (None, 16, 16, 192)  0           ['block4a_activation[0][0]',     \n",
            "                                                                  'block4a_se_expand[0][0]']      \n",
            "                                                                                                  \n",
            " block4a_project_conv (Conv2D)  (None, 16, 16, 96)   18432       ['block4a_se_excite[0][0]']      \n",
            "                                                                                                  \n",
            " block4a_project_bn (BatchNorma  (None, 16, 16, 96)  384         ['block4a_project_conv[0][0]']   \n",
            " lization)                                                                                        \n",
            "                                                                                                  \n",
            " block4b_expand_conv (Conv2D)   (None, 16, 16, 384)  36864       ['block4a_project_bn[0][0]']     \n",
            "                                                                                                  \n",
            " block4b_expand_bn (BatchNormal  (None, 16, 16, 384)  1536       ['block4b_expand_conv[0][0]']    \n",
            " ization)                                                                                         \n",
            "                                                                                                  \n",
            " block4b_expand_activation (Act  (None, 16, 16, 384)  0          ['block4b_expand_bn[0][0]']      \n",
            " ivation)                                                                                         \n",
            "                                                                                                  \n",
            " block4b_dwconv2 (DepthwiseConv  (None, 16, 16, 384)  3456       ['block4b_expand_activation[0][0]\n",
            " 2D)                                                             ']                               \n",
            "                                                                                                  \n",
            " block4b_bn (BatchNormalization  (None, 16, 16, 384)  1536       ['block4b_dwconv2[0][0]']        \n",
            " )                                                                                                \n",
            "                                                                                                  \n",
            " block4b_activation (Activation  (None, 16, 16, 384)  0          ['block4b_bn[0][0]']             \n",
            " )                                                                                                \n",
            "                                                                                                  \n",
            " block4b_se_squeeze (GlobalAver  (None, 384)         0           ['block4b_activation[0][0]']     \n",
            " agePooling2D)                                                                                    \n",
            "                                                                                                  \n",
            " block4b_se_reshape (Reshape)   (None, 1, 1, 384)    0           ['block4b_se_squeeze[0][0]']     \n",
            "                                                                                                  \n",
            " block4b_se_reduce (Conv2D)     (None, 1, 1, 24)     9240        ['block4b_se_reshape[0][0]']     \n",
            "                                                                                                  \n",
            " block4b_se_expand (Conv2D)     (None, 1, 1, 384)    9600        ['block4b_se_reduce[0][0]']      \n",
            "                                                                                                  \n",
            " block4b_se_excite (Multiply)   (None, 16, 16, 384)  0           ['block4b_activation[0][0]',     \n",
            "                                                                  'block4b_se_expand[0][0]']      \n",
            "                                                                                                  \n",
            " block4b_project_conv (Conv2D)  (None, 16, 16, 96)   36864       ['block4b_se_excite[0][0]']      \n",
            "                                                                                                  \n",
            " block4b_project_bn (BatchNorma  (None, 16, 16, 96)  384         ['block4b_project_conv[0][0]']   \n",
            " lization)                                                                                        \n",
            "                                                                                                  \n",
            " block4b_add (Add)              (None, 16, 16, 96)   0           ['block4b_project_bn[0][0]',     \n",
            "                                                                  'block4a_project_bn[0][0]']     \n",
            "                                                                                                  \n",
            " block4c_expand_conv (Conv2D)   (None, 16, 16, 384)  36864       ['block4b_add[0][0]']            \n",
            "                                                                                                  \n",
            " block4c_expand_bn (BatchNormal  (None, 16, 16, 384)  1536       ['block4c_expand_conv[0][0]']    \n",
            " ization)                                                                                         \n",
            "                                                                                                  \n",
            " block4c_expand_activation (Act  (None, 16, 16, 384)  0          ['block4c_expand_bn[0][0]']      \n",
            " ivation)                                                                                         \n",
            "                                                                                                  \n",
            " block4c_dwconv2 (DepthwiseConv  (None, 16, 16, 384)  3456       ['block4c_expand_activation[0][0]\n",
            " 2D)                                                             ']                               \n",
            "                                                                                                  \n",
            " block4c_bn (BatchNormalization  (None, 16, 16, 384)  1536       ['block4c_dwconv2[0][0]']        \n",
            " )                                                                                                \n",
            "                                                                                                  \n",
            " block4c_activation (Activation  (None, 16, 16, 384)  0          ['block4c_bn[0][0]']             \n",
            " )                                                                                                \n",
            "                                                                                                  \n",
            " block4c_se_squeeze (GlobalAver  (None, 384)         0           ['block4c_activation[0][0]']     \n",
            " agePooling2D)                                                                                    \n",
            "                                                                                                  \n",
            " block4c_se_reshape (Reshape)   (None, 1, 1, 384)    0           ['block4c_se_squeeze[0][0]']     \n",
            "                                                                                                  \n",
            " block4c_se_reduce (Conv2D)     (None, 1, 1, 24)     9240        ['block4c_se_reshape[0][0]']     \n",
            "                                                                                                  \n",
            " block4c_se_expand (Conv2D)     (None, 1, 1, 384)    9600        ['block4c_se_reduce[0][0]']      \n",
            "                                                                                                  \n",
            " block4c_se_excite (Multiply)   (None, 16, 16, 384)  0           ['block4c_activation[0][0]',     \n",
            "                                                                  'block4c_se_expand[0][0]']      \n",
            "                                                                                                  \n",
            " block4c_project_conv (Conv2D)  (None, 16, 16, 96)   36864       ['block4c_se_excite[0][0]']      \n",
            "                                                                                                  \n",
            " block4c_project_bn (BatchNorma  (None, 16, 16, 96)  384         ['block4c_project_conv[0][0]']   \n",
            " lization)                                                                                        \n",
            "                                                                                                  \n",
            " block4c_add (Add)              (None, 16, 16, 96)   0           ['block4c_project_bn[0][0]',     \n",
            "                                                                  'block4b_add[0][0]']            \n",
            "                                                                                                  \n",
            " block4d_expand_conv (Conv2D)   (None, 16, 16, 384)  36864       ['block4c_add[0][0]']            \n",
            "                                                                                                  \n",
            " block4d_expand_bn (BatchNormal  (None, 16, 16, 384)  1536       ['block4d_expand_conv[0][0]']    \n",
            " ization)                                                                                         \n",
            "                                                                                                  \n",
            " block4d_expand_activation (Act  (None, 16, 16, 384)  0          ['block4d_expand_bn[0][0]']      \n",
            " ivation)                                                                                         \n",
            "                                                                                                  \n",
            " block4d_dwconv2 (DepthwiseConv  (None, 16, 16, 384)  3456       ['block4d_expand_activation[0][0]\n",
            " 2D)                                                             ']                               \n",
            "                                                                                                  \n",
            " block4d_bn (BatchNormalization  (None, 16, 16, 384)  1536       ['block4d_dwconv2[0][0]']        \n",
            " )                                                                                                \n",
            "                                                                                                  \n",
            " block4d_activation (Activation  (None, 16, 16, 384)  0          ['block4d_bn[0][0]']             \n",
            " )                                                                                                \n",
            "                                                                                                  \n",
            " block4d_se_squeeze (GlobalAver  (None, 384)         0           ['block4d_activation[0][0]']     \n",
            " agePooling2D)                                                                                    \n",
            "                                                                                                  \n",
            " block4d_se_reshape (Reshape)   (None, 1, 1, 384)    0           ['block4d_se_squeeze[0][0]']     \n",
            "                                                                                                  \n",
            " block4d_se_reduce (Conv2D)     (None, 1, 1, 24)     9240        ['block4d_se_reshape[0][0]']     \n",
            "                                                                                                  \n",
            " block4d_se_expand (Conv2D)     (None, 1, 1, 384)    9600        ['block4d_se_reduce[0][0]']      \n",
            "                                                                                                  \n",
            " block4d_se_excite (Multiply)   (None, 16, 16, 384)  0           ['block4d_activation[0][0]',     \n",
            "                                                                  'block4d_se_expand[0][0]']      \n",
            "                                                                                                  \n",
            " block4d_project_conv (Conv2D)  (None, 16, 16, 96)   36864       ['block4d_se_excite[0][0]']      \n",
            "                                                                                                  \n",
            " block4d_project_bn (BatchNorma  (None, 16, 16, 96)  384         ['block4d_project_conv[0][0]']   \n",
            " lization)                                                                                        \n",
            "                                                                                                  \n",
            " block4d_add (Add)              (None, 16, 16, 96)   0           ['block4d_project_bn[0][0]',     \n",
            "                                                                  'block4c_add[0][0]']            \n",
            "                                                                                                  \n",
            " block5a_expand_conv (Conv2D)   (None, 16, 16, 576)  55296       ['block4d_add[0][0]']            \n",
            "                                                                                                  \n",
            " block5a_expand_bn (BatchNormal  (None, 16, 16, 576)  2304       ['block5a_expand_conv[0][0]']    \n",
            " ization)                                                                                         \n",
            "                                                                                                  \n",
            " block5a_expand_activation (Act  (None, 16, 16, 576)  0          ['block5a_expand_bn[0][0]']      \n",
            " ivation)                                                                                         \n",
            "                                                                                                  \n",
            " block5a_dwconv2 (DepthwiseConv  (None, 16, 16, 576)  5184       ['block5a_expand_activation[0][0]\n",
            " 2D)                                                             ']                               \n",
            "                                                                                                  \n",
            " block5a_bn (BatchNormalization  (None, 16, 16, 576)  2304       ['block5a_dwconv2[0][0]']        \n",
            " )                                                                                                \n",
            "                                                                                                  \n",
            " block5a_activation (Activation  (None, 16, 16, 576)  0          ['block5a_bn[0][0]']             \n",
            " )                                                                                                \n",
            "                                                                                                  \n",
            " block5a_se_squeeze (GlobalAver  (None, 576)         0           ['block5a_activation[0][0]']     \n",
            " agePooling2D)                                                                                    \n",
            "                                                                                                  \n",
            " block5a_se_reshape (Reshape)   (None, 1, 1, 576)    0           ['block5a_se_squeeze[0][0]']     \n",
            "                                                                                                  \n",
            " block5a_se_reduce (Conv2D)     (None, 1, 1, 24)     13848       ['block5a_se_reshape[0][0]']     \n",
            "                                                                                                  \n",
            " block5a_se_expand (Conv2D)     (None, 1, 1, 576)    14400       ['block5a_se_reduce[0][0]']      \n",
            "                                                                                                  \n",
            " block5a_se_excite (Multiply)   (None, 16, 16, 576)  0           ['block5a_activation[0][0]',     \n",
            "                                                                  'block5a_se_expand[0][0]']      \n",
            "                                                                                                  \n",
            " block5a_project_conv (Conv2D)  (None, 16, 16, 112)  64512       ['block5a_se_excite[0][0]']      \n",
            "                                                                                                  \n",
            " block5a_project_bn (BatchNorma  (None, 16, 16, 112)  448        ['block5a_project_conv[0][0]']   \n",
            " lization)                                                                                        \n",
            "                                                                                                  \n",
            " block5b_expand_conv (Conv2D)   (None, 16, 16, 672)  75264       ['block5a_project_bn[0][0]']     \n",
            "                                                                                                  \n",
            " block5b_expand_bn (BatchNormal  (None, 16, 16, 672)  2688       ['block5b_expand_conv[0][0]']    \n",
            " ization)                                                                                         \n",
            "                                                                                                  \n",
            " block5b_expand_activation (Act  (None, 16, 16, 672)  0          ['block5b_expand_bn[0][0]']      \n",
            " ivation)                                                                                         \n",
            "                                                                                                  \n",
            " block5b_dwconv2 (DepthwiseConv  (None, 16, 16, 672)  6048       ['block5b_expand_activation[0][0]\n",
            " 2D)                                                             ']                               \n",
            "                                                                                                  \n",
            " block5b_bn (BatchNormalization  (None, 16, 16, 672)  2688       ['block5b_dwconv2[0][0]']        \n",
            " )                                                                                                \n",
            "                                                                                                  \n",
            " block5b_activation (Activation  (None, 16, 16, 672)  0          ['block5b_bn[0][0]']             \n",
            " )                                                                                                \n",
            "                                                                                                  \n",
            " block5b_se_squeeze (GlobalAver  (None, 672)         0           ['block5b_activation[0][0]']     \n",
            " agePooling2D)                                                                                    \n",
            "                                                                                                  \n",
            " block5b_se_reshape (Reshape)   (None, 1, 1, 672)    0           ['block5b_se_squeeze[0][0]']     \n",
            "                                                                                                  \n",
            " block5b_se_reduce (Conv2D)     (None, 1, 1, 28)     18844       ['block5b_se_reshape[0][0]']     \n",
            "                                                                                                  \n",
            " block5b_se_expand (Conv2D)     (None, 1, 1, 672)    19488       ['block5b_se_reduce[0][0]']      \n",
            "                                                                                                  \n",
            " block5b_se_excite (Multiply)   (None, 16, 16, 672)  0           ['block5b_activation[0][0]',     \n",
            "                                                                  'block5b_se_expand[0][0]']      \n",
            "                                                                                                  \n",
            " block5b_project_conv (Conv2D)  (None, 16, 16, 112)  75264       ['block5b_se_excite[0][0]']      \n",
            "                                                                                                  \n",
            " block5b_project_bn (BatchNorma  (None, 16, 16, 112)  448        ['block5b_project_conv[0][0]']   \n",
            " lization)                                                                                        \n",
            "                                                                                                  \n",
            " block5b_add (Add)              (None, 16, 16, 112)  0           ['block5b_project_bn[0][0]',     \n",
            "                                                                  'block5a_project_bn[0][0]']     \n",
            "                                                                                                  \n",
            " block5c_expand_conv (Conv2D)   (None, 16, 16, 672)  75264       ['block5b_add[0][0]']            \n",
            "                                                                                                  \n",
            " block5c_expand_bn (BatchNormal  (None, 16, 16, 672)  2688       ['block5c_expand_conv[0][0]']    \n",
            " ization)                                                                                         \n",
            "                                                                                                  \n",
            " block5c_expand_activation (Act  (None, 16, 16, 672)  0          ['block5c_expand_bn[0][0]']      \n",
            " ivation)                                                                                         \n",
            "                                                                                                  \n",
            " block5c_dwconv2 (DepthwiseConv  (None, 16, 16, 672)  6048       ['block5c_expand_activation[0][0]\n",
            " 2D)                                                             ']                               \n",
            "                                                                                                  \n",
            " block5c_bn (BatchNormalization  (None, 16, 16, 672)  2688       ['block5c_dwconv2[0][0]']        \n",
            " )                                                                                                \n",
            "                                                                                                  \n",
            " block5c_activation (Activation  (None, 16, 16, 672)  0          ['block5c_bn[0][0]']             \n",
            " )                                                                                                \n",
            "                                                                                                  \n",
            " block5c_se_squeeze (GlobalAver  (None, 672)         0           ['block5c_activation[0][0]']     \n",
            " agePooling2D)                                                                                    \n",
            "                                                                                                  \n",
            " block5c_se_reshape (Reshape)   (None, 1, 1, 672)    0           ['block5c_se_squeeze[0][0]']     \n",
            "                                                                                                  \n",
            " block5c_se_reduce (Conv2D)     (None, 1, 1, 28)     18844       ['block5c_se_reshape[0][0]']     \n",
            "                                                                                                  \n",
            " block5c_se_expand (Conv2D)     (None, 1, 1, 672)    19488       ['block5c_se_reduce[0][0]']      \n",
            "                                                                                                  \n",
            " block5c_se_excite (Multiply)   (None, 16, 16, 672)  0           ['block5c_activation[0][0]',     \n",
            "                                                                  'block5c_se_expand[0][0]']      \n",
            "                                                                                                  \n",
            " block5c_project_conv (Conv2D)  (None, 16, 16, 112)  75264       ['block5c_se_excite[0][0]']      \n",
            "                                                                                                  \n",
            " block5c_project_bn (BatchNorma  (None, 16, 16, 112)  448        ['block5c_project_conv[0][0]']   \n",
            " lization)                                                                                        \n",
            "                                                                                                  \n",
            " block5c_add (Add)              (None, 16, 16, 112)  0           ['block5c_project_bn[0][0]',     \n",
            "                                                                  'block5b_add[0][0]']            \n",
            "                                                                                                  \n",
            " block5d_expand_conv (Conv2D)   (None, 16, 16, 672)  75264       ['block5c_add[0][0]']            \n",
            "                                                                                                  \n",
            " block5d_expand_bn (BatchNormal  (None, 16, 16, 672)  2688       ['block5d_expand_conv[0][0]']    \n",
            " ization)                                                                                         \n",
            "                                                                                                  \n",
            " block5d_expand_activation (Act  (None, 16, 16, 672)  0          ['block5d_expand_bn[0][0]']      \n",
            " ivation)                                                                                         \n",
            "                                                                                                  \n",
            " block5d_dwconv2 (DepthwiseConv  (None, 16, 16, 672)  6048       ['block5d_expand_activation[0][0]\n",
            " 2D)                                                             ']                               \n",
            "                                                                                                  \n",
            " block5d_bn (BatchNormalization  (None, 16, 16, 672)  2688       ['block5d_dwconv2[0][0]']        \n",
            " )                                                                                                \n",
            "                                                                                                  \n",
            " block5d_activation (Activation  (None, 16, 16, 672)  0          ['block5d_bn[0][0]']             \n",
            " )                                                                                                \n",
            "                                                                                                  \n",
            " block5d_se_squeeze (GlobalAver  (None, 672)         0           ['block5d_activation[0][0]']     \n",
            " agePooling2D)                                                                                    \n",
            "                                                                                                  \n",
            " block5d_se_reshape (Reshape)   (None, 1, 1, 672)    0           ['block5d_se_squeeze[0][0]']     \n",
            "                                                                                                  \n",
            " block5d_se_reduce (Conv2D)     (None, 1, 1, 28)     18844       ['block5d_se_reshape[0][0]']     \n",
            "                                                                                                  \n",
            " block5d_se_expand (Conv2D)     (None, 1, 1, 672)    19488       ['block5d_se_reduce[0][0]']      \n",
            "                                                                                                  \n",
            " block5d_se_excite (Multiply)   (None, 16, 16, 672)  0           ['block5d_activation[0][0]',     \n",
            "                                                                  'block5d_se_expand[0][0]']      \n",
            "                                                                                                  \n",
            " block5d_project_conv (Conv2D)  (None, 16, 16, 112)  75264       ['block5d_se_excite[0][0]']      \n",
            "                                                                                                  \n",
            " block5d_project_bn (BatchNorma  (None, 16, 16, 112)  448        ['block5d_project_conv[0][0]']   \n",
            " lization)                                                                                        \n",
            "                                                                                                  \n",
            " block5d_add (Add)              (None, 16, 16, 112)  0           ['block5d_project_bn[0][0]',     \n",
            "                                                                  'block5c_add[0][0]']            \n",
            "                                                                                                  \n",
            " block5e_expand_conv (Conv2D)   (None, 16, 16, 672)  75264       ['block5d_add[0][0]']            \n",
            "                                                                                                  \n",
            " block5e_expand_bn (BatchNormal  (None, 16, 16, 672)  2688       ['block5e_expand_conv[0][0]']    \n",
            " ization)                                                                                         \n",
            "                                                                                                  \n",
            " block5e_expand_activation (Act  (None, 16, 16, 672)  0          ['block5e_expand_bn[0][0]']      \n",
            " ivation)                                                                                         \n",
            "                                                                                                  \n",
            " block5e_dwconv2 (DepthwiseConv  (None, 16, 16, 672)  6048       ['block5e_expand_activation[0][0]\n",
            " 2D)                                                             ']                               \n",
            "                                                                                                  \n",
            " block5e_bn (BatchNormalization  (None, 16, 16, 672)  2688       ['block5e_dwconv2[0][0]']        \n",
            " )                                                                                                \n",
            "                                                                                                  \n",
            " block5e_activation (Activation  (None, 16, 16, 672)  0          ['block5e_bn[0][0]']             \n",
            " )                                                                                                \n",
            "                                                                                                  \n",
            " block5e_se_squeeze (GlobalAver  (None, 672)         0           ['block5e_activation[0][0]']     \n",
            " agePooling2D)                                                                                    \n",
            "                                                                                                  \n",
            " block5e_se_reshape (Reshape)   (None, 1, 1, 672)    0           ['block5e_se_squeeze[0][0]']     \n",
            "                                                                                                  \n",
            " block5e_se_reduce (Conv2D)     (None, 1, 1, 28)     18844       ['block5e_se_reshape[0][0]']     \n",
            "                                                                                                  \n",
            " block5e_se_expand (Conv2D)     (None, 1, 1, 672)    19488       ['block5e_se_reduce[0][0]']      \n",
            "                                                                                                  \n",
            " block5e_se_excite (Multiply)   (None, 16, 16, 672)  0           ['block5e_activation[0][0]',     \n",
            "                                                                  'block5e_se_expand[0][0]']      \n",
            "                                                                                                  \n",
            " block5e_project_conv (Conv2D)  (None, 16, 16, 112)  75264       ['block5e_se_excite[0][0]']      \n",
            "                                                                                                  \n",
            " block5e_project_bn (BatchNorma  (None, 16, 16, 112)  448        ['block5e_project_conv[0][0]']   \n",
            " lization)                                                                                        \n",
            "                                                                                                  \n",
            " block5e_add (Add)              (None, 16, 16, 112)  0           ['block5e_project_bn[0][0]',     \n",
            "                                                                  'block5d_add[0][0]']            \n",
            "                                                                                                  \n",
            " block5f_expand_conv (Conv2D)   (None, 16, 16, 672)  75264       ['block5e_add[0][0]']            \n",
            "                                                                                                  \n",
            " block5f_expand_bn (BatchNormal  (None, 16, 16, 672)  2688       ['block5f_expand_conv[0][0]']    \n",
            " ization)                                                                                         \n",
            "                                                                                                  \n",
            " block5f_expand_activation (Act  (None, 16, 16, 672)  0          ['block5f_expand_bn[0][0]']      \n",
            " ivation)                                                                                         \n",
            "                                                                                                  \n",
            " block5f_dwconv2 (DepthwiseConv  (None, 16, 16, 672)  6048       ['block5f_expand_activation[0][0]\n",
            " 2D)                                                             ']                               \n",
            "                                                                                                  \n",
            " block5f_bn (BatchNormalization  (None, 16, 16, 672)  2688       ['block5f_dwconv2[0][0]']        \n",
            " )                                                                                                \n",
            "                                                                                                  \n",
            " block5f_activation (Activation  (None, 16, 16, 672)  0          ['block5f_bn[0][0]']             \n",
            " )                                                                                                \n",
            "                                                                                                  \n",
            " block5f_se_squeeze (GlobalAver  (None, 672)         0           ['block5f_activation[0][0]']     \n",
            " agePooling2D)                                                                                    \n",
            "                                                                                                  \n",
            " block5f_se_reshape (Reshape)   (None, 1, 1, 672)    0           ['block5f_se_squeeze[0][0]']     \n",
            "                                                                                                  \n",
            " block5f_se_reduce (Conv2D)     (None, 1, 1, 28)     18844       ['block5f_se_reshape[0][0]']     \n",
            "                                                                                                  \n",
            " block5f_se_expand (Conv2D)     (None, 1, 1, 672)    19488       ['block5f_se_reduce[0][0]']      \n",
            "                                                                                                  \n",
            " block5f_se_excite (Multiply)   (None, 16, 16, 672)  0           ['block5f_activation[0][0]',     \n",
            "                                                                  'block5f_se_expand[0][0]']      \n",
            "                                                                                                  \n",
            " block5f_project_conv (Conv2D)  (None, 16, 16, 112)  75264       ['block5f_se_excite[0][0]']      \n",
            "                                                                                                  \n",
            " block5f_project_bn (BatchNorma  (None, 16, 16, 112)  448        ['block5f_project_conv[0][0]']   \n",
            " lization)                                                                                        \n",
            "                                                                                                  \n",
            " block5f_add (Add)              (None, 16, 16, 112)  0           ['block5f_project_bn[0][0]',     \n",
            "                                                                  'block5e_add[0][0]']            \n",
            "                                                                                                  \n",
            " block6a_expand_conv (Conv2D)   (None, 16, 16, 672)  75264       ['block5f_add[0][0]']            \n",
            "                                                                                                  \n",
            " block6a_expand_bn (BatchNormal  (None, 16, 16, 672)  2688       ['block6a_expand_conv[0][0]']    \n",
            " ization)                                                                                         \n",
            "                                                                                                  \n",
            " block6a_expand_activation (Act  (None, 16, 16, 672)  0          ['block6a_expand_bn[0][0]']      \n",
            " ivation)                                                                                         \n",
            "                                                                                                  \n",
            " block6a_dwconv2 (DepthwiseConv  (None, 8, 8, 672)   6048        ['block6a_expand_activation[0][0]\n",
            " 2D)                                                             ']                               \n",
            "                                                                                                  \n",
            " block6a_bn (BatchNormalization  (None, 8, 8, 672)   2688        ['block6a_dwconv2[0][0]']        \n",
            " )                                                                                                \n",
            "                                                                                                  \n",
            " block6a_activation (Activation  (None, 8, 8, 672)   0           ['block6a_bn[0][0]']             \n",
            " )                                                                                                \n",
            "                                                                                                  \n",
            " block6a_se_squeeze (GlobalAver  (None, 672)         0           ['block6a_activation[0][0]']     \n",
            " agePooling2D)                                                                                    \n",
            "                                                                                                  \n",
            " block6a_se_reshape (Reshape)   (None, 1, 1, 672)    0           ['block6a_se_squeeze[0][0]']     \n",
            "                                                                                                  \n",
            " block6a_se_reduce (Conv2D)     (None, 1, 1, 28)     18844       ['block6a_se_reshape[0][0]']     \n",
            "                                                                                                  \n",
            " block6a_se_expand (Conv2D)     (None, 1, 1, 672)    19488       ['block6a_se_reduce[0][0]']      \n",
            "                                                                                                  \n",
            " block6a_se_excite (Multiply)   (None, 8, 8, 672)    0           ['block6a_activation[0][0]',     \n",
            "                                                                  'block6a_se_expand[0][0]']      \n",
            "                                                                                                  \n",
            " block6a_project_conv (Conv2D)  (None, 8, 8, 192)    129024      ['block6a_se_excite[0][0]']      \n",
            "                                                                                                  \n",
            " block6a_project_bn (BatchNorma  (None, 8, 8, 192)   768         ['block6a_project_conv[0][0]']   \n",
            " lization)                                                                                        \n",
            "                                                                                                  \n",
            " block6b_expand_conv (Conv2D)   (None, 8, 8, 1152)   221184      ['block6a_project_bn[0][0]']     \n",
            "                                                                                                  \n",
            " block6b_expand_bn (BatchNormal  (None, 8, 8, 1152)  4608        ['block6b_expand_conv[0][0]']    \n",
            " ization)                                                                                         \n",
            "                                                                                                  \n",
            " block6b_expand_activation (Act  (None, 8, 8, 1152)  0           ['block6b_expand_bn[0][0]']      \n",
            " ivation)                                                                                         \n",
            "                                                                                                  \n",
            " block6b_dwconv2 (DepthwiseConv  (None, 8, 8, 1152)  10368       ['block6b_expand_activation[0][0]\n",
            " 2D)                                                             ']                               \n",
            "                                                                                                  \n",
            " block6b_bn (BatchNormalization  (None, 8, 8, 1152)  4608        ['block6b_dwconv2[0][0]']        \n",
            " )                                                                                                \n",
            "                                                                                                  \n",
            " block6b_activation (Activation  (None, 8, 8, 1152)  0           ['block6b_bn[0][0]']             \n",
            " )                                                                                                \n",
            "                                                                                                  \n",
            " block6b_se_squeeze (GlobalAver  (None, 1152)        0           ['block6b_activation[0][0]']     \n",
            " agePooling2D)                                                                                    \n",
            "                                                                                                  \n",
            " block6b_se_reshape (Reshape)   (None, 1, 1, 1152)   0           ['block6b_se_squeeze[0][0]']     \n",
            "                                                                                                  \n",
            " block6b_se_reduce (Conv2D)     (None, 1, 1, 48)     55344       ['block6b_se_reshape[0][0]']     \n",
            "                                                                                                  \n",
            " block6b_se_expand (Conv2D)     (None, 1, 1, 1152)   56448       ['block6b_se_reduce[0][0]']      \n",
            "                                                                                                  \n",
            " block6b_se_excite (Multiply)   (None, 8, 8, 1152)   0           ['block6b_activation[0][0]',     \n",
            "                                                                  'block6b_se_expand[0][0]']      \n",
            "                                                                                                  \n",
            " block6b_project_conv (Conv2D)  (None, 8, 8, 192)    221184      ['block6b_se_excite[0][0]']      \n",
            "                                                                                                  \n",
            " block6b_project_bn (BatchNorma  (None, 8, 8, 192)   768         ['block6b_project_conv[0][0]']   \n",
            " lization)                                                                                        \n",
            "                                                                                                  \n",
            " block6b_add (Add)              (None, 8, 8, 192)    0           ['block6b_project_bn[0][0]',     \n",
            "                                                                  'block6a_project_bn[0][0]']     \n",
            "                                                                                                  \n",
            " block6c_expand_conv (Conv2D)   (None, 8, 8, 1152)   221184      ['block6b_add[0][0]']            \n",
            "                                                                                                  \n",
            " block6c_expand_bn (BatchNormal  (None, 8, 8, 1152)  4608        ['block6c_expand_conv[0][0]']    \n",
            " ization)                                                                                         \n",
            "                                                                                                  \n",
            " block6c_expand_activation (Act  (None, 8, 8, 1152)  0           ['block6c_expand_bn[0][0]']      \n",
            " ivation)                                                                                         \n",
            "                                                                                                  \n",
            " block6c_dwconv2 (DepthwiseConv  (None, 8, 8, 1152)  10368       ['block6c_expand_activation[0][0]\n",
            " 2D)                                                             ']                               \n",
            "                                                                                                  \n",
            " block6c_bn (BatchNormalization  (None, 8, 8, 1152)  4608        ['block6c_dwconv2[0][0]']        \n",
            " )                                                                                                \n",
            "                                                                                                  \n",
            " block6c_activation (Activation  (None, 8, 8, 1152)  0           ['block6c_bn[0][0]']             \n",
            " )                                                                                                \n",
            "                                                                                                  \n",
            " block6c_se_squeeze (GlobalAver  (None, 1152)        0           ['block6c_activation[0][0]']     \n",
            " agePooling2D)                                                                                    \n",
            "                                                                                                  \n",
            " block6c_se_reshape (Reshape)   (None, 1, 1, 1152)   0           ['block6c_se_squeeze[0][0]']     \n",
            "                                                                                                  \n",
            " block6c_se_reduce (Conv2D)     (None, 1, 1, 48)     55344       ['block6c_se_reshape[0][0]']     \n",
            "                                                                                                  \n",
            " block6c_se_expand (Conv2D)     (None, 1, 1, 1152)   56448       ['block6c_se_reduce[0][0]']      \n",
            "                                                                                                  \n",
            " block6c_se_excite (Multiply)   (None, 8, 8, 1152)   0           ['block6c_activation[0][0]',     \n",
            "                                                                  'block6c_se_expand[0][0]']      \n",
            "                                                                                                  \n",
            " block6c_project_conv (Conv2D)  (None, 8, 8, 192)    221184      ['block6c_se_excite[0][0]']      \n",
            "                                                                                                  \n",
            " block6c_project_bn (BatchNorma  (None, 8, 8, 192)   768         ['block6c_project_conv[0][0]']   \n",
            " lization)                                                                                        \n",
            "                                                                                                  \n",
            " block6c_add (Add)              (None, 8, 8, 192)    0           ['block6c_project_bn[0][0]',     \n",
            "                                                                  'block6b_add[0][0]']            \n",
            "                                                                                                  \n",
            " block6d_expand_conv (Conv2D)   (None, 8, 8, 1152)   221184      ['block6c_add[0][0]']            \n",
            "                                                                                                  \n",
            " block6d_expand_bn (BatchNormal  (None, 8, 8, 1152)  4608        ['block6d_expand_conv[0][0]']    \n",
            " ization)                                                                                         \n",
            "                                                                                                  \n",
            " block6d_expand_activation (Act  (None, 8, 8, 1152)  0           ['block6d_expand_bn[0][0]']      \n",
            " ivation)                                                                                         \n",
            "                                                                                                  \n",
            " block6d_dwconv2 (DepthwiseConv  (None, 8, 8, 1152)  10368       ['block6d_expand_activation[0][0]\n",
            " 2D)                                                             ']                               \n",
            "                                                                                                  \n",
            " block6d_bn (BatchNormalization  (None, 8, 8, 1152)  4608        ['block6d_dwconv2[0][0]']        \n",
            " )                                                                                                \n",
            "                                                                                                  \n",
            " block6d_activation (Activation  (None, 8, 8, 1152)  0           ['block6d_bn[0][0]']             \n",
            " )                                                                                                \n",
            "                                                                                                  \n",
            " block6d_se_squeeze (GlobalAver  (None, 1152)        0           ['block6d_activation[0][0]']     \n",
            " agePooling2D)                                                                                    \n",
            "                                                                                                  \n",
            " block6d_se_reshape (Reshape)   (None, 1, 1, 1152)   0           ['block6d_se_squeeze[0][0]']     \n",
            "                                                                                                  \n",
            " block6d_se_reduce (Conv2D)     (None, 1, 1, 48)     55344       ['block6d_se_reshape[0][0]']     \n",
            "                                                                                                  \n",
            " block6d_se_expand (Conv2D)     (None, 1, 1, 1152)   56448       ['block6d_se_reduce[0][0]']      \n",
            "                                                                                                  \n",
            " block6d_se_excite (Multiply)   (None, 8, 8, 1152)   0           ['block6d_activation[0][0]',     \n",
            "                                                                  'block6d_se_expand[0][0]']      \n",
            "                                                                                                  \n",
            " block6d_project_conv (Conv2D)  (None, 8, 8, 192)    221184      ['block6d_se_excite[0][0]']      \n",
            "                                                                                                  \n",
            " block6d_project_bn (BatchNorma  (None, 8, 8, 192)   768         ['block6d_project_conv[0][0]']   \n",
            " lization)                                                                                        \n",
            "                                                                                                  \n",
            " block6d_add (Add)              (None, 8, 8, 192)    0           ['block6d_project_bn[0][0]',     \n",
            "                                                                  'block6c_add[0][0]']            \n",
            "                                                                                                  \n",
            " block6e_expand_conv (Conv2D)   (None, 8, 8, 1152)   221184      ['block6d_add[0][0]']            \n",
            "                                                                                                  \n",
            " block6e_expand_bn (BatchNormal  (None, 8, 8, 1152)  4608        ['block6e_expand_conv[0][0]']    \n",
            " ization)                                                                                         \n",
            "                                                                                                  \n",
            " block6e_expand_activation (Act  (None, 8, 8, 1152)  0           ['block6e_expand_bn[0][0]']      \n",
            " ivation)                                                                                         \n",
            "                                                                                                  \n",
            " block6e_dwconv2 (DepthwiseConv  (None, 8, 8, 1152)  10368       ['block6e_expand_activation[0][0]\n",
            " 2D)                                                             ']                               \n",
            "                                                                                                  \n",
            " block6e_bn (BatchNormalization  (None, 8, 8, 1152)  4608        ['block6e_dwconv2[0][0]']        \n",
            " )                                                                                                \n",
            "                                                                                                  \n",
            " block6e_activation (Activation  (None, 8, 8, 1152)  0           ['block6e_bn[0][0]']             \n",
            " )                                                                                                \n",
            "                                                                                                  \n",
            " block6e_se_squeeze (GlobalAver  (None, 1152)        0           ['block6e_activation[0][0]']     \n",
            " agePooling2D)                                                                                    \n",
            "                                                                                                  \n",
            " block6e_se_reshape (Reshape)   (None, 1, 1, 1152)   0           ['block6e_se_squeeze[0][0]']     \n",
            "                                                                                                  \n",
            " block6e_se_reduce (Conv2D)     (None, 1, 1, 48)     55344       ['block6e_se_reshape[0][0]']     \n",
            "                                                                                                  \n",
            " block6e_se_expand (Conv2D)     (None, 1, 1, 1152)   56448       ['block6e_se_reduce[0][0]']      \n",
            "                                                                                                  \n",
            " block6e_se_excite (Multiply)   (None, 8, 8, 1152)   0           ['block6e_activation[0][0]',     \n",
            "                                                                  'block6e_se_expand[0][0]']      \n",
            "                                                                                                  \n",
            " block6e_project_conv (Conv2D)  (None, 8, 8, 192)    221184      ['block6e_se_excite[0][0]']      \n",
            "                                                                                                  \n",
            " block6e_project_bn (BatchNorma  (None, 8, 8, 192)   768         ['block6e_project_conv[0][0]']   \n",
            " lization)                                                                                        \n",
            "                                                                                                  \n",
            " block6e_add (Add)              (None, 8, 8, 192)    0           ['block6e_project_bn[0][0]',     \n",
            "                                                                  'block6d_add[0][0]']            \n",
            "                                                                                                  \n",
            " block6f_expand_conv (Conv2D)   (None, 8, 8, 1152)   221184      ['block6e_add[0][0]']            \n",
            "                                                                                                  \n",
            " block6f_expand_bn (BatchNormal  (None, 8, 8, 1152)  4608        ['block6f_expand_conv[0][0]']    \n",
            " ization)                                                                                         \n",
            "                                                                                                  \n",
            " block6f_expand_activation (Act  (None, 8, 8, 1152)  0           ['block6f_expand_bn[0][0]']      \n",
            " ivation)                                                                                         \n",
            "                                                                                                  \n",
            " block6f_dwconv2 (DepthwiseConv  (None, 8, 8, 1152)  10368       ['block6f_expand_activation[0][0]\n",
            " 2D)                                                             ']                               \n",
            "                                                                                                  \n",
            " block6f_bn (BatchNormalization  (None, 8, 8, 1152)  4608        ['block6f_dwconv2[0][0]']        \n",
            " )                                                                                                \n",
            "                                                                                                  \n",
            " block6f_activation (Activation  (None, 8, 8, 1152)  0           ['block6f_bn[0][0]']             \n",
            " )                                                                                                \n",
            "                                                                                                  \n",
            " block6f_se_squeeze (GlobalAver  (None, 1152)        0           ['block6f_activation[0][0]']     \n",
            " agePooling2D)                                                                                    \n",
            "                                                                                                  \n",
            " block6f_se_reshape (Reshape)   (None, 1, 1, 1152)   0           ['block6f_se_squeeze[0][0]']     \n",
            "                                                                                                  \n",
            " block6f_se_reduce (Conv2D)     (None, 1, 1, 48)     55344       ['block6f_se_reshape[0][0]']     \n",
            "                                                                                                  \n",
            " block6f_se_expand (Conv2D)     (None, 1, 1, 1152)   56448       ['block6f_se_reduce[0][0]']      \n",
            "                                                                                                  \n",
            " block6f_se_excite (Multiply)   (None, 8, 8, 1152)   0           ['block6f_activation[0][0]',     \n",
            "                                                                  'block6f_se_expand[0][0]']      \n",
            "                                                                                                  \n",
            " block6f_project_conv (Conv2D)  (None, 8, 8, 192)    221184      ['block6f_se_excite[0][0]']      \n",
            "                                                                                                  \n",
            " block6f_project_bn (BatchNorma  (None, 8, 8, 192)   768         ['block6f_project_conv[0][0]']   \n",
            " lization)                                                                                        \n",
            "                                                                                                  \n",
            " block6f_add (Add)              (None, 8, 8, 192)    0           ['block6f_project_bn[0][0]',     \n",
            "                                                                  'block6e_add[0][0]']            \n",
            "                                                                                                  \n",
            " block6g_expand_conv (Conv2D)   (None, 8, 8, 1152)   221184      ['block6f_add[0][0]']            \n",
            "                                                                                                  \n",
            " block6g_expand_bn (BatchNormal  (None, 8, 8, 1152)  4608        ['block6g_expand_conv[0][0]']    \n",
            " ization)                                                                                         \n",
            "                                                                                                  \n",
            " block6g_expand_activation (Act  (None, 8, 8, 1152)  0           ['block6g_expand_bn[0][0]']      \n",
            " ivation)                                                                                         \n",
            "                                                                                                  \n",
            " block6g_dwconv2 (DepthwiseConv  (None, 8, 8, 1152)  10368       ['block6g_expand_activation[0][0]\n",
            " 2D)                                                             ']                               \n",
            "                                                                                                  \n",
            " block6g_bn (BatchNormalization  (None, 8, 8, 1152)  4608        ['block6g_dwconv2[0][0]']        \n",
            " )                                                                                                \n",
            "                                                                                                  \n",
            " block6g_activation (Activation  (None, 8, 8, 1152)  0           ['block6g_bn[0][0]']             \n",
            " )                                                                                                \n",
            "                                                                                                  \n",
            " block6g_se_squeeze (GlobalAver  (None, 1152)        0           ['block6g_activation[0][0]']     \n",
            " agePooling2D)                                                                                    \n",
            "                                                                                                  \n",
            " block6g_se_reshape (Reshape)   (None, 1, 1, 1152)   0           ['block6g_se_squeeze[0][0]']     \n",
            "                                                                                                  \n",
            " block6g_se_reduce (Conv2D)     (None, 1, 1, 48)     55344       ['block6g_se_reshape[0][0]']     \n",
            "                                                                                                  \n",
            " block6g_se_expand (Conv2D)     (None, 1, 1, 1152)   56448       ['block6g_se_reduce[0][0]']      \n",
            "                                                                                                  \n",
            " block6g_se_excite (Multiply)   (None, 8, 8, 1152)   0           ['block6g_activation[0][0]',     \n",
            "                                                                  'block6g_se_expand[0][0]']      \n",
            "                                                                                                  \n",
            " block6g_project_conv (Conv2D)  (None, 8, 8, 192)    221184      ['block6g_se_excite[0][0]']      \n",
            "                                                                                                  \n",
            " block6g_project_bn (BatchNorma  (None, 8, 8, 192)   768         ['block6g_project_conv[0][0]']   \n",
            " lization)                                                                                        \n",
            "                                                                                                  \n",
            " block6g_add (Add)              (None, 8, 8, 192)    0           ['block6g_project_bn[0][0]',     \n",
            "                                                                  'block6f_add[0][0]']            \n",
            "                                                                                                  \n",
            " block6h_expand_conv (Conv2D)   (None, 8, 8, 1152)   221184      ['block6g_add[0][0]']            \n",
            "                                                                                                  \n",
            " block6h_expand_bn (BatchNormal  (None, 8, 8, 1152)  4608        ['block6h_expand_conv[0][0]']    \n",
            " ization)                                                                                         \n",
            "                                                                                                  \n",
            " block6h_expand_activation (Act  (None, 8, 8, 1152)  0           ['block6h_expand_bn[0][0]']      \n",
            " ivation)                                                                                         \n",
            "                                                                                                  \n",
            " block6h_dwconv2 (DepthwiseConv  (None, 8, 8, 1152)  10368       ['block6h_expand_activation[0][0]\n",
            " 2D)                                                             ']                               \n",
            "                                                                                                  \n",
            " block6h_bn (BatchNormalization  (None, 8, 8, 1152)  4608        ['block6h_dwconv2[0][0]']        \n",
            " )                                                                                                \n",
            "                                                                                                  \n",
            " block6h_activation (Activation  (None, 8, 8, 1152)  0           ['block6h_bn[0][0]']             \n",
            " )                                                                                                \n",
            "                                                                                                  \n",
            " block6h_se_squeeze (GlobalAver  (None, 1152)        0           ['block6h_activation[0][0]']     \n",
            " agePooling2D)                                                                                    \n",
            "                                                                                                  \n",
            " block6h_se_reshape (Reshape)   (None, 1, 1, 1152)   0           ['block6h_se_squeeze[0][0]']     \n",
            "                                                                                                  \n",
            " block6h_se_reduce (Conv2D)     (None, 1, 1, 48)     55344       ['block6h_se_reshape[0][0]']     \n",
            "                                                                                                  \n",
            " block6h_se_expand (Conv2D)     (None, 1, 1, 1152)   56448       ['block6h_se_reduce[0][0]']      \n",
            "                                                                                                  \n",
            " block6h_se_excite (Multiply)   (None, 8, 8, 1152)   0           ['block6h_activation[0][0]',     \n",
            "                                                                  'block6h_se_expand[0][0]']      \n",
            "                                                                                                  \n",
            " block6h_project_conv (Conv2D)  (None, 8, 8, 192)    221184      ['block6h_se_excite[0][0]']      \n",
            "                                                                                                  \n",
            " block6h_project_bn (BatchNorma  (None, 8, 8, 192)   768         ['block6h_project_conv[0][0]']   \n",
            " lization)                                                                                        \n",
            "                                                                                                  \n",
            " block6h_add (Add)              (None, 8, 8, 192)    0           ['block6h_project_bn[0][0]',     \n",
            "                                                                  'block6g_add[0][0]']            \n",
            "                                                                                                  \n",
            " block6i_expand_conv (Conv2D)   (None, 8, 8, 1152)   221184      ['block6h_add[0][0]']            \n",
            "                                                                                                  \n",
            " block6i_expand_bn (BatchNormal  (None, 8, 8, 1152)  4608        ['block6i_expand_conv[0][0]']    \n",
            " ization)                                                                                         \n",
            "                                                                                                  \n",
            " block6i_expand_activation (Act  (None, 8, 8, 1152)  0           ['block6i_expand_bn[0][0]']      \n",
            " ivation)                                                                                         \n",
            "                                                                                                  \n",
            " block6i_dwconv2 (DepthwiseConv  (None, 8, 8, 1152)  10368       ['block6i_expand_activation[0][0]\n",
            " 2D)                                                             ']                               \n",
            "                                                                                                  \n",
            " block6i_bn (BatchNormalization  (None, 8, 8, 1152)  4608        ['block6i_dwconv2[0][0]']        \n",
            " )                                                                                                \n",
            "                                                                                                  \n",
            " block6i_activation (Activation  (None, 8, 8, 1152)  0           ['block6i_bn[0][0]']             \n",
            " )                                                                                                \n",
            "                                                                                                  \n",
            " block6i_se_squeeze (GlobalAver  (None, 1152)        0           ['block6i_activation[0][0]']     \n",
            " agePooling2D)                                                                                    \n",
            "                                                                                                  \n",
            " block6i_se_reshape (Reshape)   (None, 1, 1, 1152)   0           ['block6i_se_squeeze[0][0]']     \n",
            "                                                                                                  \n",
            " block6i_se_reduce (Conv2D)     (None, 1, 1, 48)     55344       ['block6i_se_reshape[0][0]']     \n",
            "                                                                                                  \n",
            " block6i_se_expand (Conv2D)     (None, 1, 1, 1152)   56448       ['block6i_se_reduce[0][0]']      \n",
            "                                                                                                  \n",
            " block6i_se_excite (Multiply)   (None, 8, 8, 1152)   0           ['block6i_activation[0][0]',     \n",
            "                                                                  'block6i_se_expand[0][0]']      \n",
            "                                                                                                  \n",
            " block6i_project_conv (Conv2D)  (None, 8, 8, 192)    221184      ['block6i_se_excite[0][0]']      \n",
            "                                                                                                  \n",
            " block6i_project_bn (BatchNorma  (None, 8, 8, 192)   768         ['block6i_project_conv[0][0]']   \n",
            " lization)                                                                                        \n",
            "                                                                                                  \n",
            " block6i_add (Add)              (None, 8, 8, 192)    0           ['block6i_project_bn[0][0]',     \n",
            "                                                                  'block6h_add[0][0]']            \n",
            "                                                                                                  \n",
            " top_conv (Conv2D)              (None, 8, 8, 1280)   245760      ['block6i_add[0][0]']            \n",
            "                                                                                                  \n",
            " top_bn (BatchNormalization)    (None, 8, 8, 1280)   5120        ['top_conv[0][0]']               \n",
            "                                                                                                  \n",
            " top_activation (Activation)    (None, 8, 8, 1280)   0           ['top_bn[0][0]']                 \n",
            "                                                                                                  \n",
            " global_average_pooling2d_2 (Gl  (None, 1280)        0           ['top_activation[0][0]']         \n",
            " obalAveragePooling2D)                                                                            \n",
            "                                                                                                  \n",
            " batch_normalization_8 (BatchNo  (None, 1280)        5120        ['global_average_pooling2d_2[0][0\n",
            " rmalization)                                                    ]']                              \n",
            "                                                                                                  \n",
            " dense_8 (Dense)                (None, 1024)         1311744     ['batch_normalization_8[0][0]']  \n",
            "                                                                                                  \n",
            " batch_normalization_9 (BatchNo  (None, 1024)        4096        ['dense_8[0][0]']                \n",
            " rmalization)                                                                                     \n",
            "                                                                                                  \n",
            " activation_6 (Activation)      (None, 1024)         0           ['batch_normalization_9[0][0]']  \n",
            "                                                                                                  \n",
            " dropout_6 (Dropout)            (None, 1024)         0           ['activation_6[0][0]']           \n",
            "                                                                                                  \n",
            " dense_9 (Dense)                (None, 512)          524800      ['dropout_6[0][0]']              \n",
            "                                                                                                  \n",
            " batch_normalization_10 (BatchN  (None, 512)         2048        ['dense_9[0][0]']                \n",
            " ormalization)                                                                                    \n",
            "                                                                                                  \n",
            " activation_7 (Activation)      (None, 512)          0           ['batch_normalization_10[0][0]'] \n",
            "                                                                                                  \n",
            " dropout_7 (Dropout)            (None, 512)          0           ['activation_7[0][0]']           \n",
            "                                                                                                  \n",
            " dense_10 (Dense)               (None, 256)          131328      ['dropout_7[0][0]']              \n",
            "                                                                                                  \n",
            " batch_normalization_11 (BatchN  (None, 256)         1024        ['dense_10[0][0]']               \n",
            " ormalization)                                                                                    \n",
            "                                                                                                  \n",
            " activation_8 (Activation)      (None, 256)          0           ['batch_normalization_11[0][0]'] \n",
            "                                                                                                  \n",
            " dropout_8 (Dropout)            (None, 256)          0           ['activation_8[0][0]']           \n",
            "                                                                                                  \n",
            " dense_11 (Dense)               (None, 5)            1285        ['dropout_8[0][0]']              \n",
            "                                                                                                  \n",
            "==================================================================================================\n",
            "Total params: 8,912,569\n",
            "Trainable params: 8,835,353\n",
            "Non-trainable params: 77,216\n",
            "__________________________________________________________________________________________________\n"
          ]
        }
      ]
    },
    {
      "cell_type": "code",
      "source": [
        "# 모델 컴파일\n",
        "EfficientNet_V2B1_model2.compile(optimizer = 'adam', loss = 'categorical_crossentropy', metrics = ['accuracy', 'Precision','Recall'])"
      ],
      "metadata": {
        "id": "j2LIXN2QKcf7"
      },
      "execution_count": 26,
      "outputs": []
    },
    {
      "cell_type": "code",
      "source": [
        "# 학습시킨 데이터를 저장시키기 위한 코드다. \n",
        "checkpoint_filepath7 = \"EfficientNet_V2B1_model2_best.hdf5\"\n",
        "\n",
        "# early stopping\n",
        "# val_loss 모니터링, patience = 10 → 연속적으로 10번이나 값이 나아지지 않으면 조기 종료\n",
        "early_stop = keras.callbacks.EarlyStopping(monitor = 'val_loss', min_delta = 0, patience = 10, verbose = 1)\n",
        "\n",
        "# Validation Set을 기준으로 가장 최적의 모델을 찾기\n",
        "save_best = keras.callbacks.ModelCheckpoint(filepath = checkpoint_filepath7,\n",
        "                                            monitor = 'val_loss',\n",
        "                                            verbose = 1,\n",
        "                                            save_best_only = True,\n",
        "                                            save_weights_only = True,\n",
        "                                            mode = 'auto',\n",
        "                                            save_freq = 'epoch',\n",
        "                                            options = None)\n",
        "\n",
        "# 변수 설정을 따로 하는 방법을 적용하기 위한 코드입니다. \n",
        "batch_size = 32\n",
        "epochs_max = 50\n",
        "\n",
        "# 모델 학습\n",
        "# 위에서 설정한 batch_size, epochs_max 그대로 가져와서 사용하기\n",
        "results7 = EfficientNet_V2B1_model2.fit(train,\n",
        "                                      batch_size = batch_size,\n",
        "                                      epochs = epochs_max,\n",
        "                                      verbose = 1,\n",
        "                                      validation_data = test,\n",
        "                                      callbacks = [early_stop, save_best])"
      ],
      "metadata": {
        "id": "DADEnKUMKkrn",
        "outputId": "c2be3226-487e-4d80-de30-f7ae14f772cd",
        "colab": {
          "base_uri": "https://localhost:8080/"
        }
      },
      "execution_count": 27,
      "outputs": [
        {
          "output_type": "stream",
          "name": "stdout",
          "text": [
            "Epoch 1/50\n",
            "564/564 [==============================] - ETA: 0s - loss: 0.3026 - accuracy: 0.8905 - precision: 0.8999 - recall: 0.8837\n",
            "Epoch 1: val_loss improved from inf to 0.18447, saving model to EfficientNet_V2B1_model2_best.hdf5\n",
            "564/564 [==============================] - 2689s 5s/step - loss: 0.3026 - accuracy: 0.8905 - precision: 0.8999 - recall: 0.8837 - val_loss: 0.1845 - val_accuracy: 0.9292 - val_precision: 0.9304 - val_recall: 0.9272\n",
            "Epoch 2/50\n",
            "564/564 [==============================] - ETA: 0s - loss: 0.2102 - accuracy: 0.9204 - precision: 0.9225 - recall: 0.9177\n",
            "Epoch 2: val_loss improved from 0.18447 to 0.16200, saving model to EfficientNet_V2B1_model2_best.hdf5\n",
            "564/564 [==============================] - 330s 581ms/step - loss: 0.2102 - accuracy: 0.9204 - precision: 0.9225 - recall: 0.9177 - val_loss: 0.1620 - val_accuracy: 0.9342 - val_precision: 0.9355 - val_recall: 0.9337\n",
            "Epoch 3/50\n",
            "564/564 [==============================] - ETA: 0s - loss: 0.1740 - accuracy: 0.9346 - precision: 0.9359 - recall: 0.9330\n",
            "Epoch 3: val_loss did not improve from 0.16200\n",
            "564/564 [==============================] - 241s 422ms/step - loss: 0.1740 - accuracy: 0.9346 - precision: 0.9359 - recall: 0.9330 - val_loss: 0.1894 - val_accuracy: 0.9187 - val_precision: 0.9187 - val_recall: 0.9187\n",
            "Epoch 4/50\n",
            "564/564 [==============================] - ETA: 0s - loss: 0.1587 - accuracy: 0.9385 - precision: 0.9394 - recall: 0.9367\n",
            "Epoch 4: val_loss improved from 0.16200 to 0.14910, saving model to EfficientNet_V2B1_model2_best.hdf5\n",
            "564/564 [==============================] - 243s 425ms/step - loss: 0.1587 - accuracy: 0.9385 - precision: 0.9394 - recall: 0.9367 - val_loss: 0.1491 - val_accuracy: 0.9431 - val_precision: 0.9431 - val_recall: 0.9431\n",
            "Epoch 5/50\n",
            "564/564 [==============================] - ETA: 0s - loss: 0.1467 - accuracy: 0.9447 - precision: 0.9454 - recall: 0.9442\n",
            "Epoch 5: val_loss improved from 0.14910 to 0.14237, saving model to EfficientNet_V2B1_model2_best.hdf5\n",
            "564/564 [==============================] - 244s 426ms/step - loss: 0.1467 - accuracy: 0.9447 - precision: 0.9454 - recall: 0.9442 - val_loss: 0.1424 - val_accuracy: 0.9456 - val_precision: 0.9466 - val_recall: 0.9456\n",
            "Epoch 6/50\n",
            "564/564 [==============================] - ETA: 0s - loss: 0.1388 - accuracy: 0.9485 - precision: 0.9494 - recall: 0.9474\n",
            "Epoch 6: val_loss did not improve from 0.14237\n",
            "564/564 [==============================] - 252s 440ms/step - loss: 0.1388 - accuracy: 0.9485 - precision: 0.9494 - recall: 0.9474 - val_loss: 0.1580 - val_accuracy: 0.9406 - val_precision: 0.9416 - val_recall: 0.9401\n",
            "Epoch 7/50\n",
            "564/564 [==============================] - ETA: 0s - loss: 0.1279 - accuracy: 0.9528 - precision: 0.9535 - recall: 0.9519\n",
            "Epoch 7: val_loss did not improve from 0.14237\n",
            "564/564 [==============================] - 299s 524ms/step - loss: 0.1279 - accuracy: 0.9528 - precision: 0.9535 - recall: 0.9519 - val_loss: 0.1526 - val_accuracy: 0.9451 - val_precision: 0.9451 - val_recall: 0.9446\n",
            "Epoch 8/50\n",
            "564/564 [==============================] - ETA: 0s - loss: 0.1160 - accuracy: 0.9573 - precision: 0.9576 - recall: 0.9567\n",
            "Epoch 8: val_loss did not improve from 0.14237\n",
            "564/564 [==============================] - 265s 464ms/step - loss: 0.1160 - accuracy: 0.9573 - precision: 0.9576 - recall: 0.9567 - val_loss: 0.1522 - val_accuracy: 0.9426 - val_precision: 0.9431 - val_recall: 0.9426\n",
            "Epoch 9/50\n",
            "564/564 [==============================] - ETA: 0s - loss: 0.1069 - accuracy: 0.9610 - precision: 0.9616 - recall: 0.9607\n",
            "Epoch 9: val_loss improved from 0.14237 to 0.12947, saving model to EfficientNet_V2B1_model2_best.hdf5\n",
            "564/564 [==============================] - 246s 431ms/step - loss: 0.1069 - accuracy: 0.9610 - precision: 0.9616 - recall: 0.9607 - val_loss: 0.1295 - val_accuracy: 0.9531 - val_precision: 0.9531 - val_recall: 0.9526\n",
            "Epoch 10/50\n",
            "564/564 [==============================] - ETA: 0s - loss: 0.1055 - accuracy: 0.9605 - precision: 0.9613 - recall: 0.9597\n",
            "Epoch 10: val_loss did not improve from 0.12947\n",
            "564/564 [==============================] - 2956s 5s/step - loss: 0.1055 - accuracy: 0.9605 - precision: 0.9613 - recall: 0.9597 - val_loss: 0.1542 - val_accuracy: 0.9426 - val_precision: 0.9431 - val_recall: 0.9421\n",
            "Epoch 11/50\n",
            "564/564 [==============================] - ETA: 0s - loss: 0.0895 - accuracy: 0.9683 - precision: 0.9686 - recall: 0.9679\n",
            "Epoch 11: val_loss did not improve from 0.12947\n",
            "564/564 [==============================] - 247s 432ms/step - loss: 0.0895 - accuracy: 0.9683 - precision: 0.9686 - recall: 0.9679 - val_loss: 0.1498 - val_accuracy: 0.9501 - val_precision: 0.9501 - val_recall: 0.9496\n",
            "Epoch 12/50\n",
            "564/564 [==============================] - ETA: 0s - loss: 0.0728 - accuracy: 0.9718 - precision: 0.9721 - recall: 0.9715\n",
            "Epoch 12: val_loss did not improve from 0.12947\n",
            "564/564 [==============================] - 246s 431ms/step - loss: 0.0728 - accuracy: 0.9718 - precision: 0.9721 - recall: 0.9715 - val_loss: 0.1375 - val_accuracy: 0.9501 - val_precision: 0.9511 - val_recall: 0.9501\n",
            "Epoch 13/50\n",
            "564/564 [==============================] - ETA: 0s - loss: 0.0643 - accuracy: 0.9783 - precision: 0.9784 - recall: 0.9778\n",
            "Epoch 13: val_loss did not improve from 0.12947\n",
            "564/564 [==============================] - 264s 462ms/step - loss: 0.0643 - accuracy: 0.9783 - precision: 0.9784 - recall: 0.9778 - val_loss: 0.1869 - val_accuracy: 0.9392 - val_precision: 0.9396 - val_recall: 0.9392\n",
            "Epoch 14/50\n",
            "564/564 [==============================] - ETA: 0s - loss: 0.0614 - accuracy: 0.9788 - precision: 0.9794 - recall: 0.9786\n",
            "Epoch 14: val_loss did not improve from 0.12947\n",
            "564/564 [==============================] - 247s 431ms/step - loss: 0.0614 - accuracy: 0.9788 - precision: 0.9794 - recall: 0.9786 - val_loss: 0.1962 - val_accuracy: 0.9511 - val_precision: 0.9511 - val_recall: 0.9511\n",
            "Epoch 15/50\n",
            "564/564 [==============================] - ETA: 0s - loss: 0.0501 - accuracy: 0.9818 - precision: 0.9819 - recall: 0.9817\n",
            "Epoch 15: val_loss did not improve from 0.12947\n",
            "564/564 [==============================] - 249s 436ms/step - loss: 0.0501 - accuracy: 0.9818 - precision: 0.9819 - recall: 0.9817 - val_loss: 0.1705 - val_accuracy: 0.9486 - val_precision: 0.9486 - val_recall: 0.9486\n",
            "Epoch 16/50\n",
            "564/564 [==============================] - ETA: 0s - loss: 0.0382 - accuracy: 0.9866 - precision: 0.9866 - recall: 0.9864\n",
            "Epoch 16: val_loss did not improve from 0.12947\n",
            "564/564 [==============================] - 249s 435ms/step - loss: 0.0382 - accuracy: 0.9866 - precision: 0.9866 - recall: 0.9864 - val_loss: 0.2480 - val_accuracy: 0.9337 - val_precision: 0.9337 - val_recall: 0.9337\n",
            "Epoch 17/50\n",
            "564/564 [==============================] - ETA: 0s - loss: 0.0480 - accuracy: 0.9835 - precision: 0.9838 - recall: 0.9833\n",
            "Epoch 17: val_loss did not improve from 0.12947\n",
            "564/564 [==============================] - 296s 519ms/step - loss: 0.0480 - accuracy: 0.9835 - precision: 0.9838 - recall: 0.9833 - val_loss: 0.2219 - val_accuracy: 0.9491 - val_precision: 0.9496 - val_recall: 0.9491\n",
            "Epoch 18/50\n",
            "564/564 [==============================] - ETA: 0s - loss: 0.0406 - accuracy: 0.9859 - precision: 0.9863 - recall: 0.9858\n",
            "Epoch 18: val_loss did not improve from 0.12947\n",
            "564/564 [==============================] - 247s 432ms/step - loss: 0.0406 - accuracy: 0.9859 - precision: 0.9863 - recall: 0.9858 - val_loss: 0.2002 - val_accuracy: 0.9511 - val_precision: 0.9516 - val_recall: 0.9511\n",
            "Epoch 19/50\n",
            "564/564 [==============================] - ETA: 0s - loss: 0.0337 - accuracy: 0.9874 - precision: 0.9875 - recall: 0.9873\n",
            "Epoch 19: val_loss did not improve from 0.12947\n",
            "564/564 [==============================] - 248s 434ms/step - loss: 0.0337 - accuracy: 0.9874 - precision: 0.9875 - recall: 0.9873 - val_loss: 0.2205 - val_accuracy: 0.9491 - val_precision: 0.9491 - val_recall: 0.9491\n",
            "Epoch 19: early stopping\n"
          ]
        }
      ]
    },
    {
      "cell_type": "code",
      "source": [
        "# 학습된 모델을 이용하여 테스트하는 코드\n",
        "test_loss, test_acc, test_precision, test_recall = EfficientNet_V2B1_model2.evaluate(test, verbose = 1)"
      ],
      "metadata": {
        "id": "bxzMMUlRKvFA",
        "outputId": "f3248bfa-5fb1-433e-c374-610bb57d0acd",
        "colab": {
          "base_uri": "https://localhost:8080/"
        }
      },
      "execution_count": 28,
      "outputs": [
        {
          "output_type": "stream",
          "name": "stdout",
          "text": [
            "63/63 [==============================] - 21s 273ms/step - loss: 0.2205 - accuracy: 0.9491 - precision: 0.9491 - recall: 0.9491\n"
          ]
        }
      ]
    },
    {
      "cell_type": "code",
      "source": [
        "acc = results7.history['accuracy']\n",
        "val_acc = results7.history['val_accuracy']\n",
        "\n",
        "loss = results7.history['loss']\n",
        "val_loss = results7.history['val_loss']\n",
        "\n",
        "plt.figure(figsize=(8, 8))\n",
        "plt.subplot(2, 1, 1)\n",
        "plt.plot(acc, label='Training Accuracy')\n",
        "plt.plot(val_acc, label='Validation Accuracy')\n",
        "plt.legend(loc='lower right')\n",
        "plt.ylabel('Accuracy')\n",
        "plt.ylim([min(plt.ylim()),1])\n",
        "plt.title('Training and Validation Accuracy')\n",
        "\n",
        "plt.subplot(2, 1, 2)\n",
        "plt.plot(loss, label='Training Loss')\n",
        "plt.plot(val_loss, label='Validation Loss')\n",
        "plt.legend(loc='upper right')\n",
        "plt.ylabel('Cross Entropy')\n",
        "plt.ylim([0,1.0])\n",
        "plt.title('Training and Validation Loss')\n",
        "plt.xlabel('epoch')\n",
        "plt.show()"
      ],
      "metadata": {
        "id": "SW8_GJrmKx_b",
        "outputId": "9d1c055f-1d6c-42b4-d79e-e553b57290bf",
        "colab": {
          "base_uri": "https://localhost:8080/",
          "height": 513
        }
      },
      "execution_count": 29,
      "outputs": [
        {
          "output_type": "display_data",
          "data": {
            "text/plain": [
              "<Figure size 576x576 with 2 Axes>"
            ],
            "image/png": "[encoded data removed]"
          },
          "metadata": {
            "needs_background": "light"
          }
        }
      ]
    },
    {
      "cell_type": "code",
      "source": [
        "EfficientNet_V2B1_model2.load_weights(checkpoint_filepath7)\n",
        "\n",
        "# best model을 이용한 테스트 데이터 예측 정확도 재확인 코드\n",
        "test_loss, test_acc, test_precision, test_recall = EfficientNet_V2B1_model2.evaluate(test, verbose = 1)"
      ],
      "metadata": {
        "id": "WxjZUcF7K1-7",
        "outputId": "992b9e4b-a354-475f-a355-279014442c98",
        "colab": {
          "base_uri": "https://localhost:8080/"
        }
      },
      "execution_count": 30,
      "outputs": [
        {
          "output_type": "stream",
          "name": "stdout",
          "text": [
            "63/63 [==============================] - 21s 276ms/step - loss: 0.1295 - accuracy: 0.9531 - precision: 0.9531 - recall: 0.9526\n"
          ]
        }
      ]
    },
    {
      "cell_type": "code",
      "source": [
        "# Model 저장\n",
        "EfficientNet_V2B1_model2.save('EfficientNet_V2B1_model2.h5')"
      ],
      "metadata": {
        "id": "flybqDmiK66T"
      },
      "execution_count": 31,
      "outputs": []
    },
    {
      "cell_type": "markdown",
      "source": [
        "# EfficientNetV2B1 + 배치 정규화 + Dropout(0.2)"
      ],
      "metadata": {
        "id": "_MfJD0lC3HI7"
      }
    },
    {
      "cell_type": "code",
      "source": [
        "EfficientNet_V2B1 = tf.keras.applications.efficientnet_v2.EfficientNetV2B1(\n",
        "                   include_top = False,\n",
        "                   weights = 'imagenet',\n",
        "                   input_tensor = None,\n",
        "                   input_shape = (256, 256, 3)\n",
        "                   )"
      ],
      "metadata": {
        "id": "1EDbBKx_3K3s"
      },
      "execution_count": 32,
      "outputs": []
    },
    {
      "cell_type": "code",
      "source": [
        "# EfficientNetV2B1 레이어들의 파라미터를 새로운 데이터에 맞게 학습하도록 설정\n",
        "for layer in EfficientNet_V2B1.layers:\n",
        "    layer.trainable = True"
      ],
      "metadata": {
        "id": "g4R3Kg663SJo"
      },
      "execution_count": 33,
      "outputs": []
    },
    {
      "cell_type": "code",
      "source": [
        "# 모델에 출력층을 생성해준다.\n",
        "x = EfficientNet_V2B1.output\n",
        "x = GlobalAveragePooling2D()(x)\n",
        "x = BatchNormalization()(x)\n",
        "# 다중 분류 모델을 만들어준다.\n",
        "x = Dense(1024, kernel_initializer='uniform')(x)\n",
        "x = BatchNormalization()(x)\n",
        "x = Activation('relu')(x)\n",
        "x = Dropout(0.2)(x)\n",
        "x = Dense(512, kernel_initializer='uniform')(x)\n",
        "x = BatchNormalization()(x)\n",
        "x = Activation('relu')(x)\n",
        "x = Dropout(0.2)(x)\n",
        "x = Dense(256, kernel_initializer='uniform')(x)\n",
        "x = BatchNormalization()(x)\n",
        "x = Activation('relu')(x)\n",
        "x = Dropout(0.2)(x)\n",
        "predictions = Dense(5, activation='softmax')(x) # 출력층을 설계한다.\n",
        "EfficientNet_V2B1_model3 = Model(EfficientNet_V2B1.input, predictions)"
      ],
      "metadata": {
        "id": "x1xppAke3U09"
      },
      "execution_count": 34,
      "outputs": []
    },
    {
      "cell_type": "code",
      "source": [
        "# 모델 컴파일\n",
        "EfficientNet_V2B1_model3.compile(optimizer = 'adam', loss = 'categorical_crossentropy', metrics = ['accuracy', 'Precision','Recall'])"
      ],
      "metadata": {
        "id": "FYL54n1a3eQp"
      },
      "execution_count": 35,
      "outputs": []
    },
    {
      "cell_type": "code",
      "source": [
        "# 학습시킨 데이터를 저장시키기 위한 코드다. \n",
        "checkpoint_filepath8 = \"EfficientNet_V2B1_model3_best.hdf5\"\n",
        "\n",
        "# early stopping\n",
        "# val_loss 모니터링, patience = 10 → 연속적으로 10번이나 값이 나아지지 않으면 조기 종료\n",
        "early_stop = keras.callbacks.EarlyStopping(monitor = 'val_loss', min_delta = 0, patience = 10, verbose = 1)\n",
        "\n",
        "# Validation Set을 기준으로 가장 최적의 모델을 찾기\n",
        "save_best = keras.callbacks.ModelCheckpoint(filepath = checkpoint_filepath8,\n",
        "                                            monitor = 'val_loss',\n",
        "                                            verbose = 1,\n",
        "                                            save_best_only = True,\n",
        "                                            save_weights_only = True,\n",
        "                                            mode = 'auto',\n",
        "                                            save_freq = 'epoch',\n",
        "                                            options = None)\n",
        "\n",
        "# 변수 설정을 따로 하는 방법을 적용하기 위한 코드입니다. \n",
        "batch_size = 32\n",
        "epochs_max = 50\n",
        "\n",
        "# 모델 학습\n",
        "# 위에서 설정한 batch_size, epochs_max 그대로 가져와서 사용하기\n",
        "results8 = EfficientNet_V2B1_model3.fit(train,\n",
        "                                      batch_size = batch_size,\n",
        "                                      epochs = epochs_max,\n",
        "                                      verbose = 1,\n",
        "                                      validation_data = test,\n",
        "                                      callbacks = [early_stop, save_best])"
      ],
      "metadata": {
        "id": "tEaX-2QL3ks4",
        "outputId": "c13dcd8f-2d8f-4798-e889-c1fdd4786593",
        "colab": {
          "base_uri": "https://localhost:8080/"
        }
      },
      "execution_count": 36,
      "outputs": [
        {
          "output_type": "stream",
          "name": "stdout",
          "text": [
            "Epoch 1/50\n",
            "564/564 [==============================] - ETA: 0s - loss: 0.2682 - accuracy: 0.8977 - precision: 0.9050 - recall: 0.8916\n",
            "Epoch 1: val_loss improved from inf to 0.18144, saving model to EfficientNet_V2B1_model3_best.hdf5\n",
            "564/564 [==============================] - 261s 435ms/step - loss: 0.2682 - accuracy: 0.8977 - precision: 0.9050 - recall: 0.8916 - val_loss: 0.1814 - val_accuracy: 0.9267 - val_precision: 0.9276 - val_recall: 0.9262\n",
            "Epoch 2/50\n",
            "564/564 [==============================] - ETA: 0s - loss: 0.1875 - accuracy: 0.9294 - precision: 0.9310 - recall: 0.9279\n",
            "Epoch 2: val_loss improved from 0.18144 to 0.14914, saving model to EfficientNet_V2B1_model3_best.hdf5\n",
            "564/564 [==============================] - 278s 487ms/step - loss: 0.1875 - accuracy: 0.9294 - precision: 0.9310 - recall: 0.9279 - val_loss: 0.1491 - val_accuracy: 0.9411 - val_precision: 0.9411 - val_recall: 0.9411\n",
            "Epoch 3/50\n",
            "564/564 [==============================] - ETA: 0s - loss: 0.1694 - accuracy: 0.9367 - precision: 0.9381 - recall: 0.9359\n",
            "Epoch 3: val_loss improved from 0.14914 to 0.14405, saving model to EfficientNet_V2B1_model3_best.hdf5\n",
            "564/564 [==============================] - 303s 531ms/step - loss: 0.1694 - accuracy: 0.9367 - precision: 0.9381 - recall: 0.9359 - val_loss: 0.1441 - val_accuracy: 0.9476 - val_precision: 0.9476 - val_recall: 0.9476\n",
            "Epoch 4/50\n",
            "564/564 [==============================] - ETA: 0s - loss: 0.1462 - accuracy: 0.9461 - precision: 0.9474 - recall: 0.9454\n",
            "Epoch 4: val_loss did not improve from 0.14405\n",
            "564/564 [==============================] - 274s 479ms/step - loss: 0.1462 - accuracy: 0.9461 - precision: 0.9474 - recall: 0.9454 - val_loss: 0.1498 - val_accuracy: 0.9431 - val_precision: 0.9436 - val_recall: 0.9431\n",
            "Epoch 5/50\n",
            "564/564 [==============================] - ETA: 0s - loss: 0.1307 - accuracy: 0.9506 - precision: 0.9515 - recall: 0.9498\n",
            "Epoch 5: val_loss improved from 0.14405 to 0.13706, saving model to EfficientNet_V2B1_model3_best.hdf5\n",
            "564/564 [==============================] - 249s 435ms/step - loss: 0.1307 - accuracy: 0.9506 - precision: 0.9515 - recall: 0.9498 - val_loss: 0.1371 - val_accuracy: 0.9496 - val_precision: 0.9496 - val_recall: 0.9491\n",
            "Epoch 6/50\n",
            "564/564 [==============================] - ETA: 0s - loss: 0.1162 - accuracy: 0.9552 - precision: 0.9557 - recall: 0.9546\n",
            "Epoch 6: val_loss did not improve from 0.13706\n",
            "564/564 [==============================] - 246s 430ms/step - loss: 0.1162 - accuracy: 0.9552 - precision: 0.9557 - recall: 0.9546 - val_loss: 0.1491 - val_accuracy: 0.9491 - val_precision: 0.9491 - val_recall: 0.9486\n",
            "Epoch 7/50\n",
            "564/564 [==============================] - ETA: 0s - loss: 0.1151 - accuracy: 0.9571 - precision: 0.9580 - recall: 0.9569\n",
            "Epoch 7: val_loss did not improve from 0.13706\n",
            "564/564 [==============================] - 248s 434ms/step - loss: 0.1151 - accuracy: 0.9571 - precision: 0.9580 - recall: 0.9569 - val_loss: 0.1588 - val_accuracy: 0.9516 - val_precision: 0.9521 - val_recall: 0.9516\n",
            "Epoch 8/50\n",
            "564/564 [==============================] - ETA: 0s - loss: 0.0986 - accuracy: 0.9650 - precision: 0.9654 - recall: 0.9645\n",
            "Epoch 8: val_loss did not improve from 0.13706\n",
            "564/564 [==============================] - 251s 439ms/step - loss: 0.0986 - accuracy: 0.9650 - precision: 0.9654 - recall: 0.9645 - val_loss: 0.2091 - val_accuracy: 0.9267 - val_precision: 0.9330 - val_recall: 0.9237\n",
            "Epoch 9/50\n",
            "564/564 [==============================] - ETA: 0s - loss: 0.0935 - accuracy: 0.9656 - precision: 0.9663 - recall: 0.9652\n",
            "Epoch 9: val_loss did not improve from 0.13706\n",
            "564/564 [==============================] - 252s 440ms/step - loss: 0.0935 - accuracy: 0.9656 - precision: 0.9663 - recall: 0.9652 - val_loss: 0.1893 - val_accuracy: 0.9237 - val_precision: 0.9237 - val_recall: 0.9237\n",
            "Epoch 10/50\n",
            "564/564 [==============================] - ETA: 0s - loss: 0.0766 - accuracy: 0.9726 - precision: 0.9728 - recall: 0.9724\n",
            "Epoch 10: val_loss did not improve from 0.13706\n",
            "564/564 [==============================] - 249s 435ms/step - loss: 0.0766 - accuracy: 0.9726 - precision: 0.9728 - recall: 0.9724 - val_loss: 0.1512 - val_accuracy: 0.9446 - val_precision: 0.9456 - val_recall: 0.9446\n",
            "Epoch 11/50\n",
            "564/564 [==============================] - ETA: 0s - loss: 0.0716 - accuracy: 0.9736 - precision: 0.9738 - recall: 0.9735\n",
            "Epoch 11: val_loss did not improve from 0.13706\n",
            "564/564 [==============================] - 857s 2s/step - loss: 0.0716 - accuracy: 0.9736 - precision: 0.9738 - recall: 0.9735 - val_loss: 0.1946 - val_accuracy: 0.9377 - val_precision: 0.9386 - val_recall: 0.9377\n",
            "Epoch 12/50\n",
            "564/564 [==============================] - ETA: 0s - loss: 0.0595 - accuracy: 0.9780 - precision: 0.9783 - recall: 0.9777\n",
            "Epoch 12: val_loss did not improve from 0.13706\n",
            "564/564 [==============================] - 248s 434ms/step - loss: 0.0595 - accuracy: 0.9780 - precision: 0.9783 - recall: 0.9777 - val_loss: 0.1738 - val_accuracy: 0.9456 - val_precision: 0.9456 - val_recall: 0.9456\n",
            "Epoch 13/50\n",
            "564/564 [==============================] - ETA: 0s - loss: 0.0483 - accuracy: 0.9823 - precision: 0.9823 - recall: 0.9821\n",
            "Epoch 13: val_loss did not improve from 0.13706\n",
            "564/564 [==============================] - 248s 434ms/step - loss: 0.0483 - accuracy: 0.9823 - precision: 0.9823 - recall: 0.9821 - val_loss: 0.1940 - val_accuracy: 0.9441 - val_precision: 0.9446 - val_recall: 0.9431\n",
            "Epoch 14/50\n",
            "564/564 [==============================] - ETA: 0s - loss: 0.0396 - accuracy: 0.9865 - precision: 0.9866 - recall: 0.9864\n",
            "Epoch 14: val_loss did not improve from 0.13706\n",
            "564/564 [==============================] - 248s 434ms/step - loss: 0.0396 - accuracy: 0.9865 - precision: 0.9866 - recall: 0.9864 - val_loss: 0.2088 - val_accuracy: 0.9451 - val_precision: 0.9451 - val_recall: 0.9451\n",
            "Epoch 15/50\n",
            "564/564 [==============================] - ETA: 0s - loss: 0.0454 - accuracy: 0.9838 - precision: 0.9840 - recall: 0.9835\n",
            "Epoch 15: val_loss did not improve from 0.13706\n",
            "564/564 [==============================] - 249s 435ms/step - loss: 0.0454 - accuracy: 0.9838 - precision: 0.9840 - recall: 0.9835 - val_loss: 0.2174 - val_accuracy: 0.9397 - val_precision: 0.9397 - val_recall: 0.9397\n",
            "Epoch 15: early stopping\n"
          ]
        }
      ]
    },
    {
      "cell_type": "code",
      "source": [
        "# 학습된 모델을 이용하여 테스트하는 코드\n",
        "test_loss, test_acc, test_precision, test_recall = EfficientNet_V2B1_model3.evaluate(test, verbose = 1)"
      ],
      "metadata": {
        "id": "9LJuxgez3sAD",
        "outputId": "2b086bc6-9f8c-43df-d020-03c6a4273c61",
        "colab": {
          "base_uri": "https://localhost:8080/"
        }
      },
      "execution_count": 37,
      "outputs": [
        {
          "output_type": "stream",
          "name": "stdout",
          "text": [
            "63/63 [==============================] - 21s 276ms/step - loss: 0.2174 - accuracy: 0.9397 - precision: 0.9397 - recall: 0.9397\n"
          ]
        }
      ]
    },
    {
      "cell_type": "code",
      "source": [
        "acc = results8.history['accuracy']\n",
        "val_acc = results8.history['val_accuracy']\n",
        "\n",
        "loss = results8.history['loss']\n",
        "val_loss = results8.history['val_loss']\n",
        "\n",
        "plt.figure(figsize=(8, 8))\n",
        "plt.subplot(2, 1, 1)\n",
        "plt.plot(acc, label='Training Accuracy')\n",
        "plt.plot(val_acc, label='Validation Accuracy')\n",
        "plt.legend(loc='lower right')\n",
        "plt.ylabel('Accuracy')\n",
        "plt.ylim([min(plt.ylim()),1])\n",
        "plt.title('Training and Validation Accuracy')\n",
        "\n",
        "plt.subplot(2, 1, 2)\n",
        "plt.plot(loss, label='Training Loss')\n",
        "plt.plot(val_loss, label='Validation Loss')\n",
        "plt.legend(loc='upper right')\n",
        "plt.ylabel('Cross Entropy')\n",
        "plt.ylim([0,1.0])\n",
        "plt.title('Training and Validation Loss')\n",
        "plt.xlabel('epoch')\n",
        "plt.show()"
      ],
      "metadata": {
        "id": "XNfWAKPD3wwN",
        "outputId": "4775e74b-4c59-4385-88f6-f0aa06d39ef2",
        "colab": {
          "base_uri": "https://localhost:8080/",
          "height": 513
        }
      },
      "execution_count": 38,
      "outputs": [
        {
          "output_type": "display_data",
          "data": {
            "text/plain": [
              "<Figure size 576x576 with 2 Axes>"
            ],
            "image/png": "[encoded data removed]"
          },
          "metadata": {
            "needs_background": "light"
          }
        }
      ]
    },
    {
      "cell_type": "code",
      "source": [
        "EfficientNet_V2B1_model3.load_weights(checkpoint_filepath8)\n",
        "\n",
        "# best model을 이용한 테스트 데이터 예측 정확도 재확인 코드\n",
        "test_loss, test_acc, test_precision, test_recall = EfficientNet_V2B1_model3.evaluate(test, verbose = 1)"
      ],
      "metadata": {
        "id": "RlhAmA9D32bg",
        "outputId": "9fec53a4-4869-46e2-ed59-74cba63342b2",
        "colab": {
          "base_uri": "https://localhost:8080/"
        }
      },
      "execution_count": 39,
      "outputs": [
        {
          "output_type": "stream",
          "name": "stdout",
          "text": [
            "63/63 [==============================] - 21s 280ms/step - loss: 0.1371 - accuracy: 0.9496 - precision: 0.9496 - recall: 0.9491\n"
          ]
        }
      ]
    },
    {
      "cell_type": "code",
      "source": [
        "# Model 저장\n",
        "EfficientNet_V2B1_model3.save('EfficientNet_V2B1_model3.h5')"
      ],
      "metadata": {
        "id": "4w4yEarU4Ai5"
      },
      "execution_count": 40,
      "outputs": []
    },
    {
      "cell_type": "markdown",
      "source": [
        "# EfficientNetV2B1 + 배치 정규화 + Dropout(0.35)"
      ],
      "metadata": {
        "id": "nkcEyXhXJY5I"
      }
    },
    {
      "cell_type": "code",
      "source": [
        "EfficientNet_V2B1 = tf.keras.applications.efficientnet_v2.EfficientNetV2B1(\n",
        "                   include_top = False,\n",
        "                   weights = 'imagenet',\n",
        "                   input_tensor = None,\n",
        "                   input_shape = (256, 256, 3)\n",
        "                   )"
      ],
      "metadata": {
        "id": "OkLAwaUgLWnx"
      },
      "execution_count": 44,
      "outputs": []
    },
    {
      "cell_type": "code",
      "source": [
        "# EfficientNetV2B1 레이어들의 파라미터를 새로운 데이터에 맞게 학습하도록 설정\n",
        "for layer in EfficientNet_V2B1.layers:\n",
        "    layer.trainable = True"
      ],
      "metadata": {
        "id": "vw_k9IVMLaoo"
      },
      "execution_count": 45,
      "outputs": []
    },
    {
      "cell_type": "code",
      "source": [
        "# 모델에 출력층을 생성해준다.\n",
        "x = EfficientNet_V2B1.output\n",
        "x = GlobalAveragePooling2D()(x)\n",
        "x = BatchNormalization()(x)\n",
        "# 다중 분류 모델을 만들어준다.\n",
        "x = Dense(1024, kernel_initializer='uniform')(x)\n",
        "x = BatchNormalization()(x)\n",
        "x = Activation('relu')(x)\n",
        "x = Dropout(0.35)(x)\n",
        "x = Dense(512, kernel_initializer='uniform')(x)\n",
        "x = BatchNormalization()(x)\n",
        "x = Activation('relu')(x)\n",
        "x = Dropout(0.35)(x)\n",
        "x = Dense(256, kernel_initializer='uniform')(x)\n",
        "x = BatchNormalization()(x)\n",
        "x = Activation('relu')(x)\n",
        "x = Dropout(0.35)(x)\n",
        "predictions = Dense(5, activation='softmax')(x) # 출력층을 설계한다.\n",
        "EfficientNet_V2B1_model4 = Model(EfficientNet_V2B1.input, predictions)"
      ],
      "metadata": {
        "id": "TBxu7eGlJbpt"
      },
      "execution_count": 46,
      "outputs": []
    },
    {
      "cell_type": "code",
      "source": [
        "# 모델 컴파일\n",
        "EfficientNet_V2B1_model4.compile(optimizer = 'adam', loss = 'categorical_crossentropy', metrics = ['accuracy', 'Precision','Recall'])"
      ],
      "metadata": {
        "id": "29MxZP6NJw4U"
      },
      "execution_count": 47,
      "outputs": []
    },
    {
      "cell_type": "code",
      "source": [
        "# 학습시킨 데이터를 저장시키기 위한 코드다. \n",
        "checkpoint_filepath9 = \"EfficientNet_V2B1_model4_best.hdf5\"\n",
        "\n",
        "# early stopping\n",
        "# val_loss 모니터링, patience = 10 → 연속적으로 10번이나 값이 나아지지 않으면 조기 종료\n",
        "early_stop = keras.callbacks.EarlyStopping(monitor = 'val_loss', min_delta = 0, patience = 10, verbose = 1)\n",
        "\n",
        "# Validation Set을 기준으로 가장 최적의 모델을 찾기\n",
        "save_best = keras.callbacks.ModelCheckpoint(filepath = checkpoint_filepath9,\n",
        "                                            monitor = 'val_loss',\n",
        "                                            verbose = 1,\n",
        "                                            save_best_only = True,\n",
        "                                            save_weights_only = True,\n",
        "                                            mode = 'auto',\n",
        "                                            save_freq = 'epoch',\n",
        "                                            options = None)\n",
        "\n",
        "# 변수 설정을 따로 하는 방법을 적용하기 위한 코드입니다. \n",
        "batch_size = 32\n",
        "epochs_max = 50\n",
        "\n",
        "# 모델 학습\n",
        "# 위에서 설정한 batch_size, epochs_max 그대로 가져와서 사용하기\n",
        "results9 = EfficientNet_V2B1_model4.fit(train,\n",
        "                                      batch_size = batch_size,\n",
        "                                      epochs = epochs_max,\n",
        "                                      verbose = 1,\n",
        "                                      validation_data = test,\n",
        "                                      callbacks = [early_stop, save_best])"
      ],
      "metadata": {
        "id": "NwGHq0mpJ1BZ",
        "outputId": "53a1c2c4-7776-4be6-9671-987268910203",
        "colab": {
          "base_uri": "https://localhost:8080/"
        }
      },
      "execution_count": 48,
      "outputs": [
        {
          "output_type": "stream",
          "name": "stdout",
          "text": [
            "Epoch 1/50\n",
            "564/564 [==============================] - ETA: 0s - loss: 0.2974 - accuracy: 0.8920 - precision: 0.9012 - recall: 0.8807\n",
            "Epoch 1: val_loss improved from inf to 0.17811, saving model to EfficientNet_V2B1_model4_best.hdf5\n",
            "564/564 [==============================] - 260s 434ms/step - loss: 0.2974 - accuracy: 0.8920 - precision: 0.9012 - recall: 0.8807 - val_loss: 0.1781 - val_accuracy: 0.9257 - val_precision: 0.9270 - val_recall: 0.9252\n",
            "Epoch 2/50\n",
            "564/564 [==============================] - ETA: 0s - loss: 0.1912 - accuracy: 0.9267 - precision: 0.9288 - recall: 0.9244\n",
            "Epoch 2: val_loss improved from 0.17811 to 0.15282, saving model to EfficientNet_V2B1_model4_best.hdf5\n",
            "564/564 [==============================] - 245s 429ms/step - loss: 0.1912 - accuracy: 0.9267 - precision: 0.9288 - recall: 0.9244 - val_loss: 0.1528 - val_accuracy: 0.9406 - val_precision: 0.9406 - val_recall: 0.9406\n",
            "Epoch 3/50\n",
            "564/564 [==============================] - ETA: 0s - loss: 0.1698 - accuracy: 0.9363 - precision: 0.9378 - recall: 0.9345\n",
            "Epoch 3: val_loss did not improve from 0.15282\n",
            "564/564 [==============================] - 1302s 2s/step - loss: 0.1698 - accuracy: 0.9363 - precision: 0.9378 - recall: 0.9345 - val_loss: 0.1790 - val_accuracy: 0.9302 - val_precision: 0.9306 - val_recall: 0.9292\n",
            "Epoch 4/50\n",
            "564/564 [==============================] - ETA: 0s - loss: 0.1485 - accuracy: 0.9434 - precision: 0.9443 - recall: 0.9422\n",
            "Epoch 4: val_loss did not improve from 0.15282\n",
            "564/564 [==============================] - 259s 453ms/step - loss: 0.1485 - accuracy: 0.9434 - precision: 0.9443 - recall: 0.9422 - val_loss: 0.1772 - val_accuracy: 0.9362 - val_precision: 0.9370 - val_recall: 0.9352\n",
            "Epoch 5/50\n",
            "564/564 [==============================] - ETA: 0s - loss: 0.1405 - accuracy: 0.9491 - precision: 0.9503 - recall: 0.9481\n",
            "Epoch 5: val_loss improved from 0.15282 to 0.12869, saving model to EfficientNet_V2B1_model4_best.hdf5\n",
            "564/564 [==============================] - 246s 430ms/step - loss: 0.1405 - accuracy: 0.9491 - precision: 0.9503 - recall: 0.9481 - val_loss: 0.1287 - val_accuracy: 0.9501 - val_precision: 0.9501 - val_recall: 0.9501\n",
            "Epoch 6/50\n",
            "564/564 [==============================] - ETA: 0s - loss: 0.1251 - accuracy: 0.9542 - precision: 0.9548 - recall: 0.9535\n",
            "Epoch 6: val_loss did not improve from 0.12869\n",
            "564/564 [==============================] - 249s 435ms/step - loss: 0.1251 - accuracy: 0.9542 - precision: 0.9548 - recall: 0.9535 - val_loss: 0.2008 - val_accuracy: 0.9307 - val_precision: 0.9311 - val_recall: 0.9307\n",
            "Epoch 7/50\n",
            "564/564 [==============================] - ETA: 0s - loss: 0.1302 - accuracy: 0.9513 - precision: 0.9522 - recall: 0.9504\n",
            "Epoch 7: val_loss did not improve from 0.12869\n",
            "564/564 [==============================] - 245s 428ms/step - loss: 0.1302 - accuracy: 0.9513 - precision: 0.9522 - recall: 0.9504 - val_loss: 0.1563 - val_accuracy: 0.9486 - val_precision: 0.9486 - val_recall: 0.9486\n",
            "Epoch 8/50\n",
            "564/564 [==============================] - ETA: 0s - loss: 0.1163 - accuracy: 0.9570 - precision: 0.9574 - recall: 0.9564\n",
            "Epoch 8: val_loss did not improve from 0.12869\n",
            "564/564 [==============================] - 248s 434ms/step - loss: 0.1163 - accuracy: 0.9570 - precision: 0.9574 - recall: 0.9564 - val_loss: 0.1467 - val_accuracy: 0.9541 - val_precision: 0.9541 - val_recall: 0.9536\n",
            "Epoch 9/50\n",
            "564/564 [==============================] - ETA: 0s - loss: 0.0956 - accuracy: 0.9667 - precision: 0.9672 - recall: 0.9663\n",
            "Epoch 9: val_loss did not improve from 0.12869\n",
            "564/564 [==============================] - 256s 447ms/step - loss: 0.0956 - accuracy: 0.9667 - precision: 0.9672 - recall: 0.9663 - val_loss: 0.1668 - val_accuracy: 0.9441 - val_precision: 0.9446 - val_recall: 0.9441\n",
            "Epoch 10/50\n",
            "564/564 [==============================] - ETA: 0s - loss: 0.0798 - accuracy: 0.9711 - precision: 0.9713 - recall: 0.9710\n",
            "Epoch 10: val_loss did not improve from 0.12869\n",
            "564/564 [==============================] - 248s 433ms/step - loss: 0.0798 - accuracy: 0.9711 - precision: 0.9713 - recall: 0.9710 - val_loss: 0.1826 - val_accuracy: 0.9342 - val_precision: 0.9342 - val_recall: 0.9342\n",
            "Epoch 11/50\n",
            "564/564 [==============================] - ETA: 0s - loss: 0.0731 - accuracy: 0.9729 - precision: 0.9735 - recall: 0.9726\n",
            "Epoch 11: val_loss did not improve from 0.12869\n",
            "564/564 [==============================] - 249s 435ms/step - loss: 0.0731 - accuracy: 0.9729 - precision: 0.9735 - recall: 0.9726 - val_loss: 0.1836 - val_accuracy: 0.9372 - val_precision: 0.9390 - val_recall: 0.9372\n",
            "Epoch 12/50\n",
            "564/564 [==============================] - ETA: 0s - loss: 0.0667 - accuracy: 0.9770 - precision: 0.9771 - recall: 0.9765\n",
            "Epoch 12: val_loss did not improve from 0.12869\n",
            "564/564 [==============================] - 249s 435ms/step - loss: 0.0667 - accuracy: 0.9770 - precision: 0.9771 - recall: 0.9765 - val_loss: 0.1853 - val_accuracy: 0.9496 - val_precision: 0.9501 - val_recall: 0.9496\n",
            "Epoch 13/50\n",
            "564/564 [==============================] - ETA: 0s - loss: 0.0620 - accuracy: 0.9779 - precision: 0.9782 - recall: 0.9778\n",
            "Epoch 13: val_loss did not improve from 0.12869\n",
            "564/564 [==============================] - 291s 511ms/step - loss: 0.0620 - accuracy: 0.9779 - precision: 0.9782 - recall: 0.9778 - val_loss: 0.1947 - val_accuracy: 0.9451 - val_precision: 0.9456 - val_recall: 0.9451\n",
            "Epoch 14/50\n",
            "564/564 [==============================] - ETA: 0s - loss: 0.0480 - accuracy: 0.9830 - precision: 0.9833 - recall: 0.9827\n",
            "Epoch 14: val_loss did not improve from 0.12869\n",
            "564/564 [==============================] - 253s 442ms/step - loss: 0.0480 - accuracy: 0.9830 - precision: 0.9833 - recall: 0.9827 - val_loss: 0.1853 - val_accuracy: 0.9436 - val_precision: 0.9441 - val_recall: 0.9436\n",
            "Epoch 15/50\n",
            "564/564 [==============================] - ETA: 0s - loss: 0.0412 - accuracy: 0.9856 - precision: 0.9858 - recall: 0.9856\n",
            "Epoch 15: val_loss did not improve from 0.12869\n",
            "564/564 [==============================] - 267s 467ms/step - loss: 0.0412 - accuracy: 0.9856 - precision: 0.9858 - recall: 0.9856 - val_loss: 0.2040 - val_accuracy: 0.9456 - val_precision: 0.9461 - val_recall: 0.9456\n",
            "Epoch 15: early stopping\n"
          ]
        }
      ]
    },
    {
      "cell_type": "code",
      "source": [
        "# 학습된 모델을 이용하여 테스트하는 코드\n",
        "test_loss, test_acc, test_precision, test_recall = EfficientNet_V2B1_model4.evaluate(test, verbose = 1)"
      ],
      "metadata": {
        "id": "-2KsU8E4J8BW",
        "outputId": "9fd10403-da58-4d21-d0da-b067bbadacb9",
        "colab": {
          "base_uri": "https://localhost:8080/"
        }
      },
      "execution_count": 49,
      "outputs": [
        {
          "output_type": "stream",
          "name": "stdout",
          "text": [
            "63/63 [==============================] - 21s 279ms/step - loss: 0.2040 - accuracy: 0.9456 - precision: 0.9461 - recall: 0.9456\n"
          ]
        }
      ]
    },
    {
      "cell_type": "code",
      "source": [
        "acc = results9.history['accuracy']\n",
        "val_acc = results9.history['val_accuracy']\n",
        "\n",
        "loss = results9.history['loss']\n",
        "val_loss = results9.history['val_loss']\n",
        "\n",
        "plt.figure(figsize=(8, 8))\n",
        "plt.subplot(2, 1, 1)\n",
        "plt.plot(acc, label='Training Accuracy')\n",
        "plt.plot(val_acc, label='Validation Accuracy')\n",
        "plt.legend(loc='lower right')\n",
        "plt.ylabel('Accuracy')\n",
        "plt.ylim([min(plt.ylim()),1])\n",
        "plt.title('Training and Validation Accuracy')\n",
        "\n",
        "plt.subplot(2, 1, 2)\n",
        "plt.plot(loss, label='Training Loss')\n",
        "plt.plot(val_loss, label='Validation Loss')\n",
        "plt.legend(loc='upper right')\n",
        "plt.ylabel('Cross Entropy')\n",
        "plt.ylim([0,1.0])\n",
        "plt.title('Training and Validation Loss')\n",
        "plt.xlabel('epoch')\n",
        "plt.show()"
      ],
      "metadata": {
        "id": "Nflw6e00J-_e",
        "outputId": "9650e128-b45f-42b0-af64-619caee85bdf",
        "colab": {
          "base_uri": "https://localhost:8080/",
          "height": 513
        }
      },
      "execution_count": 50,
      "outputs": [
        {
          "output_type": "display_data",
          "data": {
            "text/plain": [
              "<Figure size 576x576 with 2 Axes>"
            ],
            "image/png": "[encoded data removed]"
          },
          "metadata": {
            "needs_background": "light"
          }
        }
      ]
    },
    {
      "cell_type": "code",
      "source": [
        "EfficientNet_V2B1_model4.load_weights(checkpoint_filepath9)\n",
        "\n",
        "# best model을 이용한 테스트 데이터 예측 정확도 재확인 코드\n",
        "test_loss, test_acc, test_precision, test_recall = EfficientNet_V2B1_model4.evaluate(test, verbose = 1)"
      ],
      "metadata": {
        "id": "6FwA0MezKEVo",
        "outputId": "fc8ba050-94d5-4f90-94a0-c61d0f281c72",
        "colab": {
          "base_uri": "https://localhost:8080/"
        }
      },
      "execution_count": 51,
      "outputs": [
        {
          "output_type": "stream",
          "name": "stdout",
          "text": [
            "63/63 [==============================] - 49s 722ms/step - loss: 0.1287 - accuracy: 0.9501 - precision: 0.9501 - recall: 0.9501\n"
          ]
        }
      ]
    },
    {
      "cell_type": "code",
      "source": [
        "# Model 저장\n",
        "EfficientNet_V2B1_model4.save('EfficientNet_V2B1_model4.h5')"
      ],
      "metadata": {
        "id": "Uw1TEzIHKJSU"
      },
      "execution_count": 52,
      "outputs": []
    }
  ]
}