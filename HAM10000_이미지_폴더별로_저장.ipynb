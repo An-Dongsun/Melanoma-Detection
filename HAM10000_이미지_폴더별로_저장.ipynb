{
  "nbformat": 4,
  "nbformat_minor": 0,
  "metadata": {
    "colab": {
      "provenance": [],
      "collapsed_sections": [],
      "mount_file_id": "1ZNVb7Ps_Mt902A9JE2vs5b32qTEPaC_7",
      "authorship_tag": "ABX9TyOxfuxsWepPawAlHJrJylIL",
      "include_colab_link": true
    },
    "kernelspec": {
      "name": "python3",
      "display_name": "Python 3"
    },
    "language_info": {
      "name": "python"
    }
  },
  "cells": [
    {
      "cell_type": "markdown",
      "metadata": {
        "id": "view-in-github",
        "colab_type": "text"
      },
      "source": [
        "<a href=\"https://colab.research.google.com/github/An-Dongsun/Melanoma-Detection/blob/main/HAM10000_%EC%9D%B4%EB%AF%B8%EC%A7%80_%ED%8F%B4%EB%8D%94%EB%B3%84%EB%A1%9C_%EC%A0%80%EC%9E%A5.ipynb\" target=\"_parent\"><img src=\"https://colab.research.google.com/assets/colab-badge.svg\" alt=\"Open In Colab\"/></a>"
      ]
    },
    {
      "cell_type": "markdown",
      "source": [
        "# 데이터셋 출처\n",
        "* kaggle\n",
        "* Skin cancer: HAM10000\n",
        "* https://www.kaggle.com/datasets/surajghuwalewala/ham1000-segmentation-and-classification?select=masks"
      ],
      "metadata": {
        "id": "Vx8u5-MZYxQz"
      }
    },
    {
      "cell_type": "code",
      "execution_count": null,
      "metadata": {
        "id": "c8cENkyl9XVd"
      },
      "outputs": [],
      "source": [
        "import pandas as pd"
      ]
    },
    {
      "cell_type": "markdown",
      "source": [
        "# 구글 드라이브에서 HAM:10000의 csv 파일을 가져온다."
      ],
      "metadata": {
        "id": "w5qNeJFhWTsi"
      }
    },
    {
      "cell_type": "code",
      "source": [
        "df = pd.read_csv('/content/drive/MyDrive/CP1 데이터/Skin cancer HAM10000/GroundTruth.csv')"
      ],
      "metadata": {
        "id": "EPhQ_p3J9iho"
      },
      "execution_count": null,
      "outputs": []
    },
    {
      "cell_type": "code",
      "source": [
        "df.head()"
      ],
      "metadata": {
        "colab": {
          "base_uri": "https://localhost:8080/",
          "height": 206
        },
        "id": "oQ-P38vCa1WF",
        "outputId": "1927731b-36c7-4b97-8877-0c0929d748e1"
      },
      "execution_count": null,
      "outputs": [
        {
          "output_type": "execute_result",
          "data": {
            "text/plain": [
              "          image  MEL   NV  BCC  AKIEC  BKL   DF  VASC\n",
              "0  ISIC_0024306  0.0  1.0  0.0    0.0  0.0  0.0   0.0\n",
              "1  ISIC_0024307  0.0  1.0  0.0    0.0  0.0  0.0   0.0\n",
              "2  ISIC_0024308  0.0  1.0  0.0    0.0  0.0  0.0   0.0\n",
              "3  ISIC_0024309  0.0  1.0  0.0    0.0  0.0  0.0   0.0\n",
              "4  ISIC_0024310  1.0  0.0  0.0    0.0  0.0  0.0   0.0"
            ],
            "text/html": [
              "\n",
              "  <div id=\"df-387979d9-bdb9-4973-90ba-83174b94d783\">\n",
              "    <div class=\"colab-df-container\">\n",
              "      <div>\n",
              "<style scoped>\n",
              "    .dataframe tbody tr th:only-of-type {\n",
              "        vertical-align: middle;\n",
              "    }\n",
              "\n",
              "    .dataframe tbody tr th {\n",
              "        vertical-align: top;\n",
              "    }\n",
              "\n",
              "    .dataframe thead th {\n",
              "        text-align: right;\n",
              "    }\n",
              "</style>\n",
              "<table border=\"1\" class=\"dataframe\">\n",
              "  <thead>\n",
              "    <tr style=\"text-align: right;\">\n",
              "      <th></th>\n",
              "      <th>image</th>\n",
              "      <th>MEL</th>\n",
              "      <th>NV</th>\n",
              "      <th>BCC</th>\n",
              "      <th>AKIEC</th>\n",
              "      <th>BKL</th>\n",
              "      <th>DF</th>\n",
              "      <th>VASC</th>\n",
              "    </tr>\n",
              "  </thead>\n",
              "  <tbody>\n",
              "    <tr>\n",
              "      <th>0</th>\n",
              "      <td>ISIC_0024306</td>\n",
              "      <td>0.0</td>\n",
              "      <td>1.0</td>\n",
              "      <td>0.0</td>\n",
              "      <td>0.0</td>\n",
              "      <td>0.0</td>\n",
              "      <td>0.0</td>\n",
              "      <td>0.0</td>\n",
              "    </tr>\n",
              "    <tr>\n",
              "      <th>1</th>\n",
              "      <td>ISIC_0024307</td>\n",
              "      <td>0.0</td>\n",
              "      <td>1.0</td>\n",
              "      <td>0.0</td>\n",
              "      <td>0.0</td>\n",
              "      <td>0.0</td>\n",
              "      <td>0.0</td>\n",
              "      <td>0.0</td>\n",
              "    </tr>\n",
              "    <tr>\n",
              "      <th>2</th>\n",
              "      <td>ISIC_0024308</td>\n",
              "      <td>0.0</td>\n",
              "      <td>1.0</td>\n",
              "      <td>0.0</td>\n",
              "      <td>0.0</td>\n",
              "      <td>0.0</td>\n",
              "      <td>0.0</td>\n",
              "      <td>0.0</td>\n",
              "    </tr>\n",
              "    <tr>\n",
              "      <th>3</th>\n",
              "      <td>ISIC_0024309</td>\n",
              "      <td>0.0</td>\n",
              "      <td>1.0</td>\n",
              "      <td>0.0</td>\n",
              "      <td>0.0</td>\n",
              "      <td>0.0</td>\n",
              "      <td>0.0</td>\n",
              "      <td>0.0</td>\n",
              "    </tr>\n",
              "    <tr>\n",
              "      <th>4</th>\n",
              "      <td>ISIC_0024310</td>\n",
              "      <td>1.0</td>\n",
              "      <td>0.0</td>\n",
              "      <td>0.0</td>\n",
              "      <td>0.0</td>\n",
              "      <td>0.0</td>\n",
              "      <td>0.0</td>\n",
              "      <td>0.0</td>\n",
              "    </tr>\n",
              "  </tbody>\n",
              "</table>\n",
              "</div>\n",
              "      <button class=\"colab-df-convert\" onclick=\"convertToInteractive('df-387979d9-bdb9-4973-90ba-83174b94d783')\"\n",
              "              title=\"Convert this dataframe to an interactive table.\"\n",
              "              style=\"display:none;\">\n",
              "        \n",
              "  <svg xmlns=\"http://www.w3.org/2000/svg\" height=\"24px\"viewBox=\"0 0 24 24\"\n",
              "       width=\"24px\">\n",
              "    <path d=\"M0 0h24v24H0V0z\" fill=\"none\"/>\n",
              "    <path d=\"M18.56 5.44l.94 2.06.94-2.06 2.06-.94-2.06-.94-.94-2.06-.94 2.06-2.06.94zm-11 1L8.5 8.5l.94-2.06 2.06-.94-2.06-.94L8.5 2.5l-.94 2.06-2.06.94zm10 10l.94 2.06.94-2.06 2.06-.94-2.06-.94-.94-2.06-.94 2.06-2.06.94z\"/><path d=\"M17.41 7.96l-1.37-1.37c-.4-.4-.92-.59-1.43-.59-.52 0-1.04.2-1.43.59L10.3 9.45l-7.72 7.72c-.78.78-.78 2.05 0 2.83L4 21.41c.39.39.9.59 1.41.59.51 0 1.02-.2 1.41-.59l7.78-7.78 2.81-2.81c.8-.78.8-2.07 0-2.86zM5.41 20L4 18.59l7.72-7.72 1.47 1.35L5.41 20z\"/>\n",
              "  </svg>\n",
              "      </button>\n",
              "      \n",
              "  <style>\n",
              "    .colab-df-container {\n",
              "      display:flex;\n",
              "      flex-wrap:wrap;\n",
              "      gap: 12px;\n",
              "    }\n",
              "\n",
              "    .colab-df-convert {\n",
              "      background-color: #E8F0FE;\n",
              "      border: none;\n",
              "      border-radius: 50%;\n",
              "      cursor: pointer;\n",
              "      display: none;\n",
              "      fill: #1967D2;\n",
              "      height: 32px;\n",
              "      padding: 0 0 0 0;\n",
              "      width: 32px;\n",
              "    }\n",
              "\n",
              "    .colab-df-convert:hover {\n",
              "      background-color: #E2EBFA;\n",
              "      box-shadow: 0px 1px 2px rgba(60, 64, 67, 0.3), 0px 1px 3px 1px rgba(60, 64, 67, 0.15);\n",
              "      fill: #174EA6;\n",
              "    }\n",
              "\n",
              "    [theme=dark] .colab-df-convert {\n",
              "      background-color: #3B4455;\n",
              "      fill: #D2E3FC;\n",
              "    }\n",
              "\n",
              "    [theme=dark] .colab-df-convert:hover {\n",
              "      background-color: #434B5C;\n",
              "      box-shadow: 0px 1px 3px 1px rgba(0, 0, 0, 0.15);\n",
              "      filter: drop-shadow(0px 1px 2px rgba(0, 0, 0, 0.3));\n",
              "      fill: #FFFFFF;\n",
              "    }\n",
              "  </style>\n",
              "\n",
              "      <script>\n",
              "        const buttonEl =\n",
              "          document.querySelector('#df-387979d9-bdb9-4973-90ba-83174b94d783 button.colab-df-convert');\n",
              "        buttonEl.style.display =\n",
              "          google.colab.kernel.accessAllowed ? 'block' : 'none';\n",
              "\n",
              "        async function convertToInteractive(key) {\n",
              "          const element = document.querySelector('#df-387979d9-bdb9-4973-90ba-83174b94d783');\n",
              "          const dataTable =\n",
              "            await google.colab.kernel.invokeFunction('convertToInteractive',\n",
              "                                                     [key], {});\n",
              "          if (!dataTable) return;\n",
              "\n",
              "          const docLinkHtml = 'Like what you see? Visit the ' +\n",
              "            '<a target=\"_blank\" href=https://colab.research.google.com/notebooks/data_table.ipynb>data table notebook</a>'\n",
              "            + ' to learn more about interactive tables.';\n",
              "          element.innerHTML = '';\n",
              "          dataTable['output_type'] = 'display_data';\n",
              "          await google.colab.output.renderOutput(dataTable, element);\n",
              "          const docLink = document.createElement('div');\n",
              "          docLink.innerHTML = docLinkHtml;\n",
              "          element.appendChild(docLink);\n",
              "        }\n",
              "      </script>\n",
              "    </div>\n",
              "  </div>\n",
              "  "
            ]
          },
          "metadata": {},
          "execution_count": 24
        }
      ]
    },
    {
      "cell_type": "code",
      "source": [
        "df.info()"
      ],
      "metadata": {
        "colab": {
          "base_uri": "https://localhost:8080/"
        },
        "id": "FRqWnzd7Wdz7",
        "outputId": "78aaa5af-6dfa-43b0-9aa8-5e6862d754f0"
      },
      "execution_count": null,
      "outputs": [
        {
          "output_type": "stream",
          "name": "stdout",
          "text": [
            "<class 'pandas.core.frame.DataFrame'>\n",
            "RangeIndex: 10015 entries, 0 to 10014\n",
            "Data columns (total 8 columns):\n",
            " #   Column  Non-Null Count  Dtype  \n",
            "---  ------  --------------  -----  \n",
            " 0   image   10015 non-null  object \n",
            " 1   MEL     10015 non-null  float64\n",
            " 2   NV      10015 non-null  float64\n",
            " 3   BCC     10015 non-null  float64\n",
            " 4   AKIEC   10015 non-null  float64\n",
            " 5   BKL     10015 non-null  float64\n",
            " 6   DF      10015 non-null  float64\n",
            " 7   VASC    10015 non-null  float64\n",
            "dtypes: float64(7), object(1)\n",
            "memory usage: 626.1+ KB\n"
          ]
        }
      ]
    },
    {
      "cell_type": "code",
      "source": [
        "df.columns[1:]"
      ],
      "metadata": {
        "colab": {
          "base_uri": "https://localhost:8080/"
        },
        "id": "c8H21arMXR3b",
        "outputId": "73b5090d-b049-4588-c4a4-3f452d825fa1"
      },
      "execution_count": null,
      "outputs": [
        {
          "output_type": "execute_result",
          "data": {
            "text/plain": [
              "Index(['MEL', 'NV', 'BCC', 'AKIEC', 'BKL', 'DF', 'VASC'], dtype='object')"
            ]
          },
          "metadata": {},
          "execution_count": 21
        }
      ]
    },
    {
      "cell_type": "code",
      "source": [
        "# 각 질병의 사진이 몇개씩 있는지 확인한다.\n",
        "for i in df.columns[1:]:\n",
        "    print(f'{i} :',df['image'][df[f'{i}'] == 1].count())"
      ],
      "metadata": {
        "colab": {
          "base_uri": "https://localhost:8080/"
        },
        "id": "JbyB1E2qWe8B",
        "outputId": "cee408cb-3810-49cf-e4ad-fc8a3ca85fa4"
      },
      "execution_count": null,
      "outputs": [
        {
          "output_type": "stream",
          "name": "stdout",
          "text": [
            "MEL : 1113\n",
            "NV : 6705\n",
            "BCC : 514\n",
            "AKIEC : 327\n",
            "BKL : 1099\n",
            "DF : 115\n",
            "VASC : 142\n"
          ]
        }
      ]
    },
    {
      "cell_type": "code",
      "source": [
        "df['image'][df['BCC'] == 1]"
      ],
      "metadata": {
        "colab": {
          "base_uri": "https://localhost:8080/"
        },
        "id": "cGXTCuMHbBIg",
        "outputId": "e8d34ae8-bbf5-46f2-9bf8-5716bf87e24b"
      },
      "execution_count": null,
      "outputs": [
        {
          "output_type": "execute_result",
          "data": {
            "text/plain": [
              "25       ISIC_0024331\n",
              "26       ISIC_0024332\n",
              "39       ISIC_0024345\n",
              "54       ISIC_0024360\n",
              "97       ISIC_0024403\n",
              "             ...     \n",
              "9917     ISIC_0034223\n",
              "9949     ISIC_0034255\n",
              "9970     ISIC_0034276\n",
              "9993     ISIC_0034299\n",
              "10000    ISIC_0034306\n",
              "Name: image, Length: 514, dtype: object"
            ]
          },
          "metadata": {},
          "execution_count": 29
        }
      ]
    },
    {
      "cell_type": "markdown",
      "source": [
        "# 질환별로 폴더를 만들어서 이미지를 옮겨준다.\n",
        "* https://www.delftstack.com/ko/howto/python/python-move-file/"
      ],
      "metadata": {
        "id": "EXoPJ5GQZNnw"
      }
    },
    {
      "cell_type": "code",
      "source": [
        "import shutil\n",
        "import os"
      ],
      "metadata": {
        "id": "LwoOHWwfYsw5"
      },
      "execution_count": null,
      "outputs": []
    },
    {
      "cell_type": "code",
      "source": [
        "for i in df.columns[1:]:\n",
        "    for j in df['image'][df[f'{i}'] == 1]:\n",
        "        # 기존 경로, 새 경로\n",
        "        shutil.move(f\"/content/drive/MyDrive/CP1 데이터/Skin cancer HAM10000/images/{j}.jpg\", f\"/content/drive/MyDrive/CP1 데이터/Skin cancer HAM10000/{i}/{j}.jpg\")"
      ],
      "metadata": {
        "id": "qVgxD23YaFH5"
      },
      "execution_count": null,
      "outputs": []
    },
    {
      "cell_type": "markdown",
      "source": [
        "# 잘 분류되었는지 확인해준다.\n",
        "\n",
        "* https://seong6496.tistory.com/100"
      ],
      "metadata": {
        "id": "cc1WMuXreaCJ"
      }
    },
    {
      "cell_type": "code",
      "source": [
        "file_list = os.listdir('/content/drive/MyDrive/CP1 데이터/Skin cancer HAM10000/AKIEC')\n",
        "file_list[0][:-4]"
      ],
      "metadata": {
        "colab": {
          "base_uri": "https://localhost:8080/",
          "height": 36
        },
        "id": "Tg5BFJ4pgC1s",
        "outputId": "affa7997-dc4b-44ef-9c49-1e8d4377d8e0"
      },
      "execution_count": null,
      "outputs": [
        {
          "output_type": "execute_result",
          "data": {
            "text/plain": [
              "'ISIC_0033413'"
            ],
            "application/vnd.google.colaboratory.intrinsic+json": {
              "type": "string"
            }
          },
          "metadata": {},
          "execution_count": 40
        }
      ]
    },
    {
      "cell_type": "code",
      "source": [
        "df['AKIEC'][df['image'] == file_list[0][:-4]]"
      ],
      "metadata": {
        "colab": {
          "base_uri": "https://localhost:8080/"
        },
        "id": "XW0WXCkThMew",
        "outputId": "28d3f345-5aba-4897-c405-381a5e657aa0"
      },
      "execution_count": null,
      "outputs": [
        {
          "output_type": "execute_result",
          "data": {
            "text/plain": [
              "9027    0.0\n",
              "Name: AKIEC, dtype: float64"
            ]
          },
          "metadata": {},
          "execution_count": 46
        }
      ]
    },
    {
      "cell_type": "code",
      "source": [
        "for i in df.columns[1:]:\n",
        "    # 해당 폴더에 있는 파일목록을 리스트로 가져온다.\n",
        "    file_list = os.listdir(f'/content/drive/MyDrive/CP1 데이터/Skin cancer HAM10000/{i}')\n",
        "    counter = 0\n",
        "    # 해당 컬럼에 해당하는 데이터만 가져온다.\n",
        "    df2 = df[df[f'{i}'] == 1]\n",
        "    for i in df2['image']:\n",
        "        if i not in file_list:\n",
        "            continue\n",
        "        else:\n",
        "            counter += 1\n",
        "\n",
        "    print(counter)"
      ],
      "metadata": {
        "colab": {
          "base_uri": "https://localhost:8080/"
        },
        "id": "eD562FBjec94",
        "outputId": "3755a8b8-1f5a-43d5-aed4-cb8b83ed73c6"
      },
      "execution_count": null,
      "outputs": [
        {
          "output_type": "stream",
          "name": "stdout",
          "text": [
            "0\n",
            "0\n",
            "0\n",
            "0\n",
            "0\n",
            "0\n",
            "0\n"
          ]
        }
      ]
    },
    {
      "cell_type": "code",
      "source": [
        "for i in df.columns[1:]:\n",
        "    # 해당 폴더에 있는 파일목록을 리스트로 가져온다.\n",
        "    file_list = os.listdir(f'/content/drive/MyDrive/CP1 데이터/Skin cancer HAM10000/{i}')\n",
        "    counter = 0\n",
        "    # 해당 컬럼에 해당하는 데이터만 가져온다.\n",
        "    df2 = df[df[f'{i}'] == 1]\n",
        "    for i in df2['image']:\n",
        "        if i in file_list:\n",
        "            continue\n",
        "        else:\n",
        "            counter += 1\n",
        "\n",
        "    print(counter)"
      ],
      "metadata": {
        "colab": {
          "base_uri": "https://localhost:8080/"
        },
        "id": "P7n1UxBPpD8O",
        "outputId": "d0e9f183-51db-4b87-f6e9-3ae36e87366a"
      },
      "execution_count": null,
      "outputs": [
        {
          "output_type": "stream",
          "name": "stdout",
          "text": [
            "1113\n",
            "6705\n",
            "514\n",
            "327\n",
            "1099\n",
            "115\n",
            "142\n"
          ]
        }
      ]
    },
    {
      "cell_type": "markdown",
      "source": [
        "* 위에서 구한 갯수와 동일하다.\n",
        "* 잘못 들어간 데이터가 없다."
      ],
      "metadata": {
        "id": "eFZpC0chpIPd"
      }
    },
    {
      "cell_type": "markdown",
      "source": [
        "# 흑색종 데이터셋 zip 파일을 압축 해제 해준다.\n",
        "* https://code.tutsplus.com/ko/tutorials/compressing-and-extracting-files-in-python--cms-26816"
      ],
      "metadata": {
        "id": "sdjYFcAzstbq"
      }
    },
    {
      "cell_type": "code",
      "source": [
        "import zipfile\n",
        "         \n",
        "fantasy_zip = zipfile.ZipFile('/content/drive/MyDrive/CP1 데이터/흑색종.zip')\n",
        "fantasy_zip.extractall('/content/drive/MyDrive/CP1 데이터')\n",
        " \n",
        "fantasy_zip.close()"
      ],
      "metadata": {
        "id": "N7ovvgZ4stC6"
      },
      "execution_count": null,
      "outputs": []
    }
  ]
}